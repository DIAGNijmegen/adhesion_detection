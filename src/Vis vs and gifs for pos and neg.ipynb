{
 "cells": [
  {
   "cell_type": "code",
   "execution_count": 1,
   "id": "warming-rotation",
   "metadata": {},
   "outputs": [],
   "source": [
    "from pathlib import Path\n",
    "from skimage import io\n",
    "import numpy as np\n",
    "import matplotlib.pyplot as plt\n",
    "import IPython.display as display\n",
    "from IPython.display import Image\n",
    "import ipywidgets as widgets\n",
    "%matplotlib inline"
   ]
  },
  {
   "cell_type": "code",
   "execution_count": 2,
   "id": "arctic-services",
   "metadata": {},
   "outputs": [],
   "source": [
    "vs_path = Path(\"../../data/visualization/visceral_slide/cumulative_vs_contour_reg_full\")\n",
    "gifs_path = Path(\"../../experiments/detection_gifs\")"
   ]
  },
  {
   "cell_type": "markdown",
   "id": "former-morning",
   "metadata": {},
   "source": [
    "# Positive"
   ]
  },
  {
   "cell_type": "code",
   "execution_count": 4,
   "id": "strategic-criterion",
   "metadata": {},
   "outputs": [
    {
     "name": "stdout",
     "output_type": "stream",
     "text": [
      "ANON4U03RE1DB_1.2.752.24.7.621449243.4490940_1.3.12.2.1107.5.2.30.26380.2019051309524052613408667.0.0.0\n"
     ]
    },
    {
     "data": {
      "application/vnd.jupyter.widget-view+json": {
       "model_id": "19741b1fc4e241a2bdeb1338cc33ed1d",
       "version_major": 2,
       "version_minor": 0
      },
      "text/plain": [
       "HBox(children=(Image(value=b'GIF89a\\x15\\x01q\\x01\\xf7\\x00\\x00\\x00\\x00\\x00\\x01\\x01\\x01\\x02\\x02\\x02\\x03\\x03\\x03\\x…"
      ]
     },
     "metadata": {},
     "output_type": "display_data"
    },
    {
     "name": "stdout",
     "output_type": "stream",
     "text": [
      "ANONN723RE1UR_1.2.752.24.7.621449243.4492314_1.3.12.2.1107.5.2.30.26380.2019050914292137466747347.0.0.0\n"
     ]
    },
    {
     "data": {
      "application/vnd.jupyter.widget-view+json": {
       "model_id": "c51b659e56924b8898e5336a2ead9b0e",
       "version_major": 2,
       "version_minor": 0
      },
      "text/plain": [
       "HBox(children=(Image(value=b'GIF89a\\x15\\x01q\\x01\\xf6\\x00\\x00\\x01\\x01\\x01\\x0b\\x0b\\x0b\\x14\\x14\\x14\\x1c\\x1c\\x1c6\\…"
      ]
     },
     "metadata": {},
     "output_type": "display_data"
    },
    {
     "name": "stdout",
     "output_type": "stream",
     "text": [
      "ANON30V2RE10K_1.2.752.24.7.621449243.4463171_1.3.12.2.1107.5.2.30.26380.2019040611294615361516074.0.0.0\n"
     ]
    },
    {
     "data": {
      "application/vnd.jupyter.widget-view+json": {
       "model_id": "721473aa12774a3f82da0faa9082ca30",
       "version_major": 2,
       "version_minor": 0
      },
      "text/plain": [
       "HBox(children=(Image(value=b'GIF89a\\x15\\x01q\\x01\\xf6\\x00\\x00\\x00\\x00\\x00\\r\\r\\r\\x14\\x14\\x14\\x1b\\x1b\\x1b5\\x03\\x0…"
      ]
     },
     "metadata": {},
     "output_type": "display_data"
    },
    {
     "name": "stdout",
     "output_type": "stream",
     "text": [
      "ANONBQV2RE1TL_1.2.752.24.7.621449243.4447116_1.3.12.2.1107.5.2.30.26380.2019042413222771394051286.0.0.0\n"
     ]
    },
    {
     "data": {
      "application/vnd.jupyter.widget-view+json": {
       "model_id": "725e30cdf9154ad1a19c1ee0e56f5a88",
       "version_major": 2,
       "version_minor": 0
      },
      "text/plain": [
       "HBox(children=(Image(value=b'GIF89a\\x15\\x01q\\x01\\xf6\\x00\\x00\\x01\\x01\\x01\\x0c\\x0c\\x0c\\x14\\x14\\x14\\x1b\\x1b\\x1b6\\…"
      ]
     },
     "metadata": {},
     "output_type": "display_data"
    },
    {
     "name": "stdout",
     "output_type": "stream",
     "text": [
      "ANONVLTEPE1DL_1.2.752.24.7.621449243.4325333_1.3.12.2.1107.5.2.30.26380.201812031644485580669653.0.0.0\n"
     ]
    },
    {
     "data": {
      "application/vnd.jupyter.widget-view+json": {
       "model_id": "6d0ca093c5c84442a5085afb09f4d6b5",
       "version_major": 2,
       "version_minor": 0
      },
      "text/plain": [
       "HBox(children=(Image(value=b'GIF89a\\x15\\x01q\\x01\\xf5\\x00\\x00\\x02\\x02\\x02\\x0c\\x0c\\x0c\\x13\\x13\\x13\\x1b\\x1b\\x1b6\\…"
      ]
     },
     "metadata": {},
     "output_type": "display_data"
    },
    {
     "name": "stdout",
     "output_type": "stream",
     "text": [
      "ANON4SV2RE1ET_1.2.752.24.7.621449243.4474616_1.3.12.2.1107.5.2.30.26380.2019060311155223544425245.0.0.0\n"
     ]
    },
    {
     "data": {
      "application/vnd.jupyter.widget-view+json": {
       "model_id": "f9ae82dc03d049869959e1a787c7a863",
       "version_major": 2,
       "version_minor": 0
      },
      "text/plain": [
       "HBox(children=(Image(value=b'GIF89a\\x15\\x01q\\x01\\xf6\\x00\\x00\\x01\\x01\\x01\\x0c\\x0c\\x0c\\x14\\x14\\x14\\x1c\\x1c\\x1c6\\…"
      ]
     },
     "metadata": {},
     "output_type": "display_data"
    },
    {
     "name": "stdout",
     "output_type": "stream",
     "text": [
      "ANONTN13RE127_1.2.752.24.7.621449243.4463282_1.3.12.2.1107.5.2.30.26380.201905061109578189022688.0.0.0\n"
     ]
    },
    {
     "data": {
      "application/vnd.jupyter.widget-view+json": {
       "model_id": "1e8a4e195a3345829e490291675e805b",
       "version_major": 2,
       "version_minor": 0
      },
      "text/plain": [
       "HBox(children=(Image(value=b'GIF89a\\x15\\x01q\\x01\\xf6\\x00\\x00\\x02\\x02\\x02\\x0c\\x0c\\x0c\\x14\\x14\\x14\\x1c\\x1c\\x1c4\\…"
      ]
     },
     "metadata": {},
     "output_type": "display_data"
    },
    {
     "name": "stdout",
     "output_type": "stream",
     "text": [
      "ANON7613RE1S5_1.2.752.24.7.621449243.4432439_1.3.12.2.1107.5.2.30.26380.2019041714480823565264581.0.0.0\n"
     ]
    },
    {
     "data": {
      "application/vnd.jupyter.widget-view+json": {
       "model_id": "794849171df447e88d7c113a0dd171a6",
       "version_major": 2,
       "version_minor": 0
      },
      "text/plain": [
       "HBox(children=(Image(value=b'GIF89a\\x15\\x01q\\x01\\xf6\\x00\\x00\\x01\\x01\\x01\\x0c\\x0c\\x0c\\x14\\x14\\x14\\x1c\\x1c\\x1c6\\…"
      ]
     },
     "metadata": {},
     "output_type": "display_data"
    },
    {
     "name": "stdout",
     "output_type": "stream",
     "text": [
      "ANONA523RE1VM_1.2.752.24.7.621449243.4465961_1.3.12.2.1107.5.2.30.26380.2019042412475820646639835.0.0.0\n"
     ]
    },
    {
     "data": {
      "application/vnd.jupyter.widget-view+json": {
       "model_id": "9636369ddd104844a8af9469f0de033f",
       "version_major": 2,
       "version_minor": 0
      },
      "text/plain": [
       "HBox(children=(Image(value=b'GIF89a\\x15\\x01q\\x01\\xf6\\x00\\x00\\x01\\x01\\x01\\x0b\\x0b\\x0b\\x14\\x14\\x14\\x1c\\x1c\\x1c6\\…"
      ]
     },
     "metadata": {},
     "output_type": "display_data"
    },
    {
     "name": "stdout",
     "output_type": "stream",
     "text": [
      "ANONVLTEPE1DL_1.2.752.24.7.621449243.4325333_1.3.12.2.1107.5.2.30.26380.2018120316464514960570273.0.0.0\n"
     ]
    },
    {
     "data": {
      "application/vnd.jupyter.widget-view+json": {
       "model_id": "ef6536c0cb8b4ee1bc4f513145752967",
       "version_major": 2,
       "version_minor": 0
      },
      "text/plain": [
       "HBox(children=(Image(value=b'GIF89a\\x15\\x01q\\x01\\xf7\\x00\\x00\\x00\\x00\\x00\\x01\\x01\\x01\\x02\\x02\\x02\\x03\\x03\\x03\\x…"
      ]
     },
     "metadata": {},
     "output_type": "display_data"
    },
    {
     "name": "stdout",
     "output_type": "stream",
     "text": [
      "ANONVLTEPE1DL_1.2.752.24.7.621449243.4325333_1.3.12.2.1107.5.2.30.26380.201812031646035179970025.0.0.0\n"
     ]
    },
    {
     "data": {
      "application/vnd.jupyter.widget-view+json": {
       "model_id": "ead68f362c7a47bca5a5a5869f638b28",
       "version_major": 2,
       "version_minor": 0
      },
      "text/plain": [
       "HBox(children=(Image(value=b'GIF89a\\x15\\x01q\\x01\\xf5\\x00\\x00\\x03\\x03\\x03\\x0c\\x0c\\x0c\\x13\\x13\\x13\\x1b\\x1b\\x1b6\\…"
      ]
     },
     "metadata": {},
     "output_type": "display_data"
    },
    {
     "name": "stdout",
     "output_type": "stream",
     "text": [
      "ANON4SV2RE1ET_1.2.752.24.7.621449243.4474616_1.3.12.2.1107.5.2.30.26380.2019060311131653190024186.0.0.0\n"
     ]
    },
    {
     "data": {
      "application/vnd.jupyter.widget-view+json": {
       "model_id": "5a98cc5da5044ef587bea5c67168787c",
       "version_major": 2,
       "version_minor": 0
      },
      "text/plain": [
       "HBox(children=(Image(value=b'GIF89a\\x15\\x01q\\x01\\xf5\\x00\\x00\\x01\\x01\\x01\\x0c\\x0c\\x0c\\x14\\x14\\x14\\x1b\\x1b\\x1b6\\…"
      ]
     },
     "metadata": {},
     "output_type": "display_data"
    },
    {
     "name": "stdout",
     "output_type": "stream",
     "text": [
      "ANON4I13RE1BS_1.2.752.24.7.621449243.4233643_1.3.12.2.1107.5.2.30.26380.2018091908505948323707410.0.0.0\n"
     ]
    },
    {
     "data": {
      "application/vnd.jupyter.widget-view+json": {
       "model_id": "fd707f4c82234055862084a9cfb45456",
       "version_major": 2,
       "version_minor": 0
      },
      "text/plain": [
       "HBox(children=(Image(value=b'GIF89a\\x15\\x01q\\x01\\xf6\\x00\\x00\\x01\\x01\\x01\\x0b\\x0b\\x0b\\x14\\x14\\x14\\x1c\\x1c\\x1c7\\…"
      ]
     },
     "metadata": {},
     "output_type": "display_data"
    },
    {
     "name": "stdout",
     "output_type": "stream",
     "text": [
      "ANONP203RE1JR_1.2.752.24.7.621449243.4374998_1.3.12.2.1107.5.2.30.26380.2019022013503522225648680.0.0.0\n"
     ]
    },
    {
     "data": {
      "application/vnd.jupyter.widget-view+json": {
       "model_id": "fbd235e440064c758fd8f494d1ca9e63",
       "version_major": 2,
       "version_minor": 0
      },
      "text/plain": [
       "HBox(children=(Image(value=b'GIF89a\\x15\\x01q\\x01\\xf6\\x00\\x00\\x01\\x01\\x01\\x0c\\x0c\\x0c\\x14\\x14\\x14\\x1c\\x1c\\x1c3\\…"
      ]
     },
     "metadata": {},
     "output_type": "display_data"
    },
    {
     "name": "stdout",
     "output_type": "stream",
     "text": [
      "ANON0P03RE1MR_1.2.752.24.7.621449243.4375030_1.3.12.2.1107.5.2.30.26380.201901301010594525512025.0.0.0\n"
     ]
    },
    {
     "data": {
      "application/vnd.jupyter.widget-view+json": {
       "model_id": "3b61939b906e4db6ab7f7d49e4986309",
       "version_major": 2,
       "version_minor": 0
      },
      "text/plain": [
       "HBox(children=(Image(value=b'GIF89a\\x15\\x01q\\x01\\xf6\\x00\\x00\\x01\\x01\\x01\\x0c\\x0c\\x0c\\x14\\x14\\x14\\x1c\\x1c\\x1c5\\…"
      ]
     },
     "metadata": {},
     "output_type": "display_data"
    },
    {
     "name": "stdout",
     "output_type": "stream",
     "text": [
      "ANONBL13RE1F4_1.2.752.24.7.621449243.4262665_1.3.12.2.1107.5.2.30.26380.2018103111434028932912008.0.0.0\n"
     ]
    },
    {
     "data": {
      "application/vnd.jupyter.widget-view+json": {
       "model_id": "733e189e74f743778b8fd288b3d6c684",
       "version_major": 2,
       "version_minor": 0
      },
      "text/plain": [
       "HBox(children=(Image(value=b'GIF89a\\x15\\x01q\\x01\\xf6\\x00\\x00\\x01\\x01\\x01\\x0c\\x0c\\x0c\\x13\\x13\\x13\\x1b\\x1b\\x1b5\\…"
      ]
     },
     "metadata": {},
     "output_type": "display_data"
    },
    {
     "name": "stdout",
     "output_type": "stream",
     "text": [
      "ANONN223RE11A_1.2.752.24.7.621449243.4176782_1.3.12.2.1107.5.2.30.26380.2018091712543947045626016.0.0.0\n"
     ]
    },
    {
     "data": {
      "application/vnd.jupyter.widget-view+json": {
       "model_id": "d3e80c8ddf52487c99a35f78ff24a034",
       "version_major": 2,
       "version_minor": 0
      },
      "text/plain": [
       "HBox(children=(Image(value=b'GIF89a\\x15\\x01q\\x01\\xf6\\x00\\x00\\x01\\x01\\x01\\x0c\\x0c\\x0c\\x14\\x14\\x14\\x1b\\x1b\\x1b5\\…"
      ]
     },
     "metadata": {},
     "output_type": "display_data"
    },
    {
     "name": "stdout",
     "output_type": "stream",
     "text": [
      "ANONVLTEPE1DL_1.2.752.24.7.621449243.4325333_1.3.12.2.1107.5.2.30.26380.2018120316435753343169405.0.0.0\n"
     ]
    },
    {
     "data": {
      "application/vnd.jupyter.widget-view+json": {
       "model_id": "74595f9e9e43452e9f112e886a114396",
       "version_major": 2,
       "version_minor": 0
      },
      "text/plain": [
       "HBox(children=(Image(value=b'GIF89a\\x15\\x01q\\x01\\xf6\\x00\\x00\\x03\\x03\\x03\\x0b\\x0b\\x0b\\x13\\x13\\x13\\x1b\\x1b\\x1b6\\…"
      ]
     },
     "metadata": {},
     "output_type": "display_data"
    },
    {
     "name": "stdout",
     "output_type": "stream",
     "text": [
      "ANONQ923RE1U7_1.2.752.24.7.621449243.4391055_1.3.12.2.1107.5.2.30.26380.2019030414455171682472657.0.0.0\n"
     ]
    },
    {
     "data": {
      "application/vnd.jupyter.widget-view+json": {
       "model_id": "01eb16e68b2a488284aeed27eb4229c6",
       "version_major": 2,
       "version_minor": 0
      },
      "text/plain": [
       "HBox(children=(Image(value=b'GIF89a\\x15\\x01q\\x01\\xf6\\x00\\x00\\x01\\x01\\x01\\x0c\\x0c\\x0c\\x13\\x13\\x13\\x1b\\x1b\\x1b5\\…"
      ]
     },
     "metadata": {},
     "output_type": "display_data"
    },
    {
     "name": "stdout",
     "output_type": "stream",
     "text": [
      "ANON0603RE1RU_1.2.752.24.7.621449243.4464827_1.3.12.2.1107.5.2.30.26380.201905061347538473353674.0.0.0\n"
     ]
    },
    {
     "data": {
      "application/vnd.jupyter.widget-view+json": {
       "model_id": "1a212889ab8c430a90478c820cab5f43",
       "version_major": 2,
       "version_minor": 0
      },
      "text/plain": [
       "HBox(children=(Image(value=b'GIF89a\\x15\\x01q\\x01\\xf6\\x00\\x00\\x01\\x01\\x01\\x0c\\x0c\\x0c\\x14\\x14\\x14\\x1b\\x1b\\x1b6\\…"
      ]
     },
     "metadata": {},
     "output_type": "display_data"
    },
    {
     "name": "stdout",
     "output_type": "stream",
     "text": [
      "ANONUS03RE1U2_1.2.752.24.7.621449243.4522159_1.3.12.2.1107.5.2.30.26380.2019053114152672050739235.0.0.0\n"
     ]
    },
    {
     "data": {
      "application/vnd.jupyter.widget-view+json": {
       "model_id": "43e0b729ff8440ef8c2bc85a9205f7ad",
       "version_major": 2,
       "version_minor": 0
      },
      "text/plain": [
       "HBox(children=(Image(value=b'GIF89a\\x15\\x01q\\x01\\xf6\\x00\\x00\\x01\\x01\\x01\\x0c\\x0c\\x0c\\x14\\x14\\x14\\x1c\\x1c\\x1c6\\…"
      ]
     },
     "metadata": {},
     "output_type": "display_data"
    },
    {
     "name": "stdout",
     "output_type": "stream",
     "text": [
      "ANONSR03RE19I_1.2.752.24.7.621449243.4468029_1.3.12.2.1107.5.2.30.26380.2019041712533170514844117.0.0.0\n"
     ]
    },
    {
     "data": {
      "application/vnd.jupyter.widget-view+json": {
       "model_id": "c186fc198b8b409db54547838262716b",
       "version_major": 2,
       "version_minor": 0
      },
      "text/plain": [
       "HBox(children=(Image(value=b'GIF89a\\x15\\x01q\\x01\\xf6\\x00\\x00\\x01\\x01\\x01\\x0c\\x0c\\x0c\\x14\\x14\\x14\\x1b\\x1b\\x1b6\\…"
      ]
     },
     "metadata": {},
     "output_type": "display_data"
    },
    {
     "name": "stdout",
     "output_type": "stream",
     "text": [
      "ANONVLTEPE1DL_1.2.752.24.7.621449243.4325333_1.3.12.2.1107.5.2.30.26380.2018120316451094926769777.0.0.0\n"
     ]
    },
    {
     "data": {
      "application/vnd.jupyter.widget-view+json": {
       "model_id": "22fc2d1d97044a809b543d991802bbf4",
       "version_major": 2,
       "version_minor": 0
      },
      "text/plain": [
       "HBox(children=(Image(value=b'GIF89a\\x15\\x01q\\x01\\xf5\\x00\\x00\\x01\\x01\\x01\\x0c\\x0c\\x0c\\x14\\x14\\x14\\x1b\\x1b\\x1b6\\…"
      ]
     },
     "metadata": {},
     "output_type": "display_data"
    },
    {
     "name": "stdout",
     "output_type": "stream",
     "text": [
      "ANON4I13RE1BS_1.2.752.24.7.621449243.4233643_1.3.12.2.1107.5.2.30.26380.2018091908530237991407906.0.0.0\n"
     ]
    },
    {
     "data": {
      "application/vnd.jupyter.widget-view+json": {
       "model_id": "cd3ec18008404963b48337a87bed4a1f",
       "version_major": 2,
       "version_minor": 0
      },
      "text/plain": [
       "HBox(children=(Image(value=b'GIF89a\\x15\\x01q\\x01\\xf5\\x00\\x00\\x01\\x01\\x01\\x0c\\x0c\\x0c\\x14\\x14\\x14\\x1c\\x1c\\x1c6\\…"
      ]
     },
     "metadata": {},
     "output_type": "display_data"
    },
    {
     "name": "stdout",
     "output_type": "stream",
     "text": [
      "ANONKBV2RE1R5_1.2.752.24.7.621449243.4522172_1.3.12.2.1107.5.2.30.26380.2019060513042790125932407.0.0.0\n"
     ]
    },
    {
     "data": {
      "application/vnd.jupyter.widget-view+json": {
       "model_id": "27c5cc78ebea4adfb9cd1b61d18e6faf",
       "version_major": 2,
       "version_minor": 0
      },
      "text/plain": [
       "HBox(children=(Image(value=b'GIF89a\\x15\\x01q\\x01\\xf6\\x00\\x00\\x01\\x01\\x01\\x0c\\x0c\\x0c\\x14\\x14\\x14\\x1c\\x1c\\x1c5\\…"
      ]
     },
     "metadata": {},
     "output_type": "display_data"
    },
    {
     "name": "stdout",
     "output_type": "stream",
     "text": [
      "ANON4U03RE1DB_1.2.752.24.7.621449243.4490940_1.3.12.2.1107.5.2.30.26380.2019051309531677649208791.0.0.0\n"
     ]
    },
    {
     "data": {
      "application/vnd.jupyter.widget-view+json": {
       "model_id": "eb93c12c7504429eb6a10e23258161c9",
       "version_major": 2,
       "version_minor": 0
      },
      "text/plain": [
       "HBox(children=(Image(value=b'GIF89a\\x15\\x01q\\x01\\xf6\\x00\\x00\\x01\\x01\\x01\\x0c\\x0c\\x0c\\x14\\x14\\x14\\x1c\\x1c\\x1c5\\…"
      ]
     },
     "metadata": {},
     "output_type": "display_data"
    },
    {
     "name": "stdout",
     "output_type": "stream",
     "text": [
      "ANONO023RE1E2_1.2.752.24.7.621449243.4508417_1.3.12.2.1107.5.2.30.26380.2019052015273296974151068.0.0.0\n"
     ]
    },
    {
     "data": {
      "application/vnd.jupyter.widget-view+json": {
       "model_id": "a3df07e6c12d4129a0e649715da1f4eb",
       "version_major": 2,
       "version_minor": 0
      },
      "text/plain": [
       "HBox(children=(Image(value=b'GIF89a\\x15\\x01q\\x01\\xf6\\x00\\x00\\x01\\x01\\x01\\x0b\\x0b\\x0b\\x14\\x14\\x14\\x1c\\x1c\\x1c5\\…"
      ]
     },
     "metadata": {},
     "output_type": "display_data"
    },
    {
     "name": "stdout",
     "output_type": "stream",
     "text": [
      "ANONKC13RE1LE_1.2.752.24.7.621449243.4301480_1.3.12.2.1107.5.2.30.26380.2018121013192060715648191.0.0.0\n"
     ]
    },
    {
     "data": {
      "application/vnd.jupyter.widget-view+json": {
       "model_id": "6d58b2852ce04ac480b062f3e66623ad",
       "version_major": 2,
       "version_minor": 0
      },
      "text/plain": [
       "HBox(children=(Image(value=b'GIF89a\\x15\\x01q\\x01\\xf6\\x00\\x00\\x01\\x01\\x01\\x0c\\x0c\\x0c\\x14\\x14\\x14\\x1c\\x1c\\x1c6\\…"
      ]
     },
     "metadata": {},
     "output_type": "display_data"
    },
    {
     "name": "stdout",
     "output_type": "stream",
     "text": [
      "ANON1VU2RE1NJ_1.2.752.24.7.621449243.4402848_1.3.12.2.1107.5.2.30.26380.2019031314253781003469789.0.0.0\n"
     ]
    },
    {
     "data": {
      "application/vnd.jupyter.widget-view+json": {
       "model_id": "b966baf7976b471c932d2e94cc9796fb",
       "version_major": 2,
       "version_minor": 0
      },
      "text/plain": [
       "HBox(children=(Image(value=b'GIF89a\\x15\\x01q\\x01\\xf5\\x00\\x00\\x01\\x01\\x01\\x0c\\x0c\\x0c\\x14\\x14\\x14\\x1b\\x1b\\x1b6\\…"
      ]
     },
     "metadata": {},
     "output_type": "display_data"
    },
    {
     "name": "stdout",
     "output_type": "stream",
     "text": [
      "ANON3503RE18I_1.2.752.24.7.621449243.4452082_1.3.12.2.1107.5.2.30.26380.2019050311524394006651021.0.0.0\n"
     ]
    },
    {
     "data": {
      "application/vnd.jupyter.widget-view+json": {
       "model_id": "5f1a8fb2fe2440aab158752e6e7fa461",
       "version_major": 2,
       "version_minor": 0
      },
      "text/plain": [
       "HBox(children=(Image(value=b'GIF89a\\x15\\x01q\\x01\\xf6\\x00\\x00\\x01\\x01\\x01\\x0c\\x0c\\x0c\\x14\\x14\\x14\\x1c\\x1c\\x1c5\\…"
      ]
     },
     "metadata": {},
     "output_type": "display_data"
    },
    {
     "name": "stdout",
     "output_type": "stream",
     "text": [
      "ANON4I13RE1BS_1.2.752.24.7.621449243.4233643_1.3.12.2.1107.5.2.30.26380.201809190850201295507286.0.0.0\n"
     ]
    },
    {
     "data": {
      "application/vnd.jupyter.widget-view+json": {
       "model_id": "93124d828a4143579f576ff39dc76abb",
       "version_major": 2,
       "version_minor": 0
      },
      "text/plain": [
       "HBox(children=(Image(value=b'GIF89a\\x15\\x01q\\x01\\xf6\\x00\\x00\\x01\\x01\\x01\\x0c\\x0c\\x0c\\x14\\x14\\x14\\x1b\\x1b\\x1b5\\…"
      ]
     },
     "metadata": {},
     "output_type": "display_data"
    },
    {
     "name": "stdout",
     "output_type": "stream",
     "text": [
      "ANON7V03RE1ON_1.2.752.24.7.621449243.4517138_1.3.12.2.1107.5.2.30.26380.2019052715234389973262136.0.0.0\n"
     ]
    },
    {
     "data": {
      "application/vnd.jupyter.widget-view+json": {
       "model_id": "e3797358de554f539ebc421299af66a3",
       "version_major": 2,
       "version_minor": 0
      },
      "text/plain": [
       "HBox(children=(Image(value=b'GIF89a\\x15\\x01q\\x01\\xf5\\x00\\x00\\x01\\x01\\x01\\x0c\\x0c\\x0c\\x13\\x13\\x13\\x1c\\x1c\\x1c5\\…"
      ]
     },
     "metadata": {},
     "output_type": "display_data"
    },
    {
     "name": "stdout",
     "output_type": "stream",
     "text": [
      "ANONP113RE113_1.2.752.24.7.621449243.4246810_1.3.12.2.1107.5.2.30.26380.2018102212581486660536504.0.0.0\n"
     ]
    },
    {
     "data": {
      "application/vnd.jupyter.widget-view+json": {
       "model_id": "f222ec27b1a34421b14141ccc16da915",
       "version_major": 2,
       "version_minor": 0
      },
      "text/plain": [
       "HBox(children=(Image(value=b'GIF89a\\x15\\x01q\\x01\\xf6\\x00\\x00\\x01\\x01\\x01\\x0c\\x0c\\x0c\\x13\\x13\\x13\\x1c\\x1c\\x1c4\\…"
      ]
     },
     "metadata": {},
     "output_type": "display_data"
    },
    {
     "name": "stdout",
     "output_type": "stream",
     "text": [
      "ANON4I13RE1BS_1.2.752.24.7.621449243.4233643_1.3.12.2.1107.5.2.30.26380.2018091908523152477207782.0.0.0\n"
     ]
    },
    {
     "data": {
      "application/vnd.jupyter.widget-view+json": {
       "model_id": "2f1bcaf82e9f4f21a5b1a4ca26f67d99",
       "version_major": 2,
       "version_minor": 0
      },
      "text/plain": [
       "HBox(children=(Image(value=b'GIF89a\\x15\\x01q\\x01\\xf6\\x00\\x00\\x01\\x01\\x01\\x0c\\x0c\\x0c\\x14\\x14\\x14\\x1b\\x1b\\x1b6\\…"
      ]
     },
     "metadata": {},
     "output_type": "display_data"
    },
    {
     "name": "stdout",
     "output_type": "stream",
     "text": [
      "ANONE103RE1S5_1.2.752.24.7.621449243.4400773_1.3.12.2.1107.5.2.30.26380.2019021309334531614907520.0.0.0\n"
     ]
    },
    {
     "data": {
      "application/vnd.jupyter.widget-view+json": {
       "model_id": "648a9229e4854254a90931fbfd706f6d",
       "version_major": 2,
       "version_minor": 0
      },
      "text/plain": [
       "HBox(children=(Image(value=b'GIF89a\\x15\\x01q\\x01\\xf6\\x00\\x00\\x02\\x02\\x02\\x0c\\x0c\\x0c\\x14\\x14\\x14\\x1b\\x1b\\x1b6\\…"
      ]
     },
     "metadata": {},
     "output_type": "display_data"
    },
    {
     "name": "stdout",
     "output_type": "stream",
     "text": [
      "ANON4U03RE1DB_1.2.752.24.7.621449243.4490940_1.3.12.2.1107.5.2.30.26380.2019051309543862796209039.0.0.0\n"
     ]
    },
    {
     "data": {
      "application/vnd.jupyter.widget-view+json": {
       "model_id": "3ac042bddbc94bddb87f9dcc69de8096",
       "version_major": 2,
       "version_minor": 0
      },
      "text/plain": [
       "HBox(children=(Image(value=b'GIF89a\\x15\\x01q\\x01\\xf6\\x00\\x00\\x01\\x01\\x01\\x0c\\x0c\\x0c\\x14\\x14\\x14\\x1b\\x1b\\x1b6\\…"
      ]
     },
     "metadata": {},
     "output_type": "display_data"
    },
    {
     "name": "stdout",
     "output_type": "stream",
     "text": [
      "ANONHQ03RE1LU_1.2.752.24.7.621449243.4359058_1.3.12.2.1107.5.2.30.26380.201902111408553555662403.0.0.0\n"
     ]
    },
    {
     "data": {
      "application/vnd.jupyter.widget-view+json": {
       "model_id": "a7205d3956864b4f80d2e152f08d53ee",
       "version_major": 2,
       "version_minor": 0
      },
      "text/plain": [
       "HBox(children=(Image(value=b'GIF89a\\x15\\x01q\\x01\\xf6\\x00\\x00\\x00\\x00\\x00\\x0c\\x0c\\x0c\\x14\\x14\\x14\\x1b\\x1b\\x1b6\\…"
      ]
     },
     "metadata": {},
     "output_type": "display_data"
    },
    {
     "name": "stdout",
     "output_type": "stream",
     "text": [
      "ANONC423RE1AB_1.2.752.24.7.621449243.4290058_1.3.12.2.1107.5.2.30.26380.2018112713410524086741904.0.0.0\n"
     ]
    },
    {
     "data": {
      "application/vnd.jupyter.widget-view+json": {
       "model_id": "d2961c3337634e2ba54590604bab1dfa",
       "version_major": 2,
       "version_minor": 0
      },
      "text/plain": [
       "HBox(children=(Image(value=b'GIF89a\\x15\\x01q\\x01\\xf6\\x00\\x00\\x01\\x01\\x01\\x0c\\x0c\\x0c\\x14\\x14\\x14\\x1c\\x1c\\x1c6\\…"
      ]
     },
     "metadata": {},
     "output_type": "display_data"
    },
    {
     "name": "stdout",
     "output_type": "stream",
     "text": [
      "ANON4U03RE1DB_1.2.752.24.7.621449243.4490940_1.3.12.2.1107.5.2.30.26380.2019051309513389561108543.0.0.0\n"
     ]
    },
    {
     "data": {
      "application/vnd.jupyter.widget-view+json": {
       "model_id": "eb97992724344bb4b9956081d89a2ac9",
       "version_major": 2,
       "version_minor": 0
      },
      "text/plain": [
       "HBox(children=(Image(value=b'GIF89a\\x15\\x01q\\x01\\xf5\\x00\\x00\\x01\\x01\\x01\\r\\r\\r\\x14\\x14\\x14\\x1b\\x1b\\x1b6\\x03\\x0…"
      ]
     },
     "metadata": {},
     "output_type": "display_data"
    },
    {
     "name": "stdout",
     "output_type": "stream",
     "text": [
      "ANONHOV2RE1PO_1.2.752.24.7.621449243.4436266_1.3.12.2.1107.5.2.30.26380.2019041511444954183937084.0.0.0\n"
     ]
    },
    {
     "data": {
      "application/vnd.jupyter.widget-view+json": {
       "model_id": "dae3c3b812ae4965ac3614cc91255f24",
       "version_major": 2,
       "version_minor": 0
      },
      "text/plain": [
       "HBox(children=(Image(value=b'GIF89a\\x15\\x01q\\x01\\xf6\\x00\\x00\\x02\\x02\\x02\\x0c\\x0c\\x0c\\x14\\x14\\x14\\x1c\\x1c\\x1c4\\…"
      ]
     },
     "metadata": {},
     "output_type": "display_data"
    },
    {
     "name": "stdout",
     "output_type": "stream",
     "text": [
      "ANONJRTEPE1NJ_1.2.752.24.7.621449243.4198923_1.3.12.2.1107.5.2.30.26380.2018081313465712558828407.0.0.0\n"
     ]
    },
    {
     "data": {
      "application/vnd.jupyter.widget-view+json": {
       "model_id": "af9a843368d041f0b018597af94aceb1",
       "version_major": 2,
       "version_minor": 0
      },
      "text/plain": [
       "HBox(children=(Image(value=b'GIF89a\\x15\\x01q\\x01\\xf6\\x00\\x00\\x01\\x01\\x01\\x0c\\x0c\\x0c\\x14\\x14\\x14\\x1c\\x1c\\x1c7\\…"
      ]
     },
     "metadata": {},
     "output_type": "display_data"
    },
    {
     "name": "stdout",
     "output_type": "stream",
     "text": [
      "ANON7T13RE1KK_1.2.752.24.7.621449243.4345197_1.3.12.2.1107.5.2.30.26380.2019011409495994654808754.0.0.0\n"
     ]
    },
    {
     "data": {
      "application/vnd.jupyter.widget-view+json": {
       "model_id": "2c75b1dfc0d0420f88265b74265cdfa4",
       "version_major": 2,
       "version_minor": 0
      },
      "text/plain": [
       "HBox(children=(Image(value=b'GIF89a\\x15\\x01q\\x01\\xf6\\x00\\x00\\x01\\x01\\x01\\x0c\\x0c\\x0c\\x14\\x14\\x14\\x1c\\x1c\\x1c6\\…"
      ]
     },
     "metadata": {},
     "output_type": "display_data"
    },
    {
     "name": "stdout",
     "output_type": "stream",
     "text": [
      "ANON78V2RE1J5_1.2.752.24.7.621449243.4456574_1.3.12.2.1107.5.2.30.26380.2019050311064766194338890.0.0.0\n"
     ]
    },
    {
     "data": {
      "application/vnd.jupyter.widget-view+json": {
       "model_id": "4d5e15a2eece4bd6920b2db997a01eb7",
       "version_major": 2,
       "version_minor": 0
      },
      "text/plain": [
       "HBox(children=(Image(value=b'GIF89a\\x15\\x01q\\x01\\xf6\\x00\\x00\\x02\\x02\\x02\\x0c\\x0c\\x0c\\x14\\x14\\x14\\x1c\\x1c\\x1c5\\…"
      ]
     },
     "metadata": {},
     "output_type": "display_data"
    },
    {
     "name": "stdout",
     "output_type": "stream",
     "text": [
      "ANONTD03RE1GD_1.2.752.24.7.621449243.4375018_1.3.12.2.1107.5.2.30.26380.2019022014443034400472033.0.0.0\n"
     ]
    },
    {
     "data": {
      "application/vnd.jupyter.widget-view+json": {
       "model_id": "26b140a7106b4a0d93d48f4ec8cb3e0d",
       "version_major": 2,
       "version_minor": 0
      },
      "text/plain": [
       "HBox(children=(Image(value=b'GIF89a\\x15\\x01q\\x01\\xf6\\x00\\x00\\x01\\x01\\x01\\x0b\\x0b\\x0b\\x14\\x14\\x14\\x1c\\x1c\\x1c:\\…"
      ]
     },
     "metadata": {},
     "output_type": "display_data"
    },
    {
     "name": "stdout",
     "output_type": "stream",
     "text": [
      "ANONP703RE127_1.2.752.24.7.621449243.4502773_1.3.12.2.1107.5.2.30.26380.2019060415234321436755800.0.0.0\n"
     ]
    },
    {
     "data": {
      "application/vnd.jupyter.widget-view+json": {
       "model_id": "9a10ae33729548ddad49a0216eae633f",
       "version_major": 2,
       "version_minor": 0
      },
      "text/plain": [
       "HBox(children=(Image(value=b'GIF89a\\x15\\x01q\\x01\\xf6\\x00\\x00\\x00\\x00\\x00\\x0c\\x0c\\x0c\\x13\\x13\\x13\\x1b\\x1b\\x1b5\\…"
      ]
     },
     "metadata": {},
     "output_type": "display_data"
    },
    {
     "name": "stdout",
     "output_type": "stream",
     "text": [
      "ANONSL03RE121_1.2.752.24.7.621449243.4447124_1.3.12.2.1107.5.2.30.26380.2019042413490990588260588.0.0.0\n"
     ]
    },
    {
     "data": {
      "application/vnd.jupyter.widget-view+json": {
       "model_id": "51ed0499032c4ad997815fbe3faa0cc5",
       "version_major": 2,
       "version_minor": 0
      },
      "text/plain": [
       "HBox(children=(Image(value=b'GIF89a\\x15\\x01q\\x01\\xf6\\x00\\x00\\x01\\x01\\x01\\x0c\\x0c\\x0c\\x14\\x14\\x14\\x1c\\x1c\\x1c6\\…"
      ]
     },
     "metadata": {},
     "output_type": "display_data"
    },
    {
     "name": "stdout",
     "output_type": "stream",
     "text": [
      "ANONP5AEPE1G8_1.2.752.24.7.621449243.4207770_1.3.12.2.1107.5.2.30.26380.2018090412174045423733657.0.0.0\n"
     ]
    },
    {
     "data": {
      "application/vnd.jupyter.widget-view+json": {
       "model_id": "4472d0e1769242249d8956ed89392664",
       "version_major": 2,
       "version_minor": 0
      },
      "text/plain": [
       "HBox(children=(Image(value=b'GIF89a\\x15\\x01q\\x01\\xf6\\x00\\x00\\x00\\x00\\x00\\x0c\\x0c\\x0c\\x14\\x14\\x14\\x1b\\x1b\\x1b6\\…"
      ]
     },
     "metadata": {},
     "output_type": "display_data"
    },
    {
     "name": "stdout",
     "output_type": "stream",
     "text": [
      "ANONFDV2RE1BC_1.2.752.24.7.621449243.4464826_1.3.12.2.1107.5.2.30.26380.2019061211285036872529085.0.0.0\n"
     ]
    },
    {
     "data": {
      "application/vnd.jupyter.widget-view+json": {
       "model_id": "2733d33feee144f7b2e9ad5bd2b8da59",
       "version_major": 2,
       "version_minor": 0
      },
      "text/plain": [
       "HBox(children=(Image(value=b'GIF89a\\x15\\x01q\\x01\\xf6\\x00\\x00\\x01\\x01\\x01\\x0b\\x0b\\x0b\\x14\\x14\\x14\\x1c\\x1c\\x1c6\\…"
      ]
     },
     "metadata": {},
     "output_type": "display_data"
    },
    {
     "name": "stdout",
     "output_type": "stream",
     "text": [
      "ANON7713RE17I_1.2.752.24.7.621449243.4464828_1.3.12.2.1107.5.2.30.26380.2019050614155217764471031.0.0.0\n"
     ]
    },
    {
     "data": {
      "application/vnd.jupyter.widget-view+json": {
       "model_id": "b16aef6440284def8b7113a7fc88a8b8",
       "version_major": 2,
       "version_minor": 0
      },
      "text/plain": [
       "HBox(children=(Image(value=b'GIF89a\\x15\\x01q\\x01\\xf6\\x00\\x00\\x02\\x02\\x02\\x0b\\x0b\\x0b\\x14\\x14\\x14\\x1c\\x1c\\x1c6\\…"
      ]
     },
     "metadata": {},
     "output_type": "display_data"
    },
    {
     "name": "stdout",
     "output_type": "stream",
     "text": [
      "ANONRJTEPE1KA_1.2.752.24.7.621449243.4296025_1.3.12.2.1107.5.2.30.26380.2018112110480993848529788.0.0.0\n"
     ]
    },
    {
     "data": {
      "application/vnd.jupyter.widget-view+json": {
       "model_id": "7c5c6c71fbb14658ad4846202d32f25f",
       "version_major": 2,
       "version_minor": 0
      },
      "text/plain": [
       "HBox(children=(Image(value=b'GIF89a\\x15\\x01q\\x01\\xf5\\x00\\x00\\x01\\x01\\x01\\x0c\\x0c\\x0c\\x13\\x13\\x13\\x1b\\x1b\\x1b6\\…"
      ]
     },
     "metadata": {},
     "output_type": "display_data"
    },
    {
     "name": "stdout",
     "output_type": "stream",
     "text": [
      "ANON4SV2RE1ET_1.2.752.24.7.621449243.4474616_1.3.12.2.1107.5.2.30.26380.2019060311143039607024310.0.0.0\n"
     ]
    },
    {
     "data": {
      "application/vnd.jupyter.widget-view+json": {
       "model_id": "990bac9290714f94bda81290ef934622",
       "version_major": 2,
       "version_minor": 0
      },
      "text/plain": [
       "HBox(children=(Image(value=b'GIF89a\\x15\\x01q\\x01\\xf6\\x00\\x00\\x01\\x01\\x01\\x0c\\x0c\\x0c\\x14\\x14\\x14\\x1c\\x1c\\x1c7\\…"
      ]
     },
     "metadata": {},
     "output_type": "display_data"
    },
    {
     "name": "stdout",
     "output_type": "stream",
     "text": [
      "ANONC623RE1MF_1.2.752.24.7.621449243.4457506_1.3.12.2.1107.5.2.30.26380.2019060414385335929144572.0.0.0\n"
     ]
    },
    {
     "data": {
      "application/vnd.jupyter.widget-view+json": {
       "model_id": "335c40f385084030bb354c523f50390e",
       "version_major": 2,
       "version_minor": 0
      },
      "text/plain": [
       "HBox(children=(Image(value=b'GIF89a\\x15\\x01q\\x01\\xf6\\x00\\x00\\x01\\x01\\x01\\x0c\\x0c\\x0c\\x14\\x14\\x14\\x1c\\x1c\\x1c6\\…"
      ]
     },
     "metadata": {},
     "output_type": "display_data"
    },
    {
     "name": "stdout",
     "output_type": "stream",
     "text": [
      "ANONU903RE1HQ_1.2.752.24.7.621449243.4176780_1.3.12.2.1107.5.2.30.26380.201808221121242018121767.0.0.0\n"
     ]
    },
    {
     "data": {
      "application/vnd.jupyter.widget-view+json": {
       "model_id": "8e8c6886033447749446cf5ac06b022c",
       "version_major": 2,
       "version_minor": 0
      },
      "text/plain": [
       "HBox(children=(Image(value=b'GIF89a\\x15\\x01q\\x01\\xf6\\x00\\x00\\x01\\x01\\x01\\x0c\\x0c\\x0c\\x13\\x13\\x13\\x1b\\x1b\\x1b6\\…"
      ]
     },
     "metadata": {},
     "output_type": "display_data"
    },
    {
     "name": "stdout",
     "output_type": "stream",
     "text": [
      "ANONGB03RE1P3_1.2.752.24.7.621449243.4225340_1.3.12.2.1107.5.2.30.26380.2018092111512390438729676.0.0.0\n"
     ]
    },
    {
     "data": {
      "application/vnd.jupyter.widget-view+json": {
       "model_id": "85cc189eb49a4e138074a0282be1534b",
       "version_major": 2,
       "version_minor": 0
      },
      "text/plain": [
       "HBox(children=(Image(value=b'GIF89a\\x15\\x01q\\x01\\xf6\\x00\\x00\\x01\\x01\\x01\\x0c\\x0c\\x0c\\x14\\x14\\x14\\x1c\\x1c\\x1c5\\…"
      ]
     },
     "metadata": {},
     "output_type": "display_data"
    },
    {
     "name": "stdout",
     "output_type": "stream",
     "text": [
      "ANON0V13RE11U_1.2.752.24.7.621449243.4493196_1.3.12.2.1107.5.2.30.26380.2019060513544978562547480.0.0.0\n"
     ]
    },
    {
     "data": {
      "application/vnd.jupyter.widget-view+json": {
       "model_id": "1f705e02ec6b485fadf5ff69eb8172ed",
       "version_major": 2,
       "version_minor": 0
      },
      "text/plain": [
       "HBox(children=(Image(value=b'GIF89a\\x15\\x01q\\x01\\xf6\\x00\\x00\\x01\\x01\\x01\\x0c\\x0c\\x0c\\x14\\x14\\x14\\x1b\\x1b\\x1b5\\…"
      ]
     },
     "metadata": {},
     "output_type": "display_data"
    },
    {
     "name": "stdout",
     "output_type": "stream",
     "text": [
      "ANON1SU2RE1C9_1.2.752.24.7.621449243.4423531_1.3.12.2.1107.5.2.30.26380.2019022811285695114728351.0.0.0\n"
     ]
    },
    {
     "data": {
      "application/vnd.jupyter.widget-view+json": {
       "model_id": "b590846e735046e5a861aa9280a43b79",
       "version_major": 2,
       "version_minor": 0
      },
      "text/plain": [
       "HBox(children=(Image(value=b'GIF89a\\x15\\x01q\\x01\\xf6\\x00\\x00\\x01\\x01\\x01\\x0b\\x0b\\x0b\\x14\\x14\\x14\\x1c\\x1c\\x1c5\\…"
      ]
     },
     "metadata": {},
     "output_type": "display_data"
    },
    {
     "name": "stdout",
     "output_type": "stream",
     "text": [
      "ANON85TEPE13J_1.2.752.24.7.621449243.4258567_1.3.12.2.1107.5.2.30.26380.2018102912125012802837411.0.0.0\n"
     ]
    },
    {
     "data": {
      "application/vnd.jupyter.widget-view+json": {
       "model_id": "15b5499df6f84a4aaa0764ab44946fa4",
       "version_major": 2,
       "version_minor": 0
      },
      "text/plain": [
       "HBox(children=(Image(value=b'GIF89a\\x15\\x01q\\x01\\xf6\\x00\\x00\\x01\\x01\\x01\\x0c\\x0c\\x0c\\x14\\x14\\x14\\x1b\\x1b\\x1b4\\…"
      ]
     },
     "metadata": {},
     "output_type": "display_data"
    },
    {
     "name": "stdout",
     "output_type": "stream",
     "text": [
      "ANON1B13RE1B9_1.2.752.24.7.621449243.4455644_1.3.12.2.1107.5.2.30.26380.2019050109224494832618638.0.0.0\n"
     ]
    },
    {
     "data": {
      "application/vnd.jupyter.widget-view+json": {
       "model_id": "b3ffdbef5a3240158f4c3675e5516a0c",
       "version_major": 2,
       "version_minor": 0
      },
      "text/plain": [
       "HBox(children=(Image(value=b'GIF89a\\x15\\x01q\\x01\\xf5\\x00\\x00\\x01\\x01\\x01\\x0c\\x0c\\x0c\\x14\\x14\\x14\\x1b\\x1b\\x1b5\\…"
      ]
     },
     "metadata": {},
     "output_type": "display_data"
    },
    {
     "name": "stdout",
     "output_type": "stream",
     "text": [
      "ANONF013RE1H6_1.2.752.24.7.621449243.4369479_1.3.12.2.1107.5.2.30.26380.2019021214213167521351637.0.0.0\n"
     ]
    },
    {
     "data": {
      "application/vnd.jupyter.widget-view+json": {
       "model_id": "35b7bc5fda34402dabaf9e6ea5b19687",
       "version_major": 2,
       "version_minor": 0
      },
      "text/plain": [
       "HBox(children=(Image(value=b'GIF89a\\x15\\x01q\\x01\\xf6\\x00\\x00\\x01\\x01\\x01\\x0c\\x0c\\x0c\\x14\\x14\\x14\\x1c\\x1c\\x1c6\\…"
      ]
     },
     "metadata": {},
     "output_type": "display_data"
    },
    {
     "name": "stdout",
     "output_type": "stream",
     "text": [
      "ANONK823RE1I8_1.2.752.24.7.621449243.4522275_1.3.12.2.1107.5.2.30.26380.2019053112513250386226347.0.0.0\n"
     ]
    },
    {
     "data": {
      "application/vnd.jupyter.widget-view+json": {
       "model_id": "91906c05003f4b30a9b6587ccd2262f5",
       "version_major": 2,
       "version_minor": 0
      },
      "text/plain": [
       "HBox(children=(Image(value=b'GIF89a\\x15\\x01q\\x01\\xf6\\x00\\x00\\x01\\x01\\x01\\x0c\\x0c\\x0c\\x14\\x14\\x14\\x1c\\x1c\\x1c6\\…"
      ]
     },
     "metadata": {},
     "output_type": "display_data"
    },
    {
     "name": "stdout",
     "output_type": "stream",
     "text": [
      "ANONBC03RE1U1_1.2.752.24.7.621449243.4243665_1.3.12.2.1107.5.2.30.26380.2018102611082691423619104.0.0.0\n"
     ]
    },
    {
     "data": {
      "application/vnd.jupyter.widget-view+json": {
       "model_id": "b5948d27d1874fd7ae849596ebe2fcf8",
       "version_major": 2,
       "version_minor": 0
      },
      "text/plain": [
       "HBox(children=(Image(value=b'GIF89a\\x15\\x01q\\x01\\xf6\\x00\\x00\\x01\\x01\\x01\\x0c\\x0c\\x0c\\x14\\x14\\x14\\x1b\\x1b\\x1b6\\…"
      ]
     },
     "metadata": {},
     "output_type": "display_data"
    },
    {
     "name": "stdout",
     "output_type": "stream",
     "text": [
      "ANONOUV2RE1GP_1.2.752.24.7.621449243.4492731_1.3.12.2.1107.5.2.30.26380.2019050811145048485626403.0.0.0\n"
     ]
    },
    {
     "data": {
      "application/vnd.jupyter.widget-view+json": {
       "model_id": "00b52181f7694442b3137f331235e82a",
       "version_major": 2,
       "version_minor": 0
      },
      "text/plain": [
       "HBox(children=(Image(value=b'GIF89a\\x15\\x01q\\x01\\xf6\\x00\\x00\\x01\\x01\\x01\\x0b\\x0b\\x0b\\x14\\x14\\x14\\x1c\\x1c\\x1c6\\…"
      ]
     },
     "metadata": {},
     "output_type": "display_data"
    },
    {
     "name": "stdout",
     "output_type": "stream",
     "text": [
      "ANON5413RE145_1.2.752.24.7.621449243.4369429_1.3.12.2.1107.5.2.30.26380.2019022014242813429660537.0.0.0\n"
     ]
    },
    {
     "data": {
      "application/vnd.jupyter.widget-view+json": {
       "model_id": "a2ee46a337834b838b2d73be772370eb",
       "version_major": 2,
       "version_minor": 0
      },
      "text/plain": [
       "HBox(children=(Image(value=b'GIF89a\\x15\\x01q\\x01\\xf6\\x00\\x00\\x01\\x01\\x01\\x0c\\x0c\\x0c\\x14\\x14\\x14\\x1b\\x1b\\x1b6\\…"
      ]
     },
     "metadata": {},
     "output_type": "display_data"
    }
   ],
   "source": [
    "positive_glob = vs_path.glob(\"ANON*\")\n",
    "positive_ids = [file.stem for file in positive_glob]\n",
    "\n",
    "for positive_id in positive_ids:\n",
    "    print(positive_id)\n",
    "    vs_img_path = vs_path / (positive_id + \".png\")\n",
    "    vs_gif_path = gifs_path / (positive_id + \".gif\")\n",
    "    \n",
    "    vs_img_file = open(vs_img_path, \"rb\")\n",
    "    vs_gif_file = open(vs_gif_path, \"rb\")\n",
    "    \n",
    "    wi1 = widgets.Image(value=vs_gif_file.read(), format='png')\n",
    "    wi2 = widgets.Image(value=vs_img_file.read(), format='png')\n",
    "    \n",
    "    sidebyside = widgets.HBox([wi1, wi2])\n",
    "    ## Finally, show.\n",
    "    display.display(sidebyside)\n",
    "    \n",
    "    vs_img_file.close()\n",
    "    vs_gif_file.close()"
   ]
  },
  {
   "cell_type": "markdown",
   "id": "first-works",
   "metadata": {},
   "source": [
    "# Negative"
   ]
  },
  {
   "cell_type": "code",
   "execution_count": 5,
   "id": "honey-ideal",
   "metadata": {},
   "outputs": [
    {
     "name": "stdout",
     "output_type": "stream",
     "text": [
      "R127_1.2.752.24.7.621449242.2550529_1.3.12.2.1107.5.2.30.26380.2013100212055054292524360.0.0.0\n"
     ]
    },
    {
     "data": {
      "application/vnd.jupyter.widget-view+json": {
       "model_id": "132e85fc1dbe4d52af8f5b4bbecbd95e",
       "version_major": 2,
       "version_minor": 0
      },
      "text/plain": [
       "HBox(children=(Image(value=b'GIF89a\\x15\\x01q\\x01\\xf6\\x00\\x00\\x01\\x01\\x01\\x0c\\x0c\\x0c\\x14\\x14\\x14\\x1b\\x1b\\x1b5\\…"
      ]
     },
     "metadata": {},
     "output_type": "display_data"
    },
    {
     "name": "stdout",
     "output_type": "stream",
     "text": [
      "R218_1.2.752.24.7.621449243.3011895_1.3.12.2.1107.5.2.30.26380.2015032715400720672749047.0.0.0\n"
     ]
    },
    {
     "data": {
      "application/vnd.jupyter.widget-view+json": {
       "model_id": "e12ba11b7f5d4680a495ca82ef138542",
       "version_major": 2,
       "version_minor": 0
      },
      "text/plain": [
       "HBox(children=(Image(value=b'GIF89a\\x15\\x01q\\x01\\xf6\\x00\\x00\\x01\\x01\\x01\\x0c\\x0c\\x0c\\x14\\x14\\x14\\x1c\\x1c\\x1c5\\…"
      ]
     },
     "metadata": {},
     "output_type": "display_data"
    },
    {
     "name": "stdout",
     "output_type": "stream",
     "text": [
      "R336_1.2.752.24.7.621449242.3707468_1.3.12.2.1107.5.2.30.26380.2017040312542375399830252.0.0.0\n"
     ]
    },
    {
     "data": {
      "application/vnd.jupyter.widget-view+json": {
       "model_id": "8c249f10cf8d4036884ab7c6ac5d916b",
       "version_major": 2,
       "version_minor": 0
      },
      "text/plain": [
       "HBox(children=(Image(value=b'GIF89a\\x15\\x01q\\x01\\xf5\\x00\\x00\\x01\\x01\\x01\\x0c\\x0c\\x0c\\x14\\x14\\x14\\x1b\\x1b\\x1b6\\…"
      ]
     },
     "metadata": {},
     "output_type": "display_data"
    },
    {
     "name": "stdout",
     "output_type": "stream",
     "text": [
      "R537_1.2.752.24.7.3857403153.5091413_1.3.12.2.1107.5.2.41.169723.2020092110561559918531304.5.0.0\n"
     ]
    },
    {
     "data": {
      "application/vnd.jupyter.widget-view+json": {
       "model_id": "00879c6a59524250a74568fe10b1cc14",
       "version_major": 2,
       "version_minor": 0
      },
      "text/plain": [
       "HBox(children=(Image(value=b'GIF89aq\\x01q\\x01\\xf6\\x00\\x00\\x03\\x03\\x03\\x0c\\x0c\\x0c\\x14\\x14\\x14\\x1b\\x1b\\x1b7\\x04…"
      ]
     },
     "metadata": {},
     "output_type": "display_data"
    },
    {
     "name": "stdout",
     "output_type": "stream",
     "text": [
      "R241_1.2.752.24.7.621449242.3214251_1.3.12.2.1107.5.2.30.26380.2015111012052298033423304.0.0.0\n"
     ]
    },
    {
     "data": {
      "application/vnd.jupyter.widget-view+json": {
       "model_id": "c0613c79ba0d4d5f9619709520c62059",
       "version_major": 2,
       "version_minor": 0
      },
      "text/plain": [
       "HBox(children=(Image(value=b'GIF89a\\x15\\x01q\\x01\\xf5\\x00\\x00\\x00\\x00\\x00\\x0c\\x0c\\x0c\\x13\\x13\\x13\\x1b\\x1b\\x1b5\\…"
      ]
     },
     "metadata": {},
     "output_type": "display_data"
    },
    {
     "name": "stdout",
     "output_type": "stream",
     "text": [
      "R358_1.2.752.24.7.621449243.3812996_1.3.12.2.1107.5.2.30.26380.2017072512124326223328679.0.0.0\n"
     ]
    },
    {
     "data": {
      "application/vnd.jupyter.widget-view+json": {
       "model_id": "3a617ad633ad4139bfa6151ebca5cf02",
       "version_major": 2,
       "version_minor": 0
      },
      "text/plain": [
       "HBox(children=(Image(value=b'GIF89a\\x15\\x01q\\x01\\xf5\\x00\\x00\\x01\\x01\\x01\\x0c\\x0c\\x0c\\x13\\x13\\x13\\x1c\\x1c\\x1c6\\…"
      ]
     },
     "metadata": {},
     "output_type": "display_data"
    },
    {
     "name": "stdout",
     "output_type": "stream",
     "text": [
      "R226_1.2.752.24.7.621449242.3092810_1.3.12.2.1107.5.2.30.26380.20150701135618758048109.0.0.0\n"
     ]
    },
    {
     "data": {
      "application/vnd.jupyter.widget-view+json": {
       "model_id": "94a8db167d6543ed9d6e8ce7edac116e",
       "version_major": 2,
       "version_minor": 0
      },
      "text/plain": [
       "HBox(children=(Image(value=b'GIF89a\\x15\\x01q\\x01\\xf6\\x00\\x00\\x01\\x01\\x01\\x0c\\x0c\\x0c\\x14\\x14\\x14\\x1b\\x1b\\x1b5\\…"
      ]
     },
     "metadata": {},
     "output_type": "display_data"
    },
    {
     "name": "stdout",
     "output_type": "stream",
     "text": [
      "R388_1.2.752.24.7.621449243.3960461_1.3.12.2.1107.5.2.30.26380.2017121915131369344944288.0.0.0\n"
     ]
    },
    {
     "data": {
      "application/vnd.jupyter.widget-view+json": {
       "model_id": "b8d3ec8b72854a44b2f5574f209798b8",
       "version_major": 2,
       "version_minor": 0
      },
      "text/plain": [
       "HBox(children=(Image(value=b'GIF89a\\x15\\x01q\\x01\\xf6\\x00\\x00\\x01\\x01\\x01\\x0b\\x0b\\x0b\\x14\\x14\\x14\\x1c\\x1c\\x1c6\\…"
      ]
     },
     "metadata": {},
     "output_type": "display_data"
    },
    {
     "name": "stdout",
     "output_type": "stream",
     "text": [
      "R408_1.2.752.24.7.621449243.4057309_1.3.12.2.1107.5.2.30.26380.2018040411340181551716716.0.0.0\n"
     ]
    },
    {
     "data": {
      "application/vnd.jupyter.widget-view+json": {
       "model_id": "a848219eb5774d27b96c3d51ad84010c",
       "version_major": 2,
       "version_minor": 0
      },
      "text/plain": [
       "HBox(children=(Image(value=b'GIF89a\\x15\\x01q\\x01\\xf5\\x00\\x00\\x01\\x01\\x01\\x0c\\x0c\\x0c\\x14\\x14\\x14\\x1b\\x1b\\x1b6\\…"
      ]
     },
     "metadata": {},
     "output_type": "display_data"
    },
    {
     "name": "stdout",
     "output_type": "stream",
     "text": [
      "R110_1.2.752.24.7.621449242.2496567_1.3.12.2.1107.5.2.30.26380.2013071614361188837536432.0.0.0\n"
     ]
    },
    {
     "data": {
      "application/vnd.jupyter.widget-view+json": {
       "model_id": "85182e551b7c4d7f8cf8d1ed17bf5bd6",
       "version_major": 2,
       "version_minor": 0
      },
      "text/plain": [
       "HBox(children=(Image(value=b'GIF89a\\x15\\x01q\\x01\\xf6\\x00\\x00\\x01\\x01\\x01\\x0c\\x0c\\x0c\\x14\\x14\\x14\\x1b\\x1b\\x1b5\\…"
      ]
     },
     "metadata": {},
     "output_type": "display_data"
    },
    {
     "name": "stdout",
     "output_type": "stream",
     "text": [
      "R432_1.2.752.24.7.621449243.4174324_1.3.12.2.1107.5.2.30.26380.2018072711524330513832807.0.0.0\n"
     ]
    },
    {
     "data": {
      "application/vnd.jupyter.widget-view+json": {
       "model_id": "cbe19cd9f9f54b148feb6be197a926ec",
       "version_major": 2,
       "version_minor": 0
      },
      "text/plain": [
       "HBox(children=(Image(value=b'GIF89a\\x15\\x01q\\x01\\xf6\\x00\\x00\\x01\\x01\\x01\\x0b\\x0b\\x0b\\x14\\x14\\x14\\x1c\\x1c\\x1c6\\…"
      ]
     },
     "metadata": {},
     "output_type": "display_data"
    },
    {
     "name": "stdout",
     "output_type": "stream",
     "text": [
      "R346_1.2.752.24.7.621449243.3762491_1.3.12.2.1107.5.2.30.26380.2017052318073346244269173.0.0.0\n"
     ]
    },
    {
     "data": {
      "application/vnd.jupyter.widget-view+json": {
       "model_id": "efd38729802740bf9b4fe9329e000f36",
       "version_major": 2,
       "version_minor": 0
      },
      "text/plain": [
       "HBox(children=(Image(value=b'GIF89a\\x15\\x01q\\x01\\xf6\\x00\\x00\\x01\\x01\\x01\\x0b\\x0b\\x0b\\x14\\x14\\x14\\x1c\\x1c\\x1c6\\…"
      ]
     },
     "metadata": {},
     "output_type": "display_data"
    },
    {
     "name": "stdout",
     "output_type": "stream",
     "text": [
      "R191_1.2.752.24.7.621449243.2848042_1.3.12.2.1107.5.2.30.26380.2014093011542874608034833.0.0.0\n"
     ]
    },
    {
     "data": {
      "application/vnd.jupyter.widget-view+json": {
       "model_id": "bce4c393a98749a0ab34b78c07b81157",
       "version_major": 2,
       "version_minor": 0
      },
      "text/plain": [
       "HBox(children=(Image(value=b'GIF89a\\x15\\x01q\\x01\\xf6\\x00\\x00\\x01\\x01\\x01\\x0c\\x0c\\x0c\\x14\\x14\\x14\\x1b\\x1b\\x1b4\\…"
      ]
     },
     "metadata": {},
     "output_type": "display_data"
    },
    {
     "name": "stdout",
     "output_type": "stream",
     "text": [
      "R113_1.2.752.24.7.621449242.2502782_1.3.12.2.1107.5.2.30.26380.2013080509531454587717311.0.0.0\n"
     ]
    },
    {
     "data": {
      "application/vnd.jupyter.widget-view+json": {
       "model_id": "0dfc1f5eb66844f392a191c0851c574c",
       "version_major": 2,
       "version_minor": 0
      },
      "text/plain": [
       "HBox(children=(Image(value=b'GIF89a\\x15\\x01q\\x01\\xf6\\x00\\x00\\x01\\x01\\x01\\x0c\\x0c\\x0c\\x14\\x14\\x14\\x1c\\x1c\\x1c3\\…"
      ]
     },
     "metadata": {},
     "output_type": "display_data"
    },
    {
     "name": "stdout",
     "output_type": "stream",
     "text": [
      "R488_1.2.752.24.7.3857403154.4823539_1.3.12.2.1107.5.2.41.169723.2020041411290542828144436.0.0.0\n"
     ]
    },
    {
     "data": {
      "application/vnd.jupyter.widget-view+json": {
       "model_id": "d9e85bea030649e28121ee4db94dfefe",
       "version_major": 2,
       "version_minor": 0
      },
      "text/plain": [
       "HBox(children=(Image(value=b'GIF89aq\\x01q\\x01\\xf6\\x00\\x00\\x04\\x04\\x04\\x0b\\x0b\\x0b\\x13\\x13\\x13\\x1b\\x1b\\x1b7\\x04…"
      ]
     },
     "metadata": {},
     "output_type": "display_data"
    },
    {
     "name": "stdout",
     "output_type": "stream",
     "text": [
      "R169_1.2.752.24.7.621449243.2743029_1.3.12.2.1107.5.2.30.26380.2014052114191327426844540.0.0.0\n"
     ]
    },
    {
     "data": {
      "application/vnd.jupyter.widget-view+json": {
       "model_id": "9aff9db8783b43a390f1f6415a0f654b",
       "version_major": 2,
       "version_minor": 0
      },
      "text/plain": [
       "HBox(children=(Image(value=b'GIF89a\\x15\\x01q\\x01\\xf5\\x00\\x00\\x01\\x01\\x01\\x0c\\x0c\\x0c\\x14\\x14\\x14\\x1b\\x1b\\x1b7\\…"
      ]
     },
     "metadata": {},
     "output_type": "display_data"
    },
    {
     "name": "stdout",
     "output_type": "stream",
     "text": [
      "R120_1.2.752.24.7.621449242.2520380_1.3.12.2.1107.5.2.30.26380.2013082612035531457425112.0.0.0\n"
     ]
    },
    {
     "data": {
      "application/vnd.jupyter.widget-view+json": {
       "model_id": "1050126426004940944a09d188fc07a0",
       "version_major": 2,
       "version_minor": 0
      },
      "text/plain": [
       "HBox(children=(Image(value=b'GIF89a\\x15\\x01q\\x01\\xf6\\x00\\x00\\x01\\x01\\x01\\x0c\\x0c\\x0c\\x14\\x14\\x14\\x1c\\x1c\\x1c6\\…"
      ]
     },
     "metadata": {},
     "output_type": "display_data"
    },
    {
     "name": "stdout",
     "output_type": "stream",
     "text": [
      "R268_1.2.752.24.7.621449243.3348362_1.3.12.2.1107.5.2.30.26380.2016042011035587365023980.0.0.0\n"
     ]
    },
    {
     "data": {
      "application/vnd.jupyter.widget-view+json": {
       "model_id": "fee639501d1744058cad955c99c3bd57",
       "version_major": 2,
       "version_minor": 0
      },
      "text/plain": [
       "HBox(children=(Image(value=b'GIF89a\\x15\\x01q\\x01\\xf6\\x00\\x00\\x01\\x01\\x01\\x0b\\x0b\\x0b\\x14\\x14\\x14\\x1c\\x1c\\x1c6\\…"
      ]
     },
     "metadata": {},
     "output_type": "display_data"
    },
    {
     "name": "stdout",
     "output_type": "stream",
     "text": [
      "R444_1.2.752.24.7.621449242.4597928_1.3.12.2.1107.5.2.41.169723.2019091813423277459299362.5.0.0\n"
     ]
    },
    {
     "data": {
      "application/vnd.jupyter.widget-view+json": {
       "model_id": "097011a0e31549ab9832fa53ebfd03df",
       "version_major": 2,
       "version_minor": 0
      },
      "text/plain": [
       "HBox(children=(Image(value=b'GIF89aq\\x01q\\x01\\xf6\\x00\\x00\\x02\\x02\\x02\\x0b\\x0b\\x0b\\x14\\x14\\x14\\x1c\\x1c\\x1c6\\x04…"
      ]
     },
     "metadata": {},
     "output_type": "display_data"
    },
    {
     "name": "stdout",
     "output_type": "stream",
     "text": [
      "R151_1.2.752.24.7.621449242.2681576_1.3.12.2.1107.5.2.30.26380.2014031714055919768038851.0.0.0\n"
     ]
    },
    {
     "data": {
      "application/vnd.jupyter.widget-view+json": {
       "model_id": "a3fdc6ca906240d6baf7b2acd177c86c",
       "version_major": 2,
       "version_minor": 0
      },
      "text/plain": [
       "HBox(children=(Image(value=b'GIF89a\\x15\\x01q\\x01\\xf5\\x00\\x00\\x01\\x01\\x01\\x0c\\x0c\\x0c\\x14\\x14\\x14\\x1c\\x1c\\x1c6\\…"
      ]
     },
     "metadata": {},
     "output_type": "display_data"
    },
    {
     "name": "stdout",
     "output_type": "stream",
     "text": [
      "R179_1.2.752.24.7.621449243.2758537_1.3.12.2.1107.5.2.30.26380.201406131126457398119359.0.0.0\n"
     ]
    },
    {
     "data": {
      "application/vnd.jupyter.widget-view+json": {
       "model_id": "bae3729d5cac4b138bdfaea041da2d7e",
       "version_major": 2,
       "version_minor": 0
      },
      "text/plain": [
       "HBox(children=(Image(value=b'GIF89a\\x15\\x01q\\x01\\xf6\\x00\\x00\\x01\\x01\\x01\\x0c\\x0c\\x0c\\x14\\x14\\x14\\x1b\\x1b\\x1b5\\…"
      ]
     },
     "metadata": {},
     "output_type": "display_data"
    },
    {
     "name": "stdout",
     "output_type": "stream",
     "text": [
      "R449_1.2.752.24.7.621449242.4619824_1.3.12.2.1107.5.2.41.169723.2019100711263311201652994.0.0.0\n"
     ]
    },
    {
     "data": {
      "application/vnd.jupyter.widget-view+json": {
       "model_id": "6510cebf8b714b41ad14365c1a530759",
       "version_major": 2,
       "version_minor": 0
      },
      "text/plain": [
       "HBox(children=(Image(value=b'GIF89aq\\x01q\\x01\\xf6\\x00\\x00\\x03\\x03\\x03\\n\\n\\n\\x13\\x13\\x13\\x1c\\x1c\\x1c6\\x03\\x03:\\…"
      ]
     },
     "metadata": {},
     "output_type": "display_data"
    },
    {
     "name": "stdout",
     "output_type": "stream",
     "text": [
      "R213_1.2.752.24.7.621449243.2998981_1.3.12.2.1107.5.2.30.26380.2015030416005548311769371.0.0.0\n"
     ]
    },
    {
     "data": {
      "application/vnd.jupyter.widget-view+json": {
       "model_id": "6e0dacf8627643a38dd7954f56ac81b4",
       "version_major": 2,
       "version_minor": 0
      },
      "text/plain": [
       "HBox(children=(Image(value=b'GIF89a\\x15\\x01q\\x01\\xf6\\x00\\x00\\x01\\x01\\x01\\x0c\\x0c\\x0c\\x14\\x14\\x14\\x1c\\x1c\\x1c6\\…"
      ]
     },
     "metadata": {},
     "output_type": "display_data"
    },
    {
     "name": "stdout",
     "output_type": "stream",
     "text": [
      "R556_1.2.752.24.7.3857403153.5178564_1.3.12.2.1107.5.2.41.169723.2020112311273792311833122.3.0.0\n"
     ]
    },
    {
     "data": {
      "application/vnd.jupyter.widget-view+json": {
       "model_id": "f3133cfe18ba4702b8515948aa765826",
       "version_major": 2,
       "version_minor": 0
      },
      "text/plain": [
       "HBox(children=(Image(value=b'GIF89aq\\x01q\\x01\\xf6\\x00\\x00\\x02\\x02\\x02\\x0b\\x0b\\x0b\\x14\\x14\\x14\\x1c\\x1c\\x1c7\\x04…"
      ]
     },
     "metadata": {},
     "output_type": "display_data"
    },
    {
     "name": "stdout",
     "output_type": "stream",
     "text": [
      "R133_1.2.752.24.7.621449242.2599830_1.3.12.2.1107.5.2.30.26380.2013120312343114169530358.0.0.0\n"
     ]
    },
    {
     "data": {
      "application/vnd.jupyter.widget-view+json": {
       "model_id": "91d16f11e823423b842675d6131f5b61",
       "version_major": 2,
       "version_minor": 0
      },
      "text/plain": [
       "HBox(children=(Image(value=b'GIF89a\\x15\\x01q\\x01\\xf6\\x00\\x00\\x01\\x01\\x01\\x0c\\x0c\\x0c\\x14\\x14\\x14\\x1c\\x1c\\x1c6\\…"
      ]
     },
     "metadata": {},
     "output_type": "display_data"
    },
    {
     "name": "stdout",
     "output_type": "stream",
     "text": [
      "R083_1.2.752.24.7.621449243.2305632_1.3.12.2.1107.5.2.30.26380.2012112813321419276036919.0.0.0\n"
     ]
    },
    {
     "data": {
      "application/vnd.jupyter.widget-view+json": {
       "model_id": "5f83362860fc442584ee9bde9118849d",
       "version_major": 2,
       "version_minor": 0
      },
      "text/plain": [
       "HBox(children=(Image(value=b'GIF89a\\x15\\x01q\\x01\\xf6\\x00\\x00\\x01\\x01\\x01\\x0c\\x0c\\x0c\\x14\\x14\\x14\\x1b\\x1b\\x1b9\\…"
      ]
     },
     "metadata": {},
     "output_type": "display_data"
    },
    {
     "name": "stdout",
     "output_type": "stream",
     "text": [
      "R108_1.2.752.24.7.621449242.2481264_1.3.12.2.1107.5.2.30.26380.2013062812372370404518604.0.0.0\n"
     ]
    },
    {
     "data": {
      "application/vnd.jupyter.widget-view+json": {
       "model_id": "6a7d14c581194577b46b7181e4727ab4",
       "version_major": 2,
       "version_minor": 0
      },
      "text/plain": [
       "HBox(children=(Image(value=b'GIF89a\\x15\\x01q\\x01\\xf6\\x00\\x00\\x01\\x01\\x01\\x0c\\x0c\\x0c\\x14\\x14\\x14\\x1c\\x1c\\x1c6\\…"
      ]
     },
     "metadata": {},
     "output_type": "display_data"
    },
    {
     "name": "stdout",
     "output_type": "stream",
     "text": [
      "R405_1.2.752.24.7.621449243.4042013_1.3.12.2.1107.5.2.30.26380.2018031608235426082703344.0.0.0\n"
     ]
    },
    {
     "data": {
      "application/vnd.jupyter.widget-view+json": {
       "model_id": "4334e1822c36429f941db7eb76c0f085",
       "version_major": 2,
       "version_minor": 0
      },
      "text/plain": [
       "HBox(children=(Image(value=b'GIF89a,\\x01q\\x01\\xf6\\x00\\x00\\x01\\x01\\x01\\x0c\\x0c\\x0c\\x14\\x14\\x14\\x1c\\x1c\\x1c4\\x01…"
      ]
     },
     "metadata": {},
     "output_type": "display_data"
    },
    {
     "name": "stdout",
     "output_type": "stream",
     "text": [
      "R216_1.2.752.24.7.621449243.3011026_1.3.12.2.1107.5.2.30.26380.2015032513535830211233884.0.0.0\n"
     ]
    },
    {
     "data": {
      "application/vnd.jupyter.widget-view+json": {
       "model_id": "6637575a4d9a4269b39b99b5e6d52b25",
       "version_major": 2,
       "version_minor": 0
      },
      "text/plain": [
       "HBox(children=(Image(value=b'GIF89a\\x15\\x01q\\x01\\xf5\\x00\\x00\\x02\\x02\\x02\\x0c\\x0c\\x0c\\x14\\x14\\x14\\x1b\\x1b\\x1b4\\…"
      ]
     },
     "metadata": {},
     "output_type": "display_data"
    },
    {
     "name": "stdout",
     "output_type": "stream",
     "text": [
      "R262_1.2.752.24.7.621449243.3357347_1.3.12.2.1107.5.2.30.26380.2016040113415017407636536.0.0.0\n"
     ]
    },
    {
     "data": {
      "application/vnd.jupyter.widget-view+json": {
       "model_id": "8df3ae2520894ae99d3ac187690dfd24",
       "version_major": 2,
       "version_minor": 0
      },
      "text/plain": [
       "HBox(children=(Image(value=b'GIF89a\\x15\\x01q\\x01\\xf6\\x00\\x00\\x01\\x01\\x01\\x0c\\x0c\\x0c\\x14\\x14\\x14\\x1c\\x1c\\x1c6\\…"
      ]
     },
     "metadata": {},
     "output_type": "display_data"
    },
    {
     "name": "stdout",
     "output_type": "stream",
     "text": [
      "R538_1.2.752.24.7.3857403153.5086200_1.3.12.2.1107.5.2.41.169723.2020092811543695164632443.3.0.0\n"
     ]
    },
    {
     "data": {
      "application/vnd.jupyter.widget-view+json": {
       "model_id": "064d38269bb440d98285224ee4d90855",
       "version_major": 2,
       "version_minor": 0
      },
      "text/plain": [
       "HBox(children=(Image(value=b'GIF89aq\\x01q\\x01\\xf6\\x00\\x00\\x02\\x02\\x02\\x0c\\x0c\\x0c\\x14\\x14\\x14\\x1b\\x1b\\x1b6\\x03…"
      ]
     },
     "metadata": {},
     "output_type": "display_data"
    },
    {
     "name": "stdout",
     "output_type": "stream",
     "text": [
      "R103_1.2.752.24.7.621449242.2459234_1.3.12.2.1107.5.2.30.26380.2013060713031521862929237.0.0.0\n"
     ]
    },
    {
     "data": {
      "application/vnd.jupyter.widget-view+json": {
       "model_id": "fe6b28dd0e1c4a3fae87f49e77ac7d36",
       "version_major": 2,
       "version_minor": 0
      },
      "text/plain": [
       "HBox(children=(Image(value=b'GIF89a\\x15\\x01q\\x01\\xf6\\x00\\x00\\x01\\x01\\x01\\x0c\\x0c\\x0c\\x14\\x14\\x14\\x1b\\x1b\\x1b6\\…"
      ]
     },
     "metadata": {},
     "output_type": "display_data"
    },
    {
     "name": "stdout",
     "output_type": "stream",
     "text": [
      "R534_1.2.752.24.7.3857403153.5063314_1.3.12.2.1107.5.2.41.169723.2020091609340032458215238.5.0.0\n"
     ]
    },
    {
     "data": {
      "application/vnd.jupyter.widget-view+json": {
       "model_id": "760a57fff3e542a8853314eb9fd9189b",
       "version_major": 2,
       "version_minor": 0
      },
      "text/plain": [
       "HBox(children=(Image(value=b'GIF89aq\\x01q\\x01\\xf6\\x00\\x00\\x04\\x04\\x04\\x0b\\x0b\\x0b\\x13\\x13\\x13\\x1b\\x1b\\x1b:\\x07…"
      ]
     },
     "metadata": {},
     "output_type": "display_data"
    },
    {
     "name": "stdout",
     "output_type": "stream",
     "text": [
      "R341_1.2.752.24.7.621449242.3738849_1.3.12.2.1107.5.2.30.26380.2017051112245364152824253.0.0.0\n"
     ]
    },
    {
     "data": {
      "application/vnd.jupyter.widget-view+json": {
       "model_id": "afb4855ed544406b8f0286cd2a28a97b",
       "version_major": 2,
       "version_minor": 0
      },
      "text/plain": [
       "HBox(children=(Image(value=b'GIF89a\\x15\\x01q\\x01\\xf6\\x00\\x00\\x01\\x01\\x01\\x0c\\x0c\\x0c\\x14\\x14\\x14\\x1c\\x1c\\x1c5\\…"
      ]
     },
     "metadata": {},
     "output_type": "display_data"
    },
    {
     "name": "stdout",
     "output_type": "stream",
     "text": [
      "R469_1.2.752.24.7.3857403154.4714332_1.3.12.2.1107.5.2.41.169723.2020012211063114173547266.0.0.0\n"
     ]
    },
    {
     "data": {
      "application/vnd.jupyter.widget-view+json": {
       "model_id": "8f0975217c384e46b711bb0e83676a01",
       "version_major": 2,
       "version_minor": 0
      },
      "text/plain": [
       "HBox(children=(Image(value=b'GIF89aq\\x01q\\x01\\xf5\\x00\\x00\\x02\\x02\\x02\\x0c\\x0c\\x0c\\x14\\x14\\x14\\x1b\\x1b\\x1b6\\x04…"
      ]
     },
     "metadata": {},
     "output_type": "display_data"
    },
    {
     "name": "stdout",
     "output_type": "stream",
     "text": [
      "R392_1.2.752.24.7.621449243.3980596_1.3.12.2.1107.5.2.30.26380.201801151242148638727880.0.0.0\n"
     ]
    },
    {
     "data": {
      "application/vnd.jupyter.widget-view+json": {
       "model_id": "0d3fb8d7ff6d47e387001eda4118d879",
       "version_major": 2,
       "version_minor": 0
      },
      "text/plain": [
       "HBox(children=(Image(value=b'GIF89a\\x15\\x01q\\x01\\xf6\\x00\\x00\\x01\\x01\\x01\\x0c\\x0c\\x0c\\x14\\x14\\x14\\x1b\\x1b\\x1b5\\…"
      ]
     },
     "metadata": {},
     "output_type": "display_data"
    },
    {
     "name": "stdout",
     "output_type": "stream",
     "text": [
      "R125_1.2.752.24.7.621449242.2535742_1.3.12.2.1107.5.2.30.26380.2013091813212357494532283.0.0.0\n"
     ]
    },
    {
     "data": {
      "application/vnd.jupyter.widget-view+json": {
       "model_id": "7d0901e2d71240c58d59654365a7fa36",
       "version_major": 2,
       "version_minor": 0
      },
      "text/plain": [
       "HBox(children=(Image(value=b'GIF89a\\x15\\x01q\\x01\\xf6\\x00\\x00\\x01\\x01\\x01\\x0c\\x0c\\x0c\\x14\\x14\\x14\\x1b\\x1b\\x1b5\\…"
      ]
     },
     "metadata": {},
     "output_type": "display_data"
    },
    {
     "name": "stdout",
     "output_type": "stream",
     "text": [
      "R473_1.2.752.24.7.3857403153.4748571_1.3.12.2.1107.5.2.41.169723.2020021213550382541814515.3.0.0\n"
     ]
    },
    {
     "data": {
      "application/vnd.jupyter.widget-view+json": {
       "model_id": "5659ca1f8bed43aab49d5c5fa35d0e5e",
       "version_major": 2,
       "version_minor": 0
      },
      "text/plain": [
       "HBox(children=(Image(value=b'GIF89aq\\x01q\\x01\\xf6\\x00\\x00\\x02\\x02\\x02\\x0b\\x0b\\x0b\\x14\\x14\\x14\\x1b\\x1b\\x1b6\\x04…"
      ]
     },
     "metadata": {},
     "output_type": "display_data"
    },
    {
     "name": "stdout",
     "output_type": "stream",
     "text": [
      "R084_1.2.752.24.7.621449242.2326161_1.3.12.2.1107.5.2.30.26380.2013010213055959580822752.0.0.0\n"
     ]
    },
    {
     "data": {
      "application/vnd.jupyter.widget-view+json": {
       "model_id": "2be980510dc44f95b5f39f55eaf86cc7",
       "version_major": 2,
       "version_minor": 0
      },
      "text/plain": [
       "HBox(children=(Image(value=b'GIF89a\\x15\\x01q\\x01\\xf6\\x00\\x00\\x01\\x01\\x01\\x0b\\x0b\\x0b\\x14\\x14\\x14\\x1b\\x1b\\x1b6\\…"
      ]
     },
     "metadata": {},
     "output_type": "display_data"
    },
    {
     "name": "stdout",
     "output_type": "stream",
     "text": [
      "R249_1.2.752.24.7.621449242.3256751_1.3.12.2.1107.5.2.30.26380.2015121613443553326921822.0.0.0\n"
     ]
    },
    {
     "data": {
      "application/vnd.jupyter.widget-view+json": {
       "model_id": "c9d8dc09e7f54960b58cea5a6bfb3b1c",
       "version_major": 2,
       "version_minor": 0
      },
      "text/plain": [
       "HBox(children=(Image(value=b'GIF89a\\x15\\x01q\\x01\\xf6\\x00\\x00\\x00\\x00\\x00\\x0c\\x0c\\x0c\\x13\\x13\\x13\\x1c\\x1c\\x1c5\\…"
      ]
     },
     "metadata": {},
     "output_type": "display_data"
    },
    {
     "name": "stdout",
     "output_type": "stream",
     "text": [
      "R185_1.2.752.24.7.621449243.2824466_1.3.12.2.1107.5.2.30.26380.2014090211194171647421734.0.0.0\n"
     ]
    },
    {
     "data": {
      "application/vnd.jupyter.widget-view+json": {
       "model_id": "97c1aa94322444c3802a46650f0caccc",
       "version_major": 2,
       "version_minor": 0
      },
      "text/plain": [
       "HBox(children=(Image(value=b'GIF89a\\x15\\x01q\\x01\\xf6\\x00\\x00\\x00\\x00\\x00\\x0b\\x0b\\x0b\\x14\\x14\\x14\\x1b\\x1b\\x1b5\\…"
      ]
     },
     "metadata": {},
     "output_type": "display_data"
    },
    {
     "name": "stdout",
     "output_type": "stream",
     "text": [
      "R314_1.2.752.24.7.621449243.3617390_1.3.12.2.1107.5.2.30.26380.2017011814180497181953115.0.0.0\n"
     ]
    },
    {
     "data": {
      "application/vnd.jupyter.widget-view+json": {
       "model_id": "52305af216cb487f8f95bfaac7785fa9",
       "version_major": 2,
       "version_minor": 0
      },
      "text/plain": [
       "HBox(children=(Image(value=b'GIF89a\\x15\\x01q\\x01\\xf6\\x00\\x00\\x01\\x01\\x01\\x0b\\x0b\\x0b\\x13\\x13\\x13\\x1c\\x1c\\x1c6\\…"
      ]
     },
     "metadata": {},
     "output_type": "display_data"
    },
    {
     "name": "stdout",
     "output_type": "stream",
     "text": [
      "R435_1.2.752.24.7.621449243.4563432_1.3.12.2.1107.5.2.41.169723.2019081414581982243596831.2.0.0\n"
     ]
    },
    {
     "data": {
      "application/vnd.jupyter.widget-view+json": {
       "model_id": "21489d05d4a547fc81ea2947c3468298",
       "version_major": 2,
       "version_minor": 0
      },
      "text/plain": [
       "HBox(children=(Image(value=b'GIF89aq\\x01q\\x01\\xf6\\x00\\x00\\x03\\x03\\x03\\x0b\\x0b\\x0b\\x14\\x14\\x14\\x1b\\x1b\\x1b7\\x04…"
      ]
     },
     "metadata": {},
     "output_type": "display_data"
    },
    {
     "name": "stdout",
     "output_type": "stream",
     "text": [
      "R311_1.2.752.24.7.621449242.3628546_1.3.12.2.1107.5.2.30.26380.201612201418047408338243.0.0.0\n"
     ]
    },
    {
     "data": {
      "application/vnd.jupyter.widget-view+json": {
       "model_id": "e8c5a8f06d8a4655bf261e46cda79e75",
       "version_major": 2,
       "version_minor": 0
      },
      "text/plain": [
       "HBox(children=(Image(value=b'GIF89a\\x15\\x01q\\x01\\xf6\\x00\\x00\\x01\\x01\\x01\\x0c\\x0c\\x0c\\x14\\x14\\x14\\x1c\\x1c\\x1c9\\…"
      ]
     },
     "metadata": {},
     "output_type": "display_data"
    },
    {
     "name": "stdout",
     "output_type": "stream",
     "text": [
      "R266_1.2.752.24.7.621449243.3369114_1.3.12.2.1107.5.2.30.26380.2016041314192391450446320.0.0.0\n"
     ]
    },
    {
     "data": {
      "application/vnd.jupyter.widget-view+json": {
       "model_id": "5ad13a363faf4fde9421791abba20c99",
       "version_major": 2,
       "version_minor": 0
      },
      "text/plain": [
       "HBox(children=(Image(value=b'GIF89a\\x15\\x01q\\x01\\xf6\\x00\\x00\\x01\\x01\\x01\\x0b\\x0b\\x0b\\x14\\x14\\x14\\x1c\\x1c\\x1c5\\…"
      ]
     },
     "metadata": {},
     "output_type": "display_data"
    },
    {
     "name": "stdout",
     "output_type": "stream",
     "text": [
      "R104_1.2.752.24.7.621449242.2459231_1.3.12.2.1107.5.2.30.26380.2013060715334882484067080.0.0.0\n"
     ]
    },
    {
     "data": {
      "application/vnd.jupyter.widget-view+json": {
       "model_id": "05469d35c97e4e97b5610ff2cfcfc970",
       "version_major": 2,
       "version_minor": 0
      },
      "text/plain": [
       "HBox(children=(Image(value=b'GIF89a\\x15\\x01q\\x01\\xf6\\x00\\x00\\x01\\x01\\x01\\x0b\\x0b\\x0b\\x14\\x14\\x14\\x1c\\x1c\\x1c6\\…"
      ]
     },
     "metadata": {},
     "output_type": "display_data"
    },
    {
     "name": "stdout",
     "output_type": "stream",
     "text": [
      "R220_1.2.752.24.7.621449243.3030114_1.3.12.2.1107.5.2.30.26380.2015041614395923197034968.0.0.0\n"
     ]
    },
    {
     "data": {
      "application/vnd.jupyter.widget-view+json": {
       "model_id": "52dfb82a389d4d7cb29fb894c8c1d19e",
       "version_major": 2,
       "version_minor": 0
      },
      "text/plain": [
       "HBox(children=(Image(value=b'GIF89a\\x15\\x01q\\x01\\xf6\\x00\\x00\\x01\\x01\\x01\\x0c\\x0c\\x0c\\x14\\x14\\x14\\x1c\\x1c\\x1c6\\…"
      ]
     },
     "metadata": {},
     "output_type": "display_data"
    },
    {
     "name": "stdout",
     "output_type": "stream",
     "text": [
      "R148_1.2.752.24.7.621449242.2681079_1.3.12.2.1107.5.2.30.26380.2014031013291164584429528.0.0.0\n"
     ]
    },
    {
     "data": {
      "application/vnd.jupyter.widget-view+json": {
       "model_id": "ae466d8a24d04166a9144359d0ecc6db",
       "version_major": 2,
       "version_minor": 0
      },
      "text/plain": [
       "HBox(children=(Image(value=b'GIF89aN\\x01q\\x01\\xf5\\x00\\x00\\x01\\x01\\x01\\x0c\\x0c\\x0c\\x13\\x13\\x13\\x1b\\x1b\\x1b6\\x03…"
      ]
     },
     "metadata": {},
     "output_type": "display_data"
    },
    {
     "name": "stdout",
     "output_type": "stream",
     "text": [
      "R317_1.2.752.24.7.621449242.3642595_1.3.12.2.1107.5.2.30.26380.2017012615242784711951430.0.0.0\n"
     ]
    },
    {
     "data": {
      "application/vnd.jupyter.widget-view+json": {
       "model_id": "7c555ac9b86a4abd9ff8f4ea03d43b58",
       "version_major": 2,
       "version_minor": 0
      },
      "text/plain": [
       "HBox(children=(Image(value=b'GIF89a\\x15\\x01q\\x01\\xf6\\x00\\x00\\x01\\x01\\x01\\x0c\\x0c\\x0c\\x14\\x14\\x14\\x1c\\x1c\\x1c5\\…"
      ]
     },
     "metadata": {},
     "output_type": "display_data"
    },
    {
     "name": "stdout",
     "output_type": "stream",
     "text": [
      "R128_1.2.752.24.7.621449242.2578483_1.3.12.2.1107.5.2.30.26380.2013110613234839696434569.0.0.0\n"
     ]
    },
    {
     "data": {
      "application/vnd.jupyter.widget-view+json": {
       "model_id": "41c31843ddfd4631822714f623bc405b",
       "version_major": 2,
       "version_minor": 0
      },
      "text/plain": [
       "HBox(children=(Image(value=b'GIF89a\\x15\\x01q\\x01\\xf6\\x00\\x00\\x01\\x01\\x01\\x0b\\x0b\\x0b\\x14\\x14\\x14\\x1c\\x1c\\x1c5\\…"
      ]
     },
     "metadata": {},
     "output_type": "display_data"
    },
    {
     "name": "stdout",
     "output_type": "stream",
     "text": [
      "R439_1.2.752.24.7.621449242.4575689_1.3.12.2.1107.5.2.41.169723.2019082811223689597539863.4.0.0\n"
     ]
    },
    {
     "data": {
      "application/vnd.jupyter.widget-view+json": {
       "model_id": "06576cb9f1d24c37b7fac65547fee2c6",
       "version_major": 2,
       "version_minor": 0
      },
      "text/plain": [
       "HBox(children=(Image(value=b'GIF89aq\\x01q\\x01\\xf6\\x00\\x00\\x03\\x03\\x03\\x0b\\x0b\\x0b\\x13\\x13\\x13\\x1c\\x1c\\x1c7\\x04…"
      ]
     },
     "metadata": {},
     "output_type": "display_data"
    },
    {
     "name": "stdout",
     "output_type": "stream",
     "text": [
      "R448_1.2.752.24.7.621449242.4597937_1.3.12.2.1107.5.2.41.169723.2019092312091399934450940.3.0.0\n"
     ]
    },
    {
     "data": {
      "application/vnd.jupyter.widget-view+json": {
       "model_id": "66900385c87943cfa1329019cdc53275",
       "version_major": 2,
       "version_minor": 0
      },
      "text/plain": [
       "HBox(children=(Image(value=b'GIF89aq\\x01q\\x01\\xf6\\x00\\x00\\x03\\x03\\x03\\x0c\\x0c\\x0c\\x13\\x13\\x13\\x1c\\x1c\\x1c7\\x04…"
      ]
     },
     "metadata": {},
     "output_type": "display_data"
    },
    {
     "name": "stdout",
     "output_type": "stream",
     "text": [
      "R339_1.2.752.24.7.621449242.3725354_1.3.12.2.1107.5.2.30.26380.2017042614472292153064029.0.0.0\n"
     ]
    },
    {
     "data": {
      "application/vnd.jupyter.widget-view+json": {
       "model_id": "e8476dd3be414bffa0500e4ca63644d1",
       "version_major": 2,
       "version_minor": 0
      },
      "text/plain": [
       "HBox(children=(Image(value=b'GIF89a\\x15\\x01q\\x01\\xf6\\x00\\x00\\x01\\x01\\x01\\x0c\\x0c\\x0c\\x14\\x14\\x14\\x1c\\x1c\\x1c6\\…"
      ]
     },
     "metadata": {},
     "output_type": "display_data"
    },
    {
     "name": "stdout",
     "output_type": "stream",
     "text": [
      "R166_1.2.752.24.7.621449243.2724402_1.3.12.2.1107.5.2.30.26380.2014042915281569274956975.0.0.0\n"
     ]
    },
    {
     "data": {
      "application/vnd.jupyter.widget-view+json": {
       "model_id": "ffca60a52bfb4b10b805920ff3831615",
       "version_major": 2,
       "version_minor": 0
      },
      "text/plain": [
       "HBox(children=(Image(value=b'GIF89a\\x15\\x01q\\x01\\xf5\\x00\\x00\\x01\\x01\\x01\\x0c\\x0c\\x0c\\x14\\x14\\x14\\x1c\\x1c\\x1c5\\…"
      ]
     },
     "metadata": {},
     "output_type": "display_data"
    },
    {
     "name": "stdout",
     "output_type": "stream",
     "text": [
      "R177_1.2.752.24.7.621449243.2752561_1.3.12.2.1107.5.2.30.26380.2014060414122089795136885.0.0.0\n"
     ]
    },
    {
     "data": {
      "application/vnd.jupyter.widget-view+json": {
       "model_id": "5f4ac664f66241c2bf827122e1216765",
       "version_major": 2,
       "version_minor": 0
      },
      "text/plain": [
       "HBox(children=(Image(value=b'GIF89a\\x15\\x01q\\x01\\xf6\\x00\\x00\\x01\\x01\\x01\\x0c\\x0c\\x0c\\x14\\x14\\x14\\x1c\\x1c\\x1c5\\…"
      ]
     },
     "metadata": {},
     "output_type": "display_data"
    },
    {
     "name": "stdout",
     "output_type": "stream",
     "text": [
      "R457_1.2.752.24.7.621449242.4653098_1.3.12.2.1107.5.2.41.169723.201911131109068325437503.5.0.0\n"
     ]
    },
    {
     "data": {
      "application/vnd.jupyter.widget-view+json": {
       "model_id": "a064cc70cd604a798a13d755213a6459",
       "version_major": 2,
       "version_minor": 0
      },
      "text/plain": [
       "HBox(children=(Image(value=b'GIF89aq\\x01q\\x01\\xf6\\x00\\x00\\x03\\x03\\x03\\x0b\\x0b\\x0b\\x14\\x14\\x14\\x1c\\x1c\\x1c3\\x01…"
      ]
     },
     "metadata": {},
     "output_type": "display_data"
    },
    {
     "name": "stdout",
     "output_type": "stream",
     "text": [
      "R301_1.2.752.24.7.621449243.3550720_1.3.12.2.1107.5.2.30.26380.2016110713143514652345483.0.0.0\n"
     ]
    },
    {
     "data": {
      "application/vnd.jupyter.widget-view+json": {
       "model_id": "138f69b713504e609a77409c2e8cf9a7",
       "version_major": 2,
       "version_minor": 0
      },
      "text/plain": [
       "HBox(children=(Image(value=b'GIF89a\\x15\\x01q\\x01\\xf6\\x00\\x00\\x01\\x01\\x01\\x0b\\x0b\\x0b\\x13\\x13\\x13\\x1c\\x1c\\x1c7\\…"
      ]
     },
     "metadata": {},
     "output_type": "display_data"
    },
    {
     "name": "stdout",
     "output_type": "stream",
     "text": [
      "R285_1.2.752.24.7.621449243.3456935_1.3.12.2.1107.5.2.30.26380.2016070612515174118947735.0.0.0\n"
     ]
    },
    {
     "data": {
      "application/vnd.jupyter.widget-view+json": {
       "model_id": "4ec9de9a2091408fa2a53110114bf790",
       "version_major": 2,
       "version_minor": 0
      },
      "text/plain": [
       "HBox(children=(Image(value=b'GIF89a\\x15\\x01q\\x01\\xf6\\x00\\x00\\x01\\x01\\x01\\x0b\\x0b\\x0b\\x14\\x14\\x14\\x1b\\x1b\\x1b5\\…"
      ]
     },
     "metadata": {},
     "output_type": "display_data"
    },
    {
     "name": "stdout",
     "output_type": "stream",
     "text": [
      "R190_1.2.752.24.7.621449243.2843373_1.3.12.2.1107.5.2.30.26380.201409231608037840956521.0.0.0\n"
     ]
    },
    {
     "data": {
      "application/vnd.jupyter.widget-view+json": {
       "model_id": "941438162b614a76b02423675f948fd9",
       "version_major": 2,
       "version_minor": 0
      },
      "text/plain": [
       "HBox(children=(Image(value=b'GIF89a\\x15\\x01q\\x01\\xf6\\x00\\x00\\x01\\x01\\x01\\x0c\\x0c\\x0c\\x14\\x14\\x14\\x1c\\x1c\\x1c5\\…"
      ]
     },
     "metadata": {},
     "output_type": "display_data"
    },
    {
     "name": "stdout",
     "output_type": "stream",
     "text": [
      "R516_1.2.752.24.7.3857403154.4999183_1.3.12.2.1107.5.2.41.169723.2020070812200771500153169.0.0.0\n"
     ]
    },
    {
     "data": {
      "application/vnd.jupyter.widget-view+json": {
       "model_id": "8df8bbabe26d4111bfb639fabde34254",
       "version_major": 2,
       "version_minor": 0
      },
      "text/plain": [
       "HBox(children=(Image(value=b'GIF89aq\\x01q\\x01\\xf6\\x00\\x00\\x03\\x03\\x03\\x0b\\x0b\\x0b\\x13\\x13\\x13\\x1b\\x1b\\x1b7\\x04…"
      ]
     },
     "metadata": {},
     "output_type": "display_data"
    },
    {
     "name": "stdout",
     "output_type": "stream",
     "text": [
      "R229_1.2.752.24.7.621449242.3108489_1.3.12.2.1107.5.2.30.26380.2015071014495873111844073.0.0.0\n"
     ]
    },
    {
     "data": {
      "application/vnd.jupyter.widget-view+json": {
       "model_id": "4376abecd89f4e2fb7f414a1a87f9649",
       "version_major": 2,
       "version_minor": 0
      },
      "text/plain": [
       "HBox(children=(Image(value=b'GIF89a\\x15\\x01q\\x01\\xf6\\x00\\x00\\x01\\x01\\x01\\x0c\\x0c\\x0c\\x14\\x14\\x14\\x1c\\x1c\\x1c6\\…"
      ]
     },
     "metadata": {},
     "output_type": "display_data"
    },
    {
     "name": "stdout",
     "output_type": "stream",
     "text": [
      "R371_1.2.752.24.7.621449242.3881451_1.3.12.2.1107.5.2.30.26380.2017092709275263704910842.0.0.0\n"
     ]
    },
    {
     "data": {
      "application/vnd.jupyter.widget-view+json": {
       "model_id": "3352aecf4f4b467bb2b7d4d4e45db85f",
       "version_major": 2,
       "version_minor": 0
      },
      "text/plain": [
       "HBox(children=(Image(value=b'GIF89a\\x15\\x01q\\x01\\xf6\\x00\\x00\\x01\\x01\\x01\\x0c\\x0c\\x0c\\x14\\x14\\x14\\x1c\\x1c\\x1c6\\…"
      ]
     },
     "metadata": {},
     "output_type": "display_data"
    },
    {
     "name": "stdout",
     "output_type": "stream",
     "text": [
      "R197_1.2.752.24.7.621449243.2863600_1.3.12.2.1107.5.2.30.26380.2014101710194723711418346.0.0.0\n"
     ]
    },
    {
     "data": {
      "application/vnd.jupyter.widget-view+json": {
       "model_id": "8107ac3240084c9b88ad08b8791a8f96",
       "version_major": 2,
       "version_minor": 0
      },
      "text/plain": [
       "HBox(children=(Image(value=b'GIF89a\\x15\\x01q\\x01\\xf6\\x00\\x00\\x01\\x01\\x01\\x0b\\x0b\\x0b\\x14\\x14\\x14\\x1c\\x1c\\x1c6\\…"
      ]
     },
     "metadata": {},
     "output_type": "display_data"
    }
   ],
   "source": [
    "negative_glob = vs_path.glob(\"R*\")\n",
    "negative_ids = [file.stem for file in negative_glob]\n",
    "\n",
    "for negative_id in negative_ids:\n",
    "    print(negative_id)\n",
    "    vs_img_path = vs_path / (negative_id + \".png\")\n",
    "    vs_gif_path = gifs_path / (negative_id + \".gif\")\n",
    "    \n",
    "    vs_img_file = open(vs_img_path, \"rb\")\n",
    "    vs_gif_file = open(vs_gif_path, \"rb\")\n",
    "    \n",
    "    wi1 = widgets.Image(value=vs_gif_file.read(), format='png')\n",
    "    wi2 = widgets.Image(value=vs_img_file.read(), format='png')\n",
    "    \n",
    "    sidebyside = widgets.HBox([wi1, wi2])\n",
    "    ## Finally, show.\n",
    "    display.display(sidebyside)\n",
    "    \n",
    "    vs_img_file.close()\n",
    "    vs_gif_file.close()"
   ]
  },
  {
   "cell_type": "code",
   "execution_count": null,
   "id": "prospective-snowboard",
   "metadata": {},
   "outputs": [],
   "source": []
  }
 ],
 "metadata": {
  "kernelspec": {
   "display_name": "Python 3",
   "language": "python",
   "name": "python3"
  },
  "language_info": {
   "codemirror_mode": {
    "name": "ipython",
    "version": 3
   },
   "file_extension": ".py",
   "mimetype": "text/x-python",
   "name": "python",
   "nbconvert_exporter": "python",
   "pygments_lexer": "ipython3",
   "version": "3.7.7"
  }
 },
 "nbformat": 4,
 "nbformat_minor": 5
}
