{
 "cells": [
  {
   "cell_type": "code",
   "execution_count": 1,
   "id": "warming-rotation",
   "metadata": {},
   "outputs": [],
   "source": [
    "from pathlib import Path\n",
    "from skimage import io\n",
    "import numpy as np\n",
    "import matplotlib.pyplot as plt\n",
    "import IPython.display as display\n",
    "from IPython.display import Image\n",
    "import ipywidgets as widgets\n",
    "%matplotlib inline"
   ]
  },
  {
   "cell_type": "code",
   "execution_count": 2,
   "id": "arctic-services",
   "metadata": {},
   "outputs": [],
   "source": [
    "vs_path = Path(\"../../data/visualization/visceral_slide/cumulative_vs_contour_reg_full_new\")\n",
    "gifs_path = Path(\"../../experiments/detection_gifs_new\")"
   ]
  },
  {
   "cell_type": "markdown",
   "id": "former-morning",
   "metadata": {},
   "source": [
    "# Positive"
   ]
  },
  {
   "cell_type": "code",
   "execution_count": 3,
   "id": "strategic-criterion",
   "metadata": {},
   "outputs": [
    {
     "name": "stdout",
     "output_type": "stream",
     "text": [
      "ANON4U03RE1DB_1.2.752.24.7.621449243.4490940_1.3.12.2.1107.5.2.30.26380.2019051309524052613408667.0.0.0\n"
     ]
    },
    {
     "data": {
      "application/vnd.jupyter.widget-view+json": {
       "model_id": "b8d171c90de745f8abd68105bb690d0d",
       "version_major": 2,
       "version_minor": 0
      },
      "text/plain": [
       "HBox(children=(Image(value=b'GIF89a\\x15\\x01q\\x01\\xf7\\x00\\x00\\x00\\x00\\x00\\x01\\x01\\x01\\x02\\x02\\x02\\x03\\x03\\x03\\x…"
      ]
     },
     "metadata": {},
     "output_type": "display_data"
    },
    {
     "name": "stdout",
     "output_type": "stream",
     "text": [
      "ANONN723RE1UR_1.2.752.24.7.621449243.4492314_1.3.12.2.1107.5.2.30.26380.2019050914292137466747347.0.0.0\n"
     ]
    },
    {
     "data": {
      "application/vnd.jupyter.widget-view+json": {
       "model_id": "d7af9336aa344b54a020474d2bd06dd5",
       "version_major": 2,
       "version_minor": 0
      },
      "text/plain": [
       "HBox(children=(Image(value=b'GIF89a\\x15\\x01q\\x01\\xf6\\x00\\x00\\x01\\x01\\x01\\x0b\\x0b\\x0b\\x14\\x14\\x14\\x1c\\x1c\\x1c6\\…"
      ]
     },
     "metadata": {},
     "output_type": "display_data"
    },
    {
     "name": "stdout",
     "output_type": "stream",
     "text": [
      "ANON30V2RE10K_1.2.752.24.7.621449243.4463171_1.3.12.2.1107.5.2.30.26380.2019040611294615361516074.0.0.0\n"
     ]
    },
    {
     "data": {
      "application/vnd.jupyter.widget-view+json": {
       "model_id": "4274febd676b4af09db285b828c77fea",
       "version_major": 2,
       "version_minor": 0
      },
      "text/plain": [
       "HBox(children=(Image(value=b'GIF89a\\x15\\x01q\\x01\\xf6\\x00\\x00\\x00\\x00\\x00\\r\\r\\r\\x14\\x14\\x14\\x1b\\x1b\\x1b5\\x03\\x0…"
      ]
     },
     "metadata": {},
     "output_type": "display_data"
    },
    {
     "name": "stdout",
     "output_type": "stream",
     "text": [
      "ANONBQV2RE1TL_1.2.752.24.7.621449243.4447116_1.3.12.2.1107.5.2.30.26380.2019042413222771394051286.0.0.0\n"
     ]
    },
    {
     "data": {
      "application/vnd.jupyter.widget-view+json": {
       "model_id": "52a23c1d50844795a9545825d2fac7f8",
       "version_major": 2,
       "version_minor": 0
      },
      "text/plain": [
       "HBox(children=(Image(value=b'GIF89a\\x15\\x01q\\x01\\xf6\\x00\\x00\\x01\\x01\\x01\\x0c\\x0c\\x0c\\x14\\x14\\x14\\x1b\\x1b\\x1b6\\…"
      ]
     },
     "metadata": {},
     "output_type": "display_data"
    },
    {
     "name": "stdout",
     "output_type": "stream",
     "text": [
      "ANONVLTEPE1DL_1.2.752.24.7.621449243.4325333_1.3.12.2.1107.5.2.30.26380.201812031644485580669653.0.0.0\n"
     ]
    },
    {
     "data": {
      "application/vnd.jupyter.widget-view+json": {
       "model_id": "864492603a1c4774861a570b66996ed2",
       "version_major": 2,
       "version_minor": 0
      },
      "text/plain": [
       "HBox(children=(Image(value=b'GIF89a\\x15\\x01q\\x01\\xf5\\x00\\x00\\x02\\x02\\x02\\x0c\\x0c\\x0c\\x13\\x13\\x13\\x1b\\x1b\\x1b6\\…"
      ]
     },
     "metadata": {},
     "output_type": "display_data"
    },
    {
     "name": "stdout",
     "output_type": "stream",
     "text": [
      "ANON4SV2RE1ET_1.2.752.24.7.621449243.4474616_1.3.12.2.1107.5.2.30.26380.2019060311155223544425245.0.0.0\n"
     ]
    },
    {
     "data": {
      "application/vnd.jupyter.widget-view+json": {
       "model_id": "e398c002e3de40b89ac9403952b952e1",
       "version_major": 2,
       "version_minor": 0
      },
      "text/plain": [
       "HBox(children=(Image(value=b'GIF89a\\x15\\x01q\\x01\\xf6\\x00\\x00\\x01\\x01\\x01\\x0c\\x0c\\x0c\\x14\\x14\\x14\\x1c\\x1c\\x1c6\\…"
      ]
     },
     "metadata": {},
     "output_type": "display_data"
    },
    {
     "name": "stdout",
     "output_type": "stream",
     "text": [
      "ANONTN13RE127_1.2.752.24.7.621449243.4463282_1.3.12.2.1107.5.2.30.26380.201905061109578189022688.0.0.0\n"
     ]
    },
    {
     "data": {
      "application/vnd.jupyter.widget-view+json": {
       "model_id": "fbb2387134794413be8c16d0ff9446c2",
       "version_major": 2,
       "version_minor": 0
      },
      "text/plain": [
       "HBox(children=(Image(value=b'GIF89a\\x15\\x01q\\x01\\xf6\\x00\\x00\\x02\\x02\\x02\\x0c\\x0c\\x0c\\x14\\x14\\x14\\x1c\\x1c\\x1c4\\…"
      ]
     },
     "metadata": {},
     "output_type": "display_data"
    },
    {
     "name": "stdout",
     "output_type": "stream",
     "text": [
      "ANON7613RE1S5_1.2.752.24.7.621449243.4432439_1.3.12.2.1107.5.2.30.26380.2019041714480823565264581.0.0.0\n"
     ]
    },
    {
     "data": {
      "application/vnd.jupyter.widget-view+json": {
       "model_id": "14230f05417a4f16b89159be1990406d",
       "version_major": 2,
       "version_minor": 0
      },
      "text/plain": [
       "HBox(children=(Image(value=b'GIF89a\\x15\\x01q\\x01\\xf6\\x00\\x00\\x01\\x01\\x01\\x0c\\x0c\\x0c\\x14\\x14\\x14\\x1c\\x1c\\x1c6\\…"
      ]
     },
     "metadata": {},
     "output_type": "display_data"
    },
    {
     "name": "stdout",
     "output_type": "stream",
     "text": [
      "ANONA523RE1VM_1.2.752.24.7.621449243.4465961_1.3.12.2.1107.5.2.30.26380.2019042412475820646639835.0.0.0\n"
     ]
    },
    {
     "data": {
      "application/vnd.jupyter.widget-view+json": {
       "model_id": "9dbc6757a0774c39b7c7ea542a6feffd",
       "version_major": 2,
       "version_minor": 0
      },
      "text/plain": [
       "HBox(children=(Image(value=b'GIF89a\\x15\\x01q\\x01\\xf6\\x00\\x00\\x01\\x01\\x01\\x0b\\x0b\\x0b\\x14\\x14\\x14\\x1c\\x1c\\x1c6\\…"
      ]
     },
     "metadata": {},
     "output_type": "display_data"
    },
    {
     "name": "stdout",
     "output_type": "stream",
     "text": [
      "ANONVLTEPE1DL_1.2.752.24.7.621449243.4325333_1.3.12.2.1107.5.2.30.26380.2018120316464514960570273.0.0.0\n"
     ]
    },
    {
     "data": {
      "application/vnd.jupyter.widget-view+json": {
       "model_id": "36f2b1c8237a49ec9b6758cf04c62fa3",
       "version_major": 2,
       "version_minor": 0
      },
      "text/plain": [
       "HBox(children=(Image(value=b'GIF89a\\x15\\x01q\\x01\\xf7\\x00\\x00\\x00\\x00\\x00\\x01\\x01\\x01\\x02\\x02\\x02\\x03\\x03\\x03\\x…"
      ]
     },
     "metadata": {},
     "output_type": "display_data"
    },
    {
     "name": "stdout",
     "output_type": "stream",
     "text": [
      "ANONVLTEPE1DL_1.2.752.24.7.621449243.4325333_1.3.12.2.1107.5.2.30.26380.201812031646035179970025.0.0.0\n"
     ]
    },
    {
     "data": {
      "application/vnd.jupyter.widget-view+json": {
       "model_id": "2120e7871f0544f7a2a4b6d4c91a06d7",
       "version_major": 2,
       "version_minor": 0
      },
      "text/plain": [
       "HBox(children=(Image(value=b'GIF89a\\x15\\x01q\\x01\\xf5\\x00\\x00\\x03\\x03\\x03\\x0c\\x0c\\x0c\\x13\\x13\\x13\\x1b\\x1b\\x1b6\\…"
      ]
     },
     "metadata": {},
     "output_type": "display_data"
    },
    {
     "name": "stdout",
     "output_type": "stream",
     "text": [
      "ANON4SV2RE1ET_1.2.752.24.7.621449243.4474616_1.3.12.2.1107.5.2.30.26380.2019060311131653190024186.0.0.0\n"
     ]
    },
    {
     "data": {
      "application/vnd.jupyter.widget-view+json": {
       "model_id": "4d84dce2579443078f0e35685c7f859c",
       "version_major": 2,
       "version_minor": 0
      },
      "text/plain": [
       "HBox(children=(Image(value=b'GIF89a\\x15\\x01q\\x01\\xf5\\x00\\x00\\x01\\x01\\x01\\x0c\\x0c\\x0c\\x14\\x14\\x14\\x1b\\x1b\\x1b6\\…"
      ]
     },
     "metadata": {},
     "output_type": "display_data"
    },
    {
     "name": "stdout",
     "output_type": "stream",
     "text": [
      "ANON4I13RE1BS_1.2.752.24.7.621449243.4233643_1.3.12.2.1107.5.2.30.26380.2018091908505948323707410.0.0.0\n"
     ]
    },
    {
     "data": {
      "application/vnd.jupyter.widget-view+json": {
       "model_id": "40e6def8f13248b48fffbfa79c7a8c2d",
       "version_major": 2,
       "version_minor": 0
      },
      "text/plain": [
       "HBox(children=(Image(value=b'GIF89a\\x15\\x01q\\x01\\xf6\\x00\\x00\\x01\\x01\\x01\\x0b\\x0b\\x0b\\x14\\x14\\x14\\x1c\\x1c\\x1c7\\…"
      ]
     },
     "metadata": {},
     "output_type": "display_data"
    },
    {
     "name": "stdout",
     "output_type": "stream",
     "text": [
      "ANONP203RE1JR_1.2.752.24.7.621449243.4374998_1.3.12.2.1107.5.2.30.26380.2019022013503522225648680.0.0.0\n"
     ]
    },
    {
     "data": {
      "application/vnd.jupyter.widget-view+json": {
       "model_id": "0b322a8f24e44edba735d1c93f1767b4",
       "version_major": 2,
       "version_minor": 0
      },
      "text/plain": [
       "HBox(children=(Image(value=b'GIF89a\\x15\\x01q\\x01\\xf6\\x00\\x00\\x01\\x01\\x01\\x0c\\x0c\\x0c\\x14\\x14\\x14\\x1c\\x1c\\x1c3\\…"
      ]
     },
     "metadata": {},
     "output_type": "display_data"
    },
    {
     "name": "stdout",
     "output_type": "stream",
     "text": [
      "ANON0P03RE1MR_1.2.752.24.7.621449243.4375030_1.3.12.2.1107.5.2.30.26380.201901301010594525512025.0.0.0\n"
     ]
    },
    {
     "data": {
      "application/vnd.jupyter.widget-view+json": {
       "model_id": "a4a388fc59e44e1f95892ff39c81508b",
       "version_major": 2,
       "version_minor": 0
      },
      "text/plain": [
       "HBox(children=(Image(value=b'GIF89a\\x15\\x01q\\x01\\xf6\\x00\\x00\\x01\\x01\\x01\\x0c\\x0c\\x0c\\x14\\x14\\x14\\x1c\\x1c\\x1c5\\…"
      ]
     },
     "metadata": {},
     "output_type": "display_data"
    },
    {
     "name": "stdout",
     "output_type": "stream",
     "text": [
      "ANONBL13RE1F4_1.2.752.24.7.621449243.4262665_1.3.12.2.1107.5.2.30.26380.2018103111434028932912008.0.0.0\n"
     ]
    },
    {
     "data": {
      "application/vnd.jupyter.widget-view+json": {
       "model_id": "312637b2fac141a9bc919bb9a30c2746",
       "version_major": 2,
       "version_minor": 0
      },
      "text/plain": [
       "HBox(children=(Image(value=b'GIF89a\\x15\\x01q\\x01\\xf6\\x00\\x00\\x01\\x01\\x01\\x0c\\x0c\\x0c\\x13\\x13\\x13\\x1b\\x1b\\x1b5\\…"
      ]
     },
     "metadata": {},
     "output_type": "display_data"
    },
    {
     "name": "stdout",
     "output_type": "stream",
     "text": [
      "ANONN223RE11A_1.2.752.24.7.621449243.4176782_1.3.12.2.1107.5.2.30.26380.2018091712543947045626016.0.0.0\n"
     ]
    },
    {
     "data": {
      "application/vnd.jupyter.widget-view+json": {
       "model_id": "6609a55558d94184a3cdfdca1edb063d",
       "version_major": 2,
       "version_minor": 0
      },
      "text/plain": [
       "HBox(children=(Image(value=b'GIF89a\\x15\\x01q\\x01\\xf6\\x00\\x00\\x01\\x01\\x01\\x0c\\x0c\\x0c\\x14\\x14\\x14\\x1b\\x1b\\x1b5\\…"
      ]
     },
     "metadata": {},
     "output_type": "display_data"
    },
    {
     "name": "stdout",
     "output_type": "stream",
     "text": [
      "ANONVLTEPE1DL_1.2.752.24.7.621449243.4325333_1.3.12.2.1107.5.2.30.26380.2018120316435753343169405.0.0.0\n"
     ]
    },
    {
     "data": {
      "application/vnd.jupyter.widget-view+json": {
       "model_id": "182d553ad107413abecb5599fde1c422",
       "version_major": 2,
       "version_minor": 0
      },
      "text/plain": [
       "HBox(children=(Image(value=b'GIF89a\\x15\\x01q\\x01\\xf6\\x00\\x00\\x03\\x03\\x03\\x0b\\x0b\\x0b\\x13\\x13\\x13\\x1b\\x1b\\x1b6\\…"
      ]
     },
     "metadata": {},
     "output_type": "display_data"
    },
    {
     "name": "stdout",
     "output_type": "stream",
     "text": [
      "ANONQ923RE1U7_1.2.752.24.7.621449243.4391055_1.3.12.2.1107.5.2.30.26380.2019030414455171682472657.0.0.0\n"
     ]
    },
    {
     "data": {
      "application/vnd.jupyter.widget-view+json": {
       "model_id": "cb9f10cf33c246d4a5abae9b075b8366",
       "version_major": 2,
       "version_minor": 0
      },
      "text/plain": [
       "HBox(children=(Image(value=b'GIF89a\\x15\\x01q\\x01\\xf6\\x00\\x00\\x01\\x01\\x01\\x0c\\x0c\\x0c\\x13\\x13\\x13\\x1b\\x1b\\x1b5\\…"
      ]
     },
     "metadata": {},
     "output_type": "display_data"
    },
    {
     "name": "stdout",
     "output_type": "stream",
     "text": [
      "ANON0603RE1RU_1.2.752.24.7.621449243.4464827_1.3.12.2.1107.5.2.30.26380.201905061347538473353674.0.0.0\n"
     ]
    },
    {
     "data": {
      "application/vnd.jupyter.widget-view+json": {
       "model_id": "95a5ac7c6d504b7cb391da4549048441",
       "version_major": 2,
       "version_minor": 0
      },
      "text/plain": [
       "HBox(children=(Image(value=b'GIF89a\\x15\\x01q\\x01\\xf6\\x00\\x00\\x01\\x01\\x01\\x0c\\x0c\\x0c\\x14\\x14\\x14\\x1b\\x1b\\x1b6\\…"
      ]
     },
     "metadata": {},
     "output_type": "display_data"
    },
    {
     "name": "stdout",
     "output_type": "stream",
     "text": [
      "ANONUS03RE1U2_1.2.752.24.7.621449243.4522159_1.3.12.2.1107.5.2.30.26380.2019053114152672050739235.0.0.0\n"
     ]
    },
    {
     "data": {
      "application/vnd.jupyter.widget-view+json": {
       "model_id": "3d0b703595a34d788cbf3ff7b71737a9",
       "version_major": 2,
       "version_minor": 0
      },
      "text/plain": [
       "HBox(children=(Image(value=b'GIF89a\\x15\\x01q\\x01\\xf6\\x00\\x00\\x01\\x01\\x01\\x0c\\x0c\\x0c\\x14\\x14\\x14\\x1c\\x1c\\x1c6\\…"
      ]
     },
     "metadata": {},
     "output_type": "display_data"
    },
    {
     "name": "stdout",
     "output_type": "stream",
     "text": [
      "ANONSR03RE19I_1.2.752.24.7.621449243.4468029_1.3.12.2.1107.5.2.30.26380.2019041712533170514844117.0.0.0\n"
     ]
    },
    {
     "data": {
      "application/vnd.jupyter.widget-view+json": {
       "model_id": "508a55d250ad463b8f5bf9e28bdfd780",
       "version_major": 2,
       "version_minor": 0
      },
      "text/plain": [
       "HBox(children=(Image(value=b'GIF89a\\x15\\x01q\\x01\\xf6\\x00\\x00\\x01\\x01\\x01\\x0c\\x0c\\x0c\\x14\\x14\\x14\\x1b\\x1b\\x1b6\\…"
      ]
     },
     "metadata": {},
     "output_type": "display_data"
    },
    {
     "name": "stdout",
     "output_type": "stream",
     "text": [
      "ANONVLTEPE1DL_1.2.752.24.7.621449243.4325333_1.3.12.2.1107.5.2.30.26380.2018120316451094926769777.0.0.0\n"
     ]
    },
    {
     "data": {
      "application/vnd.jupyter.widget-view+json": {
       "model_id": "7a32435bb77940a1935f6ef69e961427",
       "version_major": 2,
       "version_minor": 0
      },
      "text/plain": [
       "HBox(children=(Image(value=b'GIF89a\\x15\\x01q\\x01\\xf5\\x00\\x00\\x01\\x01\\x01\\x0c\\x0c\\x0c\\x14\\x14\\x14\\x1b\\x1b\\x1b6\\…"
      ]
     },
     "metadata": {},
     "output_type": "display_data"
    },
    {
     "name": "stdout",
     "output_type": "stream",
     "text": [
      "ANON4I13RE1BS_1.2.752.24.7.621449243.4233643_1.3.12.2.1107.5.2.30.26380.2018091908530237991407906.0.0.0\n"
     ]
    },
    {
     "data": {
      "application/vnd.jupyter.widget-view+json": {
       "model_id": "3d928296b6684ddaa2be9ee07dcf6a68",
       "version_major": 2,
       "version_minor": 0
      },
      "text/plain": [
       "HBox(children=(Image(value=b'GIF89a\\x15\\x01q\\x01\\xf5\\x00\\x00\\x01\\x01\\x01\\x0c\\x0c\\x0c\\x14\\x14\\x14\\x1c\\x1c\\x1c6\\…"
      ]
     },
     "metadata": {},
     "output_type": "display_data"
    },
    {
     "name": "stdout",
     "output_type": "stream",
     "text": [
      "ANONKBV2RE1R5_1.2.752.24.7.621449243.4522172_1.3.12.2.1107.5.2.30.26380.2019060513042790125932407.0.0.0\n"
     ]
    },
    {
     "data": {
      "application/vnd.jupyter.widget-view+json": {
       "model_id": "bd9c95ce4b53475fae10f8eabd819d27",
       "version_major": 2,
       "version_minor": 0
      },
      "text/plain": [
       "HBox(children=(Image(value=b'GIF89a\\x15\\x01q\\x01\\xf6\\x00\\x00\\x01\\x01\\x01\\x0c\\x0c\\x0c\\x14\\x14\\x14\\x1c\\x1c\\x1c5\\…"
      ]
     },
     "metadata": {},
     "output_type": "display_data"
    },
    {
     "name": "stdout",
     "output_type": "stream",
     "text": [
      "ANON4U03RE1DB_1.2.752.24.7.621449243.4490940_1.3.12.2.1107.5.2.30.26380.2019051309531677649208791.0.0.0\n"
     ]
    },
    {
     "data": {
      "application/vnd.jupyter.widget-view+json": {
       "model_id": "72b6631979bf4bd8bb0d269ae76416bc",
       "version_major": 2,
       "version_minor": 0
      },
      "text/plain": [
       "HBox(children=(Image(value=b'GIF89a\\x15\\x01q\\x01\\xf6\\x00\\x00\\x01\\x01\\x01\\x0c\\x0c\\x0c\\x14\\x14\\x14\\x1c\\x1c\\x1c5\\…"
      ]
     },
     "metadata": {},
     "output_type": "display_data"
    },
    {
     "name": "stdout",
     "output_type": "stream",
     "text": [
      "ANONO023RE1E2_1.2.752.24.7.621449243.4508417_1.3.12.2.1107.5.2.30.26380.2019052015273296974151068.0.0.0\n"
     ]
    },
    {
     "data": {
      "application/vnd.jupyter.widget-view+json": {
       "model_id": "48d3a2c6634243859e0b6435939f7fd8",
       "version_major": 2,
       "version_minor": 0
      },
      "text/plain": [
       "HBox(children=(Image(value=b'GIF89a\\x15\\x01q\\x01\\xf6\\x00\\x00\\x01\\x01\\x01\\x0b\\x0b\\x0b\\x14\\x14\\x14\\x1c\\x1c\\x1c5\\…"
      ]
     },
     "metadata": {},
     "output_type": "display_data"
    },
    {
     "name": "stdout",
     "output_type": "stream",
     "text": [
      "ANONKC13RE1LE_1.2.752.24.7.621449243.4301480_1.3.12.2.1107.5.2.30.26380.2018121013192060715648191.0.0.0\n"
     ]
    },
    {
     "data": {
      "application/vnd.jupyter.widget-view+json": {
       "model_id": "fdd6ab57f3bd45cb91e2abd2348469d7",
       "version_major": 2,
       "version_minor": 0
      },
      "text/plain": [
       "HBox(children=(Image(value=b'GIF89a\\x15\\x01q\\x01\\xf6\\x00\\x00\\x01\\x01\\x01\\x0c\\x0c\\x0c\\x14\\x14\\x14\\x1c\\x1c\\x1c6\\…"
      ]
     },
     "metadata": {},
     "output_type": "display_data"
    },
    {
     "name": "stdout",
     "output_type": "stream",
     "text": [
      "ANON1VU2RE1NJ_1.2.752.24.7.621449243.4402848_1.3.12.2.1107.5.2.30.26380.2019031314253781003469789.0.0.0\n"
     ]
    },
    {
     "data": {
      "application/vnd.jupyter.widget-view+json": {
       "model_id": "28cb92eee5844d04b20b036e9eeca240",
       "version_major": 2,
       "version_minor": 0
      },
      "text/plain": [
       "HBox(children=(Image(value=b'GIF89a\\x15\\x01q\\x01\\xf5\\x00\\x00\\x01\\x01\\x01\\x0c\\x0c\\x0c\\x14\\x14\\x14\\x1b\\x1b\\x1b6\\…"
      ]
     },
     "metadata": {},
     "output_type": "display_data"
    },
    {
     "name": "stdout",
     "output_type": "stream",
     "text": [
      "ANON3503RE18I_1.2.752.24.7.621449243.4452082_1.3.12.2.1107.5.2.30.26380.2019050311524394006651021.0.0.0\n"
     ]
    },
    {
     "data": {
      "application/vnd.jupyter.widget-view+json": {
       "model_id": "7a2278d9cca843d9baf4af485da9bbe6",
       "version_major": 2,
       "version_minor": 0
      },
      "text/plain": [
       "HBox(children=(Image(value=b'GIF89a\\x15\\x01q\\x01\\xf6\\x00\\x00\\x01\\x01\\x01\\x0c\\x0c\\x0c\\x14\\x14\\x14\\x1c\\x1c\\x1c5\\…"
      ]
     },
     "metadata": {},
     "output_type": "display_data"
    },
    {
     "name": "stdout",
     "output_type": "stream",
     "text": [
      "ANON4I13RE1BS_1.2.752.24.7.621449243.4233643_1.3.12.2.1107.5.2.30.26380.201809190850201295507286.0.0.0\n"
     ]
    },
    {
     "data": {
      "application/vnd.jupyter.widget-view+json": {
       "model_id": "1ab2471247244b9c83c7992d55f62908",
       "version_major": 2,
       "version_minor": 0
      },
      "text/plain": [
       "HBox(children=(Image(value=b'GIF89a\\x15\\x01q\\x01\\xf6\\x00\\x00\\x01\\x01\\x01\\x0c\\x0c\\x0c\\x14\\x14\\x14\\x1b\\x1b\\x1b5\\…"
      ]
     },
     "metadata": {},
     "output_type": "display_data"
    },
    {
     "name": "stdout",
     "output_type": "stream",
     "text": [
      "ANON7V03RE1ON_1.2.752.24.7.621449243.4517138_1.3.12.2.1107.5.2.30.26380.2019052715234389973262136.0.0.0\n"
     ]
    },
    {
     "data": {
      "application/vnd.jupyter.widget-view+json": {
       "model_id": "d46aea7ad4e44242854b5ffa202e7861",
       "version_major": 2,
       "version_minor": 0
      },
      "text/plain": [
       "HBox(children=(Image(value=b'GIF89a\\x15\\x01q\\x01\\xf5\\x00\\x00\\x01\\x01\\x01\\x0c\\x0c\\x0c\\x13\\x13\\x13\\x1c\\x1c\\x1c5\\…"
      ]
     },
     "metadata": {},
     "output_type": "display_data"
    },
    {
     "name": "stdout",
     "output_type": "stream",
     "text": [
      "ANONP113RE113_1.2.752.24.7.621449243.4246810_1.3.12.2.1107.5.2.30.26380.2018102212581486660536504.0.0.0\n"
     ]
    },
    {
     "data": {
      "application/vnd.jupyter.widget-view+json": {
       "model_id": "22d0c173b62a479d8945593202059efa",
       "version_major": 2,
       "version_minor": 0
      },
      "text/plain": [
       "HBox(children=(Image(value=b'GIF89a\\x15\\x01q\\x01\\xf6\\x00\\x00\\x01\\x01\\x01\\x0c\\x0c\\x0c\\x13\\x13\\x13\\x1c\\x1c\\x1c4\\…"
      ]
     },
     "metadata": {},
     "output_type": "display_data"
    },
    {
     "name": "stdout",
     "output_type": "stream",
     "text": [
      "ANON4I13RE1BS_1.2.752.24.7.621449243.4233643_1.3.12.2.1107.5.2.30.26380.2018091908523152477207782.0.0.0\n"
     ]
    },
    {
     "data": {
      "application/vnd.jupyter.widget-view+json": {
       "model_id": "a9d4908ebca8474bad8613f0705781f3",
       "version_major": 2,
       "version_minor": 0
      },
      "text/plain": [
       "HBox(children=(Image(value=b'GIF89a\\x15\\x01q\\x01\\xf6\\x00\\x00\\x01\\x01\\x01\\x0c\\x0c\\x0c\\x14\\x14\\x14\\x1b\\x1b\\x1b6\\…"
      ]
     },
     "metadata": {},
     "output_type": "display_data"
    },
    {
     "name": "stdout",
     "output_type": "stream",
     "text": [
      "ANONE103RE1S5_1.2.752.24.7.621449243.4400773_1.3.12.2.1107.5.2.30.26380.2019021309334531614907520.0.0.0\n"
     ]
    },
    {
     "data": {
      "application/vnd.jupyter.widget-view+json": {
       "model_id": "ce09264beacb46b78123e54fbd625772",
       "version_major": 2,
       "version_minor": 0
      },
      "text/plain": [
       "HBox(children=(Image(value=b'GIF89a\\x15\\x01q\\x01\\xf6\\x00\\x00\\x02\\x02\\x02\\x0c\\x0c\\x0c\\x14\\x14\\x14\\x1b\\x1b\\x1b6\\…"
      ]
     },
     "metadata": {},
     "output_type": "display_data"
    },
    {
     "name": "stdout",
     "output_type": "stream",
     "text": [
      "ANON4U03RE1DB_1.2.752.24.7.621449243.4490940_1.3.12.2.1107.5.2.30.26380.2019051309543862796209039.0.0.0\n"
     ]
    },
    {
     "data": {
      "application/vnd.jupyter.widget-view+json": {
       "model_id": "52b440ae34b34151ad70d6168b8f95ab",
       "version_major": 2,
       "version_minor": 0
      },
      "text/plain": [
       "HBox(children=(Image(value=b'GIF89a\\x15\\x01q\\x01\\xf6\\x00\\x00\\x01\\x01\\x01\\x0c\\x0c\\x0c\\x14\\x14\\x14\\x1b\\x1b\\x1b6\\…"
      ]
     },
     "metadata": {},
     "output_type": "display_data"
    },
    {
     "name": "stdout",
     "output_type": "stream",
     "text": [
      "ANONHQ03RE1LU_1.2.752.24.7.621449243.4359058_1.3.12.2.1107.5.2.30.26380.201902111408553555662403.0.0.0\n"
     ]
    },
    {
     "data": {
      "application/vnd.jupyter.widget-view+json": {
       "model_id": "53c6eaffd997486592f352aa9e5429c1",
       "version_major": 2,
       "version_minor": 0
      },
      "text/plain": [
       "HBox(children=(Image(value=b'GIF89a\\x15\\x01q\\x01\\xf6\\x00\\x00\\x00\\x00\\x00\\x0c\\x0c\\x0c\\x14\\x14\\x14\\x1b\\x1b\\x1b6\\…"
      ]
     },
     "metadata": {},
     "output_type": "display_data"
    },
    {
     "name": "stdout",
     "output_type": "stream",
     "text": [
      "ANONC423RE1AB_1.2.752.24.7.621449243.4290058_1.3.12.2.1107.5.2.30.26380.2018112713410524086741904.0.0.0\n"
     ]
    },
    {
     "data": {
      "application/vnd.jupyter.widget-view+json": {
       "model_id": "f15e8d2ed9e0400488539b279adbd13c",
       "version_major": 2,
       "version_minor": 0
      },
      "text/plain": [
       "HBox(children=(Image(value=b'GIF89a\\x15\\x01q\\x01\\xf6\\x00\\x00\\x01\\x01\\x01\\x0c\\x0c\\x0c\\x14\\x14\\x14\\x1c\\x1c\\x1c6\\…"
      ]
     },
     "metadata": {},
     "output_type": "display_data"
    },
    {
     "name": "stdout",
     "output_type": "stream",
     "text": [
      "ANON4U03RE1DB_1.2.752.24.7.621449243.4490940_1.3.12.2.1107.5.2.30.26380.2019051309513389561108543.0.0.0\n"
     ]
    },
    {
     "data": {
      "application/vnd.jupyter.widget-view+json": {
       "model_id": "c75f0ba667fc457a888ae80392af7f54",
       "version_major": 2,
       "version_minor": 0
      },
      "text/plain": [
       "HBox(children=(Image(value=b'GIF89a\\x15\\x01q\\x01\\xf5\\x00\\x00\\x01\\x01\\x01\\r\\r\\r\\x14\\x14\\x14\\x1b\\x1b\\x1b6\\x03\\x0…"
      ]
     },
     "metadata": {},
     "output_type": "display_data"
    },
    {
     "name": "stdout",
     "output_type": "stream",
     "text": [
      "ANONHOV2RE1PO_1.2.752.24.7.621449243.4436266_1.3.12.2.1107.5.2.30.26380.2019041511444954183937084.0.0.0\n"
     ]
    },
    {
     "data": {
      "application/vnd.jupyter.widget-view+json": {
       "model_id": "27c7775d0b3c4785929cea3c017c58b7",
       "version_major": 2,
       "version_minor": 0
      },
      "text/plain": [
       "HBox(children=(Image(value=b'GIF89a\\x15\\x01q\\x01\\xf6\\x00\\x00\\x02\\x02\\x02\\x0c\\x0c\\x0c\\x14\\x14\\x14\\x1c\\x1c\\x1c4\\…"
      ]
     },
     "metadata": {},
     "output_type": "display_data"
    },
    {
     "name": "stdout",
     "output_type": "stream",
     "text": [
      "ANONJRTEPE1NJ_1.2.752.24.7.621449243.4198923_1.3.12.2.1107.5.2.30.26380.2018081313465712558828407.0.0.0\n"
     ]
    },
    {
     "data": {
      "application/vnd.jupyter.widget-view+json": {
       "model_id": "a22f3d0b860e4a0ea5d4b74cd27d4eee",
       "version_major": 2,
       "version_minor": 0
      },
      "text/plain": [
       "HBox(children=(Image(value=b'GIF89a\\x15\\x01q\\x01\\xf6\\x00\\x00\\x01\\x01\\x01\\x0c\\x0c\\x0c\\x14\\x14\\x14\\x1c\\x1c\\x1c7\\…"
      ]
     },
     "metadata": {},
     "output_type": "display_data"
    },
    {
     "name": "stdout",
     "output_type": "stream",
     "text": [
      "ANON7T13RE1KK_1.2.752.24.7.621449243.4345197_1.3.12.2.1107.5.2.30.26380.2019011409495994654808754.0.0.0\n"
     ]
    },
    {
     "data": {
      "application/vnd.jupyter.widget-view+json": {
       "model_id": "cdb99922d3de4393a928ac80e103d60e",
       "version_major": 2,
       "version_minor": 0
      },
      "text/plain": [
       "HBox(children=(Image(value=b'GIF89a\\x15\\x01q\\x01\\xf6\\x00\\x00\\x01\\x01\\x01\\x0c\\x0c\\x0c\\x14\\x14\\x14\\x1c\\x1c\\x1c6\\…"
      ]
     },
     "metadata": {},
     "output_type": "display_data"
    },
    {
     "name": "stdout",
     "output_type": "stream",
     "text": [
      "ANON78V2RE1J5_1.2.752.24.7.621449243.4456574_1.3.12.2.1107.5.2.30.26380.2019050311064766194338890.0.0.0\n"
     ]
    },
    {
     "data": {
      "application/vnd.jupyter.widget-view+json": {
       "model_id": "6694356b295e4058a915d0fb9771eb02",
       "version_major": 2,
       "version_minor": 0
      },
      "text/plain": [
       "HBox(children=(Image(value=b'GIF89a\\x15\\x01q\\x01\\xf6\\x00\\x00\\x02\\x02\\x02\\x0c\\x0c\\x0c\\x14\\x14\\x14\\x1c\\x1c\\x1c5\\…"
      ]
     },
     "metadata": {},
     "output_type": "display_data"
    },
    {
     "name": "stdout",
     "output_type": "stream",
     "text": [
      "ANONTD03RE1GD_1.2.752.24.7.621449243.4375018_1.3.12.2.1107.5.2.30.26380.2019022014443034400472033.0.0.0\n"
     ]
    },
    {
     "data": {
      "application/vnd.jupyter.widget-view+json": {
       "model_id": "29489351660648f9b8bbdf31cfd61039",
       "version_major": 2,
       "version_minor": 0
      },
      "text/plain": [
       "HBox(children=(Image(value=b'GIF89a\\x15\\x01q\\x01\\xf6\\x00\\x00\\x01\\x01\\x01\\x0b\\x0b\\x0b\\x14\\x14\\x14\\x1c\\x1c\\x1c:\\…"
      ]
     },
     "metadata": {},
     "output_type": "display_data"
    },
    {
     "name": "stdout",
     "output_type": "stream",
     "text": [
      "ANONP703RE127_1.2.752.24.7.621449243.4502773_1.3.12.2.1107.5.2.30.26380.2019060415234321436755800.0.0.0\n"
     ]
    },
    {
     "data": {
      "application/vnd.jupyter.widget-view+json": {
       "model_id": "734576141992464099268277f766571d",
       "version_major": 2,
       "version_minor": 0
      },
      "text/plain": [
       "HBox(children=(Image(value=b'GIF89a\\x15\\x01q\\x01\\xf6\\x00\\x00\\x00\\x00\\x00\\x0c\\x0c\\x0c\\x13\\x13\\x13\\x1b\\x1b\\x1b5\\…"
      ]
     },
     "metadata": {},
     "output_type": "display_data"
    },
    {
     "name": "stdout",
     "output_type": "stream",
     "text": [
      "ANONSL03RE121_1.2.752.24.7.621449243.4447124_1.3.12.2.1107.5.2.30.26380.2019042413490990588260588.0.0.0\n"
     ]
    },
    {
     "data": {
      "application/vnd.jupyter.widget-view+json": {
       "model_id": "6c6f9c50d4574c269179b3a4c309865d",
       "version_major": 2,
       "version_minor": 0
      },
      "text/plain": [
       "HBox(children=(Image(value=b'GIF89a\\x15\\x01q\\x01\\xf6\\x00\\x00\\x01\\x01\\x01\\x0c\\x0c\\x0c\\x14\\x14\\x14\\x1c\\x1c\\x1c6\\…"
      ]
     },
     "metadata": {},
     "output_type": "display_data"
    },
    {
     "name": "stdout",
     "output_type": "stream",
     "text": [
      "ANONP5AEPE1G8_1.2.752.24.7.621449243.4207770_1.3.12.2.1107.5.2.30.26380.2018090412174045423733657.0.0.0\n"
     ]
    },
    {
     "data": {
      "application/vnd.jupyter.widget-view+json": {
       "model_id": "3a5b3dae0df8445abed269bb5909201d",
       "version_major": 2,
       "version_minor": 0
      },
      "text/plain": [
       "HBox(children=(Image(value=b'GIF89a\\x15\\x01q\\x01\\xf6\\x00\\x00\\x00\\x00\\x00\\x0c\\x0c\\x0c\\x14\\x14\\x14\\x1b\\x1b\\x1b6\\…"
      ]
     },
     "metadata": {},
     "output_type": "display_data"
    },
    {
     "name": "stdout",
     "output_type": "stream",
     "text": [
      "ANONFDV2RE1BC_1.2.752.24.7.621449243.4464826_1.3.12.2.1107.5.2.30.26380.2019061211285036872529085.0.0.0\n"
     ]
    },
    {
     "data": {
      "application/vnd.jupyter.widget-view+json": {
       "model_id": "e845754b29b7474187a52937c3615304",
       "version_major": 2,
       "version_minor": 0
      },
      "text/plain": [
       "HBox(children=(Image(value=b'GIF89a\\x15\\x01q\\x01\\xf6\\x00\\x00\\x01\\x01\\x01\\x0b\\x0b\\x0b\\x14\\x14\\x14\\x1c\\x1c\\x1c6\\…"
      ]
     },
     "metadata": {},
     "output_type": "display_data"
    },
    {
     "name": "stdout",
     "output_type": "stream",
     "text": [
      "ANON7713RE17I_1.2.752.24.7.621449243.4464828_1.3.12.2.1107.5.2.30.26380.2019050614155217764471031.0.0.0\n"
     ]
    },
    {
     "data": {
      "application/vnd.jupyter.widget-view+json": {
       "model_id": "f6c1ca6b22fc4303b050e74d6f8f328c",
       "version_major": 2,
       "version_minor": 0
      },
      "text/plain": [
       "HBox(children=(Image(value=b'GIF89a\\x15\\x01q\\x01\\xf6\\x00\\x00\\x02\\x02\\x02\\x0b\\x0b\\x0b\\x14\\x14\\x14\\x1c\\x1c\\x1c6\\…"
      ]
     },
     "metadata": {},
     "output_type": "display_data"
    },
    {
     "name": "stdout",
     "output_type": "stream",
     "text": [
      "ANONRJTEPE1KA_1.2.752.24.7.621449243.4296025_1.3.12.2.1107.5.2.30.26380.2018112110480993848529788.0.0.0\n"
     ]
    },
    {
     "data": {
      "application/vnd.jupyter.widget-view+json": {
       "model_id": "c233f00fd7d440bea978eae1d0b2ad74",
       "version_major": 2,
       "version_minor": 0
      },
      "text/plain": [
       "HBox(children=(Image(value=b'GIF89a\\x15\\x01q\\x01\\xf5\\x00\\x00\\x01\\x01\\x01\\x0c\\x0c\\x0c\\x13\\x13\\x13\\x1b\\x1b\\x1b6\\…"
      ]
     },
     "metadata": {},
     "output_type": "display_data"
    },
    {
     "name": "stdout",
     "output_type": "stream",
     "text": [
      "ANON4SV2RE1ET_1.2.752.24.7.621449243.4474616_1.3.12.2.1107.5.2.30.26380.2019060311143039607024310.0.0.0\n"
     ]
    },
    {
     "data": {
      "application/vnd.jupyter.widget-view+json": {
       "model_id": "7efffbdc4164454787de1531edba8b23",
       "version_major": 2,
       "version_minor": 0
      },
      "text/plain": [
       "HBox(children=(Image(value=b'GIF89a\\x15\\x01q\\x01\\xf6\\x00\\x00\\x01\\x01\\x01\\x0c\\x0c\\x0c\\x14\\x14\\x14\\x1c\\x1c\\x1c7\\…"
      ]
     },
     "metadata": {},
     "output_type": "display_data"
    },
    {
     "name": "stdout",
     "output_type": "stream",
     "text": [
      "ANONC623RE1MF_1.2.752.24.7.621449243.4457506_1.3.12.2.1107.5.2.30.26380.2019060414385335929144572.0.0.0\n"
     ]
    },
    {
     "data": {
      "application/vnd.jupyter.widget-view+json": {
       "model_id": "27e95d0eba8149d9b3f42430a6aa13eb",
       "version_major": 2,
       "version_minor": 0
      },
      "text/plain": [
       "HBox(children=(Image(value=b'GIF89a\\x15\\x01q\\x01\\xf6\\x00\\x00\\x01\\x01\\x01\\x0c\\x0c\\x0c\\x14\\x14\\x14\\x1c\\x1c\\x1c6\\…"
      ]
     },
     "metadata": {},
     "output_type": "display_data"
    },
    {
     "name": "stdout",
     "output_type": "stream",
     "text": [
      "ANONU903RE1HQ_1.2.752.24.7.621449243.4176780_1.3.12.2.1107.5.2.30.26380.201808221121242018121767.0.0.0\n"
     ]
    },
    {
     "data": {
      "application/vnd.jupyter.widget-view+json": {
       "model_id": "6856356349ff4992909c01ef97898c3e",
       "version_major": 2,
       "version_minor": 0
      },
      "text/plain": [
       "HBox(children=(Image(value=b'GIF89a\\x15\\x01q\\x01\\xf6\\x00\\x00\\x01\\x01\\x01\\x0c\\x0c\\x0c\\x13\\x13\\x13\\x1b\\x1b\\x1b6\\…"
      ]
     },
     "metadata": {},
     "output_type": "display_data"
    },
    {
     "name": "stdout",
     "output_type": "stream",
     "text": [
      "ANONGB03RE1P3_1.2.752.24.7.621449243.4225340_1.3.12.2.1107.5.2.30.26380.2018092111512390438729676.0.0.0\n"
     ]
    },
    {
     "data": {
      "application/vnd.jupyter.widget-view+json": {
       "model_id": "b3e9219357014b4c95bd351b8948f11d",
       "version_major": 2,
       "version_minor": 0
      },
      "text/plain": [
       "HBox(children=(Image(value=b'GIF89a\\x15\\x01q\\x01\\xf6\\x00\\x00\\x01\\x01\\x01\\x0c\\x0c\\x0c\\x14\\x14\\x14\\x1c\\x1c\\x1c5\\…"
      ]
     },
     "metadata": {},
     "output_type": "display_data"
    },
    {
     "name": "stdout",
     "output_type": "stream",
     "text": [
      "ANON0V13RE11U_1.2.752.24.7.621449243.4493196_1.3.12.2.1107.5.2.30.26380.2019060513544978562547480.0.0.0\n"
     ]
    },
    {
     "data": {
      "application/vnd.jupyter.widget-view+json": {
       "model_id": "3a97b483fcf74b80a412bee9c1905aa5",
       "version_major": 2,
       "version_minor": 0
      },
      "text/plain": [
       "HBox(children=(Image(value=b'GIF89a\\x15\\x01q\\x01\\xf6\\x00\\x00\\x01\\x01\\x01\\x0c\\x0c\\x0c\\x14\\x14\\x14\\x1b\\x1b\\x1b5\\…"
      ]
     },
     "metadata": {},
     "output_type": "display_data"
    },
    {
     "name": "stdout",
     "output_type": "stream",
     "text": [
      "ANON1SU2RE1C9_1.2.752.24.7.621449243.4423531_1.3.12.2.1107.5.2.30.26380.2019022811285695114728351.0.0.0\n"
     ]
    },
    {
     "data": {
      "application/vnd.jupyter.widget-view+json": {
       "model_id": "01b99e17d4e741a2a5e847983ac1e7bf",
       "version_major": 2,
       "version_minor": 0
      },
      "text/plain": [
       "HBox(children=(Image(value=b'GIF89a\\x15\\x01q\\x01\\xf6\\x00\\x00\\x01\\x01\\x01\\x0b\\x0b\\x0b\\x14\\x14\\x14\\x1c\\x1c\\x1c5\\…"
      ]
     },
     "metadata": {},
     "output_type": "display_data"
    },
    {
     "name": "stdout",
     "output_type": "stream",
     "text": [
      "ANON85TEPE13J_1.2.752.24.7.621449243.4258567_1.3.12.2.1107.5.2.30.26380.2018102912125012802837411.0.0.0\n"
     ]
    },
    {
     "data": {
      "application/vnd.jupyter.widget-view+json": {
       "model_id": "a041e9e27eb249868c5920b7bf7f596f",
       "version_major": 2,
       "version_minor": 0
      },
      "text/plain": [
       "HBox(children=(Image(value=b'GIF89a\\x15\\x01q\\x01\\xf6\\x00\\x00\\x01\\x01\\x01\\x0c\\x0c\\x0c\\x14\\x14\\x14\\x1b\\x1b\\x1b4\\…"
      ]
     },
     "metadata": {},
     "output_type": "display_data"
    },
    {
     "name": "stdout",
     "output_type": "stream",
     "text": [
      "ANON1B13RE1B9_1.2.752.24.7.621449243.4455644_1.3.12.2.1107.5.2.30.26380.2019050109224494832618638.0.0.0\n"
     ]
    },
    {
     "data": {
      "application/vnd.jupyter.widget-view+json": {
       "model_id": "1d3440f1f4ec49a4807fd784ffea0666",
       "version_major": 2,
       "version_minor": 0
      },
      "text/plain": [
       "HBox(children=(Image(value=b'GIF89a\\x15\\x01q\\x01\\xf5\\x00\\x00\\x01\\x01\\x01\\x0c\\x0c\\x0c\\x14\\x14\\x14\\x1b\\x1b\\x1b5\\…"
      ]
     },
     "metadata": {},
     "output_type": "display_data"
    },
    {
     "name": "stdout",
     "output_type": "stream",
     "text": [
      "ANONF013RE1H6_1.2.752.24.7.621449243.4369479_1.3.12.2.1107.5.2.30.26380.2019021214213167521351637.0.0.0\n"
     ]
    },
    {
     "data": {
      "application/vnd.jupyter.widget-view+json": {
       "model_id": "82fa31185d5f4f12b564d4cadd6b717f",
       "version_major": 2,
       "version_minor": 0
      },
      "text/plain": [
       "HBox(children=(Image(value=b'GIF89a\\x15\\x01q\\x01\\xf6\\x00\\x00\\x01\\x01\\x01\\x0c\\x0c\\x0c\\x14\\x14\\x14\\x1c\\x1c\\x1c6\\…"
      ]
     },
     "metadata": {},
     "output_type": "display_data"
    },
    {
     "name": "stdout",
     "output_type": "stream",
     "text": [
      "ANONK823RE1I8_1.2.752.24.7.621449243.4522275_1.3.12.2.1107.5.2.30.26380.2019053112513250386226347.0.0.0\n"
     ]
    },
    {
     "data": {
      "application/vnd.jupyter.widget-view+json": {
       "model_id": "7a61b4e3bb3f43bd9dce3308c690bcf7",
       "version_major": 2,
       "version_minor": 0
      },
      "text/plain": [
       "HBox(children=(Image(value=b'GIF89a\\x15\\x01q\\x01\\xf6\\x00\\x00\\x01\\x01\\x01\\x0c\\x0c\\x0c\\x14\\x14\\x14\\x1c\\x1c\\x1c6\\…"
      ]
     },
     "metadata": {},
     "output_type": "display_data"
    },
    {
     "name": "stdout",
     "output_type": "stream",
     "text": [
      "ANONBC03RE1U1_1.2.752.24.7.621449243.4243665_1.3.12.2.1107.5.2.30.26380.2018102611082691423619104.0.0.0\n"
     ]
    },
    {
     "data": {
      "application/vnd.jupyter.widget-view+json": {
       "model_id": "c6ec72570e5f456387e3ee065d21bd6f",
       "version_major": 2,
       "version_minor": 0
      },
      "text/plain": [
       "HBox(children=(Image(value=b'GIF89a\\x15\\x01q\\x01\\xf6\\x00\\x00\\x01\\x01\\x01\\x0c\\x0c\\x0c\\x14\\x14\\x14\\x1b\\x1b\\x1b6\\…"
      ]
     },
     "metadata": {},
     "output_type": "display_data"
    },
    {
     "name": "stdout",
     "output_type": "stream",
     "text": [
      "ANONOUV2RE1GP_1.2.752.24.7.621449243.4492731_1.3.12.2.1107.5.2.30.26380.2019050811145048485626403.0.0.0\n"
     ]
    },
    {
     "data": {
      "application/vnd.jupyter.widget-view+json": {
       "model_id": "3b62bcc7c43b43abbb6b3f192f579b57",
       "version_major": 2,
       "version_minor": 0
      },
      "text/plain": [
       "HBox(children=(Image(value=b'GIF89a\\x15\\x01q\\x01\\xf6\\x00\\x00\\x01\\x01\\x01\\x0b\\x0b\\x0b\\x14\\x14\\x14\\x1c\\x1c\\x1c6\\…"
      ]
     },
     "metadata": {},
     "output_type": "display_data"
    },
    {
     "name": "stdout",
     "output_type": "stream",
     "text": [
      "ANON5413RE145_1.2.752.24.7.621449243.4369429_1.3.12.2.1107.5.2.30.26380.2019022014242813429660537.0.0.0\n"
     ]
    },
    {
     "data": {
      "application/vnd.jupyter.widget-view+json": {
       "model_id": "9106e1c4a0434956b1fe8ab10bfc9791",
       "version_major": 2,
       "version_minor": 0
      },
      "text/plain": [
       "HBox(children=(Image(value=b'GIF89a\\x15\\x01q\\x01\\xf6\\x00\\x00\\x01\\x01\\x01\\x0c\\x0c\\x0c\\x14\\x14\\x14\\x1b\\x1b\\x1b6\\…"
      ]
     },
     "metadata": {},
     "output_type": "display_data"
    }
   ],
   "source": [
    "positive_glob = vs_path.glob(\"ANON*\")\n",
    "positive_ids = [file.stem for file in positive_glob]\n",
    "\n",
    "for positive_id in positive_ids:\n",
    "    print(positive_id)\n",
    "    vs_img_path = vs_path / (positive_id + \".png\")\n",
    "    vs_gif_path = gifs_path / (positive_id + \".gif\")\n",
    "    \n",
    "    vs_img_file = open(vs_img_path, \"rb\")\n",
    "    vs_gif_file = open(vs_gif_path, \"rb\")\n",
    "    \n",
    "    wi1 = widgets.Image(value=vs_gif_file.read(), format='png')\n",
    "    wi2 = widgets.Image(value=vs_img_file.read(), format='png')\n",
    "    \n",
    "    sidebyside = widgets.HBox([wi1, wi2])\n",
    "    ## Finally, show.\n",
    "    display.display(sidebyside)\n",
    "    \n",
    "    vs_img_file.close()\n",
    "    vs_gif_file.close()"
   ]
  },
  {
   "cell_type": "markdown",
   "id": "first-works",
   "metadata": {},
   "source": [
    "# Negative"
   ]
  },
  {
   "cell_type": "code",
   "execution_count": 3,
   "id": "honey-ideal",
   "metadata": {},
   "outputs": [
    {
     "name": "stdout",
     "output_type": "stream",
     "text": [
      "R186_1.2.752.24.7.621449243.2832634_1.3.12.2.1107.5.2.30.26380.2014090414170749240829329.0.0.0\n"
     ]
    },
    {
     "data": {
      "application/vnd.jupyter.widget-view+json": {
       "model_id": "eb843955a7f74b66936877c771c6d0c3",
       "version_major": 2,
       "version_minor": 0
      },
      "text/plain": [
       "HBox(children=(Image(value=b'GIF89a\\x15\\x01q\\x01\\xf6\\x00\\x00\\x00\\x00\\x00\\x0c\\x0c\\x0c\\x14\\x14\\x14\\x1b\\x1b\\x1b5\\…"
      ]
     },
     "metadata": {},
     "output_type": "display_data"
    },
    {
     "name": "stdout",
     "output_type": "stream",
     "text": [
      "R197_1.2.752.24.7.621449243.2863600_1.3.12.2.1107.5.2.30.26380.2014101710135089032117479.0.0.0\n"
     ]
    },
    {
     "data": {
      "application/vnd.jupyter.widget-view+json": {
       "model_id": "94991ef713a64025baf5cbe1316386c2",
       "version_major": 2,
       "version_minor": 0
      },
      "text/plain": [
       "HBox(children=(Image(value=b'GIF89a\\x15\\x01q\\x01\\xf6\\x00\\x00\\x01\\x01\\x01\\x0c\\x0c\\x0c\\x14\\x14\\x14\\x1c\\x1c\\x1c5\\…"
      ]
     },
     "metadata": {},
     "output_type": "display_data"
    },
    {
     "name": "stdout",
     "output_type": "stream",
     "text": [
      "R125_1.2.752.24.7.621449242.2535742_1.3.12.2.1107.5.2.30.26380.2013091813200147364732031.0.0.0\n"
     ]
    },
    {
     "data": {
      "application/vnd.jupyter.widget-view+json": {
       "model_id": "f88fcd4e5a7541f19ba308afcfc41927",
       "version_major": 2,
       "version_minor": 0
      },
      "text/plain": [
       "HBox(children=(Image(value=b'GIF89a\\x15\\x01q\\x01\\xf6\\x00\\x00\\x01\\x01\\x01\\x0c\\x0c\\x0c\\x14\\x14\\x14\\x1b\\x1b\\x1b3\\…"
      ]
     },
     "metadata": {},
     "output_type": "display_data"
    },
    {
     "name": "stdout",
     "output_type": "stream",
     "text": [
      "R182_1.2.752.24.7.621449243.2776817_1.3.12.2.1107.5.2.30.26380.201407011241483764626228.0.0.0\n"
     ]
    },
    {
     "data": {
      "application/vnd.jupyter.widget-view+json": {
       "model_id": "9bef9c3c0db546b897ab241fcbca4ac6",
       "version_major": 2,
       "version_minor": 0
      },
      "text/plain": [
       "HBox(children=(Image(value=b'GIF89a\\x15\\x01q\\x01\\xf6\\x00\\x00\\x01\\x01\\x01\\x0c\\x0c\\x0c\\x14\\x14\\x14\\x1c\\x1c\\x1c5\\…"
      ]
     },
     "metadata": {},
     "output_type": "display_data"
    },
    {
     "name": "stdout",
     "output_type": "stream",
     "text": [
      "R117_1.2.752.24.7.621449242.2511681_1.3.12.2.1107.5.2.30.26380.2013081511011082908518929.0.0.0\n"
     ]
    },
    {
     "data": {
      "application/vnd.jupyter.widget-view+json": {
       "model_id": "6eb99d8cf8b1445fa8adb90782b6a911",
       "version_major": 2,
       "version_minor": 0
      },
      "text/plain": [
       "HBox(children=(Image(value=b'GIF89a\\x15\\x01q\\x01\\xf6\\x00\\x00\\x02\\x02\\x02\\x0b\\x0b\\x0b\\x14\\x14\\x14\\x1b\\x1b\\x1b5\\…"
      ]
     },
     "metadata": {},
     "output_type": "display_data"
    },
    {
     "name": "stdout",
     "output_type": "stream",
     "text": [
      "R241_1.2.752.24.7.621449242.3214251_1.3.12.2.1107.5.2.30.26380.2015111012052298033423304.0.0.0\n"
     ]
    },
    {
     "data": {
      "application/vnd.jupyter.widget-view+json": {
       "model_id": "b4f806d53b4c4a778c8965602e4ebe51",
       "version_major": 2,
       "version_minor": 0
      },
      "text/plain": [
       "HBox(children=(Image(value=b'GIF89a\\x15\\x01q\\x01\\xf5\\x00\\x00\\x00\\x00\\x00\\x0c\\x0c\\x0c\\x13\\x13\\x13\\x1b\\x1b\\x1b5\\…"
      ]
     },
     "metadata": {},
     "output_type": "display_data"
    },
    {
     "name": "stdout",
     "output_type": "stream",
     "text": [
      "R104_1.2.752.24.7.621449242.2459231_1.3.12.2.1107.5.2.30.26380.201306071532562451266954.0.0.0\n"
     ]
    },
    {
     "data": {
      "application/vnd.jupyter.widget-view+json": {
       "model_id": "f242dbc3964f422d828d61ed6a5311f3",
       "version_major": 2,
       "version_minor": 0
      },
      "text/plain": [
       "HBox(children=(Image(value=b'GIF89a\\x15\\x01q\\x01\\xf6\\x00\\x00\\x01\\x01\\x01\\x0b\\x0b\\x0b\\x14\\x14\\x14\\x1c\\x1c\\x1c>\\…"
      ]
     },
     "metadata": {},
     "output_type": "display_data"
    },
    {
     "name": "stdout",
     "output_type": "stream",
     "text": [
      "R268_1.2.752.24.7.621449243.3348362_1.3.12.2.1107.5.2.30.26380.2016042011033692633623856.0.0.0\n"
     ]
    },
    {
     "data": {
      "application/vnd.jupyter.widget-view+json": {
       "model_id": "517de060a30f4857af503d9cb68be1d0",
       "version_major": 2,
       "version_minor": 0
      },
      "text/plain": [
       "HBox(children=(Image(value=b'GIF89a\\x15\\x01q\\x01\\xf6\\x00\\x00\\x01\\x01\\x01\\x0c\\x0c\\x0c\\x14\\x14\\x14\\x1c\\x1c\\x1c5\\…"
      ]
     },
     "metadata": {},
     "output_type": "display_data"
    },
    {
     "name": "stdout",
     "output_type": "stream",
     "text": [
      "R318_1.2.752.24.7.621449243.3581194_1.3.12.2.1107.5.2.30.26380.2017020309474958111310520.0.0.0\n"
     ]
    },
    {
     "data": {
      "application/vnd.jupyter.widget-view+json": {
       "model_id": "3342f25c817e4ec991396797bc4120e2",
       "version_major": 2,
       "version_minor": 0
      },
      "text/plain": [
       "HBox(children=(Image(value=b'GIF89a\\x15\\x01q\\x01\\xf6\\x00\\x00\\x01\\x01\\x01\\x0c\\x0c\\x0c\\x14\\x14\\x14\\x1c\\x1c\\x1c5\\…"
      ]
     },
     "metadata": {},
     "output_type": "display_data"
    },
    {
     "name": "stdout",
     "output_type": "stream",
     "text": [
      "R432_1.2.752.24.7.621449243.4174324_1.3.12.2.1107.5.2.30.26380.2018072711505142845832559.0.0.0\n"
     ]
    },
    {
     "data": {
      "application/vnd.jupyter.widget-view+json": {
       "model_id": "f4b09efa8d624537bc105c7a372596ac",
       "version_major": 2,
       "version_minor": 0
      },
      "text/plain": [
       "HBox(children=(Image(value=b'GIF89a\\x15\\x01q\\x01\\xf6\\x00\\x00\\x01\\x01\\x01\\x0c\\x0c\\x0c\\x13\\x13\\x13\\x1b\\x1b\\x1b5\\…"
      ]
     },
     "metadata": {},
     "output_type": "display_data"
    },
    {
     "name": "stdout",
     "output_type": "stream",
     "text": [
      "R264_1.2.752.24.7.621449243.3354323_1.3.12.2.1107.5.2.30.26380.2016040412473836159837256.0.0.0\n"
     ]
    },
    {
     "data": {
      "application/vnd.jupyter.widget-view+json": {
       "model_id": "7805fc3b12aa4f03a6f82f357e3a4440",
       "version_major": 2,
       "version_minor": 0
      },
      "text/plain": [
       "HBox(children=(Image(value=b'GIF89a\\x15\\x01q\\x01\\xf6\\x00\\x00\\x01\\x01\\x01\\x0c\\x0c\\x0c\\x13\\x13\\x13\\x1b\\x1b\\x1b6\\…"
      ]
     },
     "metadata": {},
     "output_type": "display_data"
    },
    {
     "name": "stdout",
     "output_type": "stream",
     "text": [
      "R341_1.2.752.24.7.621449242.3738849_1.3.12.2.1107.5.2.30.26380.2017051112211018224022720.0.0.0\n"
     ]
    },
    {
     "data": {
      "application/vnd.jupyter.widget-view+json": {
       "model_id": "0139af9dd8a5471c9d3a95f2a7a64c13",
       "version_major": 2,
       "version_minor": 0
      },
      "text/plain": [
       "HBox(children=(Image(value=b'GIF89a\\x15\\x01q\\x01\\xf6\\x00\\x00\\x01\\x01\\x01\\x0c\\x0c\\x0c\\x14\\x14\\x14\\x1b\\x1b\\x1b6\\…"
      ]
     },
     "metadata": {},
     "output_type": "display_data"
    },
    {
     "name": "stdout",
     "output_type": "stream",
     "text": [
      "R405_1.2.752.24.7.621449243.4042013_1.3.12.2.1107.5.2.30.26380.2018031608190099685801936.0.0.0\n"
     ]
    },
    {
     "data": {
      "application/vnd.jupyter.widget-view+json": {
       "model_id": "d90549604d62428d802c9caf76474e26",
       "version_major": 2,
       "version_minor": 0
      },
      "text/plain": [
       "HBox(children=(Image(value=b'GIF89a\\x15\\x01q\\x01\\xf6\\x00\\x00\\x01\\x01\\x01\\x0c\\x0c\\x0c\\x14\\x14\\x14\\x1c\\x1c\\x1c5\\…"
      ]
     },
     "metadata": {},
     "output_type": "display_data"
    },
    {
     "name": "stdout",
     "output_type": "stream",
     "text": [
      "R234_1.2.752.24.7.621449242.3154675_1.3.12.2.1107.5.2.30.26380.2015091009255133900208420.0.0.0\n"
     ]
    },
    {
     "data": {
      "application/vnd.jupyter.widget-view+json": {
       "model_id": "44b87c721000431f86e0a90fbd3fd044",
       "version_major": 2,
       "version_minor": 0
      },
      "text/plain": [
       "HBox(children=(Image(value=b'GIF89a\\x15\\x01q\\x01\\xf6\\x00\\x00\\x01\\x01\\x01\\x0b\\x0b\\x0b\\x14\\x14\\x14\\x1c\\x1c\\x1c6\\…"
      ]
     },
     "metadata": {},
     "output_type": "display_data"
    },
    {
     "name": "stdout",
     "output_type": "stream",
     "text": [
      "R216_1.2.752.24.7.621449243.3011026_1.3.12.2.1107.5.2.30.26380.2015032513511639066233512.0.0.0\n"
     ]
    },
    {
     "data": {
      "application/vnd.jupyter.widget-view+json": {
       "model_id": "3b7b0009dfb041cab487220c40e94d15",
       "version_major": 2,
       "version_minor": 0
      },
      "text/plain": [
       "HBox(children=(Image(value=b'GIF89a\\x15\\x01q\\x01\\xf5\\x00\\x00\\x01\\x01\\x01\\r\\r\\r\\x13\\x13\\x13\\x1b\\x1b\\x1b3\\x01\\x0…"
      ]
     },
     "metadata": {},
     "output_type": "display_data"
    },
    {
     "name": "stdout",
     "output_type": "stream",
     "text": [
      "R296_1.2.752.24.7.621449243.3536028_1.3.12.2.1107.5.2.30.26380.2016100112394975065429341.0.0.0\n"
     ]
    },
    {
     "data": {
      "application/vnd.jupyter.widget-view+json": {
       "model_id": "eba06fa2abd14a1c8c84cbf785b3580d",
       "version_major": 2,
       "version_minor": 0
      },
      "text/plain": [
       "HBox(children=(Image(value=b'GIF89a\\x15\\x01q\\x01\\xf6\\x00\\x00\\x01\\x01\\x01\\x0c\\x0c\\x0c\\x14\\x14\\x14\\x1c\\x1c\\x1c5\\…"
      ]
     },
     "metadata": {},
     "output_type": "display_data"
    },
    {
     "name": "stdout",
     "output_type": "stream",
     "text": [
      "R311_1.2.752.24.7.621449242.3628546_1.3.12.2.1107.5.2.30.26380.2016122014125998007337251.0.0.0\n"
     ]
    },
    {
     "data": {
      "application/vnd.jupyter.widget-view+json": {
       "model_id": "6c5153d1f1974694808be8ac34ef5bf6",
       "version_major": 2,
       "version_minor": 0
      },
      "text/plain": [
       "HBox(children=(Image(value=b'GIF89a\\x15\\x01q\\x01\\xf6\\x00\\x00\\x02\\x02\\x02\\x0c\\x0c\\x0c\\x14\\x14\\x14\\x1b\\x1b\\x1b6\\…"
      ]
     },
     "metadata": {},
     "output_type": "display_data"
    },
    {
     "name": "stdout",
     "output_type": "stream",
     "text": [
      "R210_1.2.752.24.7.621449243.2971107_1.3.12.2.1107.5.2.30.26380.2015021014055015556635017.0.0.0\n"
     ]
    },
    {
     "data": {
      "application/vnd.jupyter.widget-view+json": {
       "model_id": "faafbde9bb22419fa3a8ca66fbd63780",
       "version_major": 2,
       "version_minor": 0
      },
      "text/plain": [
       "HBox(children=(Image(value=b'GIF89a\\x15\\x01q\\x01\\xf6\\x00\\x00\\x01\\x01\\x01\\x0c\\x0c\\x0c\\x14\\x14\\x14\\x1b\\x1b\\x1b6\\…"
      ]
     },
     "metadata": {},
     "output_type": "display_data"
    },
    {
     "name": "stdout",
     "output_type": "stream",
     "text": [
      "R198_1.2.752.24.7.621449243.2886419_1.3.12.2.1107.5.2.30.26380.2014111214121340671438257.0.0.0\n"
     ]
    },
    {
     "data": {
      "application/vnd.jupyter.widget-view+json": {
       "model_id": "49f3f0ed51ee4e2bb4792d387b9446cf",
       "version_major": 2,
       "version_minor": 0
      },
      "text/plain": [
       "HBox(children=(Image(value=b'GIF89a\\x15\\x01q\\x01\\xf6\\x00\\x00\\x01\\x01\\x01\\x0c\\x0c\\x0c\\x14\\x14\\x14\\x1b\\x1b\\x1b5\\…"
      ]
     },
     "metadata": {},
     "output_type": "display_data"
    },
    {
     "name": "stdout",
     "output_type": "stream",
     "text": [
      "R367_1.2.752.24.7.621449242.3869129_1.3.12.2.1107.5.2.30.26380.2017090613352685573431657.0.0.0\n"
     ]
    },
    {
     "data": {
      "application/vnd.jupyter.widget-view+json": {
       "model_id": "ec863a4d0f124f9e9b749e681174aece",
       "version_major": 2,
       "version_minor": 0
      },
      "text/plain": [
       "HBox(children=(Image(value=b'GIF89a\\x15\\x01q\\x01\\xf6\\x00\\x00\\x01\\x01\\x01\\x0b\\x0b\\x0b\\x14\\x14\\x14\\x1c\\x1c\\x1c6\\…"
      ]
     },
     "metadata": {},
     "output_type": "display_data"
    },
    {
     "name": "stdout",
     "output_type": "stream",
     "text": [
      "R213_1.2.752.24.7.621449243.2998981_1.3.12.2.1107.5.2.30.26380.2015030416005548311769371.0.0.0\n"
     ]
    },
    {
     "data": {
      "application/vnd.jupyter.widget-view+json": {
       "model_id": "840ebc829856447abd8abf4d9df19c87",
       "version_major": 2,
       "version_minor": 0
      },
      "text/plain": [
       "HBox(children=(Image(value=b'GIF89a\\x15\\x01q\\x01\\xf6\\x00\\x00\\x01\\x01\\x01\\x0c\\x0c\\x0c\\x14\\x14\\x14\\x1c\\x1c\\x1c6\\…"
      ]
     },
     "metadata": {},
     "output_type": "display_data"
    },
    {
     "name": "stdout",
     "output_type": "stream",
     "text": [
      "R129_1.2.752.24.7.621449242.2587376_1.3.12.2.1107.5.2.30.26380.2013110810464398890723114.0.0.0\n"
     ]
    },
    {
     "data": {
      "application/vnd.jupyter.widget-view+json": {
       "model_id": "1661d85bc5f34cd88270cb74fa07a289",
       "version_major": 2,
       "version_minor": 0
      },
      "text/plain": [
       "HBox(children=(Image(value=b'GIF89a\\x15\\x01q\\x01\\xf6\\x00\\x00\\x02\\x02\\x02\\x0c\\x0c\\x0c\\x14\\x14\\x14\\x1c\\x1c\\x1c3\\…"
      ]
     },
     "metadata": {},
     "output_type": "display_data"
    },
    {
     "name": "stdout",
     "output_type": "stream",
     "text": [
      "R301_1.2.752.24.7.621449243.3550720_1.3.12.2.1107.5.2.30.26380.2016110713125596007145235.0.0.0\n"
     ]
    },
    {
     "data": {
      "application/vnd.jupyter.widget-view+json": {
       "model_id": "3e9cdbc3b30a48849960150bfcf69479",
       "version_major": 2,
       "version_minor": 0
      },
      "text/plain": [
       "HBox(children=(Image(value=b'GIF89a\\x15\\x01q\\x01\\xf6\\x00\\x00\\x00\\x00\\x00\\x0c\\x0c\\x0c\\x14\\x14\\x14\\x1b\\x1b\\x1b5\\…"
      ]
     },
     "metadata": {},
     "output_type": "display_data"
    },
    {
     "name": "stdout",
     "output_type": "stream",
     "text": [
      "R110_1.2.752.24.7.621449242.2496567_1.3.12.2.1107.5.2.30.26380.2013071614342241294735928.0.0.0\n"
     ]
    },
    {
     "data": {
      "application/vnd.jupyter.widget-view+json": {
       "model_id": "376f0e5bc0d9456fb30929b437852cdc",
       "version_major": 2,
       "version_minor": 0
      },
      "text/plain": [
       "HBox(children=(Image(value=b'GIF89a\\x15\\x01q\\x01\\xf6\\x00\\x00\\x01\\x01\\x01\\x0c\\x0c\\x0c\\x14\\x14\\x14\\x1c\\x1c\\x1c5\\…"
      ]
     },
     "metadata": {},
     "output_type": "display_data"
    },
    {
     "name": "stdout",
     "output_type": "stream",
     "text": [
      "R245_1.2.752.24.7.621449242.3230709_1.3.12.2.1107.5.2.30.26380.2015120315522512513848209.0.0.0\n"
     ]
    },
    {
     "data": {
      "application/vnd.jupyter.widget-view+json": {
       "model_id": "b5750f06ae4745df921f9d5c37f280b7",
       "version_major": 2,
       "version_minor": 0
      },
      "text/plain": [
       "HBox(children=(Image(value=b'GIF89a\\x15\\x01q\\x01\\xf6\\x00\\x00\\x01\\x01\\x01\\x0c\\x0c\\x0c\\x14\\x14\\x14\\x1c\\x1c\\x1c5\\…"
      ]
     },
     "metadata": {},
     "output_type": "display_data"
    },
    {
     "name": "stdout",
     "output_type": "stream",
     "text": [
      "R133_1.2.752.24.7.621449242.2599830_1.3.12.2.1107.5.2.30.26380.2013120312335782030429709.0.0.0\n"
     ]
    },
    {
     "data": {
      "application/vnd.jupyter.widget-view+json": {
       "model_id": "de25d0e1316f4100bd2c6c46d62c80ce",
       "version_major": 2,
       "version_minor": 0
      },
      "text/plain": [
       "HBox(children=(Image(value=b'GIF89a\\x15\\x01q\\x01\\xf6\\x00\\x00\\x01\\x01\\x01\\x0b\\x0b\\x0b\\x14\\x14\\x14\\x1c\\x1c\\x1c5\\…"
      ]
     },
     "metadata": {},
     "output_type": "display_data"
    },
    {
     "name": "stdout",
     "output_type": "stream",
     "text": [
      "R217_1.2.752.24.7.621449243.3011888_1.3.12.2.1107.5.2.30.26380.2015032715023883974736824.0.0.0\n"
     ]
    },
    {
     "data": {
      "application/vnd.jupyter.widget-view+json": {
       "model_id": "4023d803ecc94f40955900e6cc52973d",
       "version_major": 2,
       "version_minor": 0
      },
      "text/plain": [
       "HBox(children=(Image(value=b'GIF89a\\x15\\x01q\\x01\\xf6\\x00\\x00\\x01\\x01\\x01\\x0c\\x0c\\x0c\\x14\\x14\\x14\\x1b\\x1b\\x1b5\\…"
      ]
     },
     "metadata": {},
     "output_type": "display_data"
    },
    {
     "name": "stdout",
     "output_type": "stream",
     "text": [
      "R151_1.2.752.24.7.621449242.2681576_1.3.12.2.1107.5.2.30.26380.2014031713594531811836783.0.0.0\n"
     ]
    },
    {
     "data": {
      "application/vnd.jupyter.widget-view+json": {
       "model_id": "99966f2b6fe74ba6ac6ed571256061fa",
       "version_major": 2,
       "version_minor": 0
      },
      "text/plain": [
       "HBox(children=(Image(value=b'GIF89a\\x15\\x01q\\x01\\xf6\\x00\\x00\\x01\\x01\\x01\\x0c\\x0c\\x0c\\x14\\x14\\x14\\x1c\\x1c\\x1c5\\…"
      ]
     },
     "metadata": {},
     "output_type": "display_data"
    },
    {
     "name": "stdout",
     "output_type": "stream",
     "text": [
      "R249_1.2.752.24.7.621449242.3256751_1.3.12.2.1107.5.2.30.26380.2015121613434962167521698.0.0.0\n"
     ]
    },
    {
     "data": {
      "application/vnd.jupyter.widget-view+json": {
       "model_id": "a8259048fbf540c8980d12e320652473",
       "version_major": 2,
       "version_minor": 0
      },
      "text/plain": [
       "HBox(children=(Image(value=b'GIF89a\\x15\\x01q\\x01\\xf6\\x00\\x00\\x00\\x00\\x00\\x0c\\x0c\\x0c\\x13\\x13\\x13\\x1b\\x1b\\x1b5\\…"
      ]
     },
     "metadata": {},
     "output_type": "display_data"
    },
    {
     "name": "stdout",
     "output_type": "stream",
     "text": [
      "R181_1.2.752.24.7.621449243.2778495_1.3.12.2.1107.5.2.30.26380.2014062710020450191515670.0.0.0\n"
     ]
    },
    {
     "data": {
      "application/vnd.jupyter.widget-view+json": {
       "model_id": "937c00d42cc247f0a8574b713d1ebe46",
       "version_major": 2,
       "version_minor": 0
      },
      "text/plain": [
       "HBox(children=(Image(value=b'GIF89a\\x15\\x01q\\x01\\xf5\\x00\\x00\\x01\\x01\\x01\\x0c\\x0c\\x0c\\x14\\x14\\x14\\x1c\\x1c\\x1c5\\…"
      ]
     },
     "metadata": {},
     "output_type": "display_data"
    },
    {
     "name": "stdout",
     "output_type": "stream",
     "text": [
      "R392_1.2.752.24.7.621449243.3980596_1.3.12.2.1107.5.2.30.26380.201801151242148638727880.0.0.0\n"
     ]
    },
    {
     "data": {
      "application/vnd.jupyter.widget-view+json": {
       "model_id": "fb19d6516b084a58b03233f3772b4517",
       "version_major": 2,
       "version_minor": 0
      },
      "text/plain": [
       "HBox(children=(Image(value=b'GIF89a\\x15\\x01q\\x01\\xf6\\x00\\x00\\x01\\x01\\x01\\x0c\\x0c\\x0c\\x14\\x14\\x14\\x1b\\x1b\\x1b5\\…"
      ]
     },
     "metadata": {},
     "output_type": "display_data"
    },
    {
     "name": "stdout",
     "output_type": "stream",
     "text": [
      "R226_1.2.752.24.7.621449242.3092810_1.3.12.2.1107.5.2.30.26380.201507011343303420139950.0.0.0\n"
     ]
    },
    {
     "data": {
      "application/vnd.jupyter.widget-view+json": {
       "model_id": "87df0750403e43f0b1fbf10f9d6c8844",
       "version_major": 2,
       "version_minor": 0
      },
      "text/plain": [
       "HBox(children=(Image(value=b'GIF89a\\x15\\x01q\\x01\\xf6\\x00\\x00\\x02\\x02\\x02\\x0c\\x0c\\x0c\\x14\\x14\\x14\\x1b\\x1b\\x1b6\\…"
      ]
     },
     "metadata": {},
     "output_type": "display_data"
    },
    {
     "name": "stdout",
     "output_type": "stream",
     "text": [
      "R113_1.2.752.24.7.621449242.2502782_1.3.12.2.1107.5.2.30.26380.201308050950336424216024.0.0.0\n"
     ]
    },
    {
     "data": {
      "application/vnd.jupyter.widget-view+json": {
       "model_id": "eba5cc86e02f431594edca318e25a2bc",
       "version_major": 2,
       "version_minor": 0
      },
      "text/plain": [
       "HBox(children=(Image(value=b'GIF89a\\x15\\x01q\\x01\\xf6\\x00\\x00\\x01\\x01\\x01\\x0c\\x0c\\x0c\\x14\\x14\\x14\\x1c\\x1c\\x1c6\\…"
      ]
     },
     "metadata": {},
     "output_type": "display_data"
    },
    {
     "name": "stdout",
     "output_type": "stream",
     "text": [
      "R083_1.2.752.24.7.621449243.2305632_1.3.12.2.1107.5.2.30.26380.2012112813332114715737044.0.0.0\n"
     ]
    },
    {
     "data": {
      "application/vnd.jupyter.widget-view+json": {
       "model_id": "5b41b5c648aa4b0aaddbb9023b01cb9d",
       "version_major": 2,
       "version_minor": 0
      },
      "text/plain": [
       "HBox(children=(Image(value=b'GIF89a\\x15\\x01q\\x01\\xf6\\x00\\x00\\x01\\x01\\x01\\x0c\\x0c\\x0c\\x14\\x14\\x14\\x1c\\x1c\\x1c6\\…"
      ]
     },
     "metadata": {},
     "output_type": "display_data"
    },
    {
     "name": "stdout",
     "output_type": "stream",
     "text": [
      "R285_1.2.752.24.7.621449243.3456935_1.3.12.2.1107.5.2.30.26380.2016070612495146254346454.0.0.0\n"
     ]
    },
    {
     "data": {
      "application/vnd.jupyter.widget-view+json": {
       "model_id": "b8a640c20f7d476d85cd2f79a5f6ddf4",
       "version_major": 2,
       "version_minor": 0
      },
      "text/plain": [
       "HBox(children=(Image(value=b'GIF89a\\x15\\x01q\\x01\\xf6\\x00\\x00\\x01\\x01\\x01\\x0c\\x0c\\x0c\\x14\\x14\\x14\\x1c\\x1c\\x1c5\\…"
      ]
     },
     "metadata": {},
     "output_type": "display_data"
    },
    {
     "name": "stdout",
     "output_type": "stream",
     "text": [
      "R336_1.2.752.24.7.621449242.3707468_1.3.12.2.1107.5.2.30.26380.2017040312531332556230128.0.0.0\n"
     ]
    },
    {
     "data": {
      "application/vnd.jupyter.widget-view+json": {
       "model_id": "3e77f183b4f74fb8b36a4554ac9e4389",
       "version_major": 2,
       "version_minor": 0
      },
      "text/plain": [
       "HBox(children=(Image(value=b'GIF89a\\x15\\x01q\\x01\\xf6\\x00\\x00\\x01\\x01\\x01\\x0c\\x0c\\x0c\\x14\\x14\\x14\\x1b\\x1b\\x1b5\\…"
      ]
     },
     "metadata": {},
     "output_type": "display_data"
    },
    {
     "name": "stdout",
     "output_type": "stream",
     "text": [
      "R339_1.2.752.24.7.621449242.3725354_1.3.12.2.1107.5.2.30.26380.2017042614440312758663285.0.0.0\n"
     ]
    },
    {
     "data": {
      "application/vnd.jupyter.widget-view+json": {
       "model_id": "fda9aa62d11c4be2b7aeaca30668abc2",
       "version_major": 2,
       "version_minor": 0
      },
      "text/plain": [
       "HBox(children=(Image(value=b'GIF89a\\x15\\x01q\\x01\\xf6\\x00\\x00\\x02\\x02\\x02\\x0c\\x0c\\x0c\\x14\\x14\\x14\\x1b\\x1b\\x1b6\\…"
      ]
     },
     "metadata": {},
     "output_type": "display_data"
    },
    {
     "name": "stdout",
     "output_type": "stream",
     "text": [
      "R225_1.2.752.24.7.621449242.3092801_1.3.12.2.1107.5.2.30.26380.2015063014501850963945845.0.0.0\n"
     ]
    },
    {
     "data": {
      "application/vnd.jupyter.widget-view+json": {
       "model_id": "3f2b4bbff19a49a68cbb20dff47b2550",
       "version_major": 2,
       "version_minor": 0
      },
      "text/plain": [
       "HBox(children=(Image(value=b'GIF89a\\x15\\x01q\\x01\\xf6\\x00\\x00\\x01\\x01\\x01\\x0c\\x0c\\x0c\\x14\\x14\\x14\\x1b\\x1b\\x1b6\\…"
      ]
     },
     "metadata": {},
     "output_type": "display_data"
    },
    {
     "name": "stdout",
     "output_type": "stream",
     "text": [
      "R332_1.2.752.24.7.621449242.3700787_1.3.12.2.1107.5.2.30.26380.2017032711204927833918689.0.0.0\n"
     ]
    },
    {
     "data": {
      "application/vnd.jupyter.widget-view+json": {
       "model_id": "834b75fc29db45ba81fdc8d40f41baae",
       "version_major": 2,
       "version_minor": 0
      },
      "text/plain": [
       "HBox(children=(Image(value=b'GIF89a\\x15\\x01q\\x01\\xf6\\x00\\x00\\x02\\x02\\x02\\x0c\\x0c\\x0c\\x14\\x14\\x14\\x1c\\x1c\\x1c6\\…"
      ]
     },
     "metadata": {},
     "output_type": "display_data"
    },
    {
     "name": "stdout",
     "output_type": "stream",
     "text": [
      "R185_1.2.752.24.7.621449243.2824466_1.3.12.2.1107.5.2.30.26380.2014090211181761048921610.0.0.0\n"
     ]
    },
    {
     "data": {
      "application/vnd.jupyter.widget-view+json": {
       "model_id": "7957ee87a6864db4a0f94cfd3349bd4f",
       "version_major": 2,
       "version_minor": 0
      },
      "text/plain": [
       "HBox(children=(Image(value=b'GIF89a\\x15\\x01q\\x01\\xf5\\x00\\x00\\x00\\x00\\x00\\x0c\\x0c\\x0c\\x13\\x13\\x13\\x1b\\x1b\\x1b5\\…"
      ]
     },
     "metadata": {},
     "output_type": "display_data"
    },
    {
     "name": "stdout",
     "output_type": "stream",
     "text": [
      "R378_1.2.752.24.7.621449242.3912234_1.3.12.2.1107.5.2.30.26380.2017110612205653815437896.0.0.0\n"
     ]
    },
    {
     "data": {
      "application/vnd.jupyter.widget-view+json": {
       "model_id": "f4e741fc7800480a8c7ee4e863243b03",
       "version_major": 2,
       "version_minor": 0
      },
      "text/plain": [
       "HBox(children=(Image(value=b'GIF89a\\x15\\x01q\\x01\\xf6\\x00\\x00\\x01\\x01\\x01\\x0c\\x0c\\x0c\\x14\\x14\\x14\\x1c\\x1c\\x1c6\\…"
      ]
     },
     "metadata": {},
     "output_type": "display_data"
    },
    {
     "name": "stdout",
     "output_type": "stream",
     "text": [
      "R253_1.2.752.24.7.621449242.3278890_1.3.12.2.1107.5.2.30.26380.2016011813590738075931847.0.0.0\n"
     ]
    },
    {
     "data": {
      "application/vnd.jupyter.widget-view+json": {
       "model_id": "dae3354bb2bd4d43825653524b8b81c9",
       "version_major": 2,
       "version_minor": 0
      },
      "text/plain": [
       "HBox(children=(Image(value=b'GIF89a\\x15\\x01q\\x01\\xf6\\x00\\x00\\x01\\x01\\x01\\x0c\\x0c\\x0c\\x14\\x14\\x14\\x1c\\x1c\\x1c5\\…"
      ]
     },
     "metadata": {},
     "output_type": "display_data"
    },
    {
     "name": "stdout",
     "output_type": "stream",
     "text": [
      "R230_1.2.752.24.7.621449242.3119240_1.3.12.2.1107.5.2.30.26380.2015072509162815393303001.0.0.0\n"
     ]
    },
    {
     "data": {
      "application/vnd.jupyter.widget-view+json": {
       "model_id": "cd7b7930c3c346c3b587e3dc92eb5dc5",
       "version_major": 2,
       "version_minor": 0
      },
      "text/plain": [
       "HBox(children=(Image(value=b'GIF89a\\x15\\x01q\\x01\\xf6\\x00\\x00\\x01\\x01\\x01\\x0c\\x0c\\x0c\\x14\\x14\\x14\\x1b\\x1b\\x1b5\\…"
      ]
     },
     "metadata": {},
     "output_type": "display_data"
    },
    {
     "name": "stdout",
     "output_type": "stream",
     "text": [
      "R312_1.2.752.24.7.621449243.3602769_1.3.12.2.1107.5.2.30.26380.2016122713225493502137121.0.0.0\n"
     ]
    },
    {
     "data": {
      "application/vnd.jupyter.widget-view+json": {
       "model_id": "5e455c22dd174973a29d8ee62468bb4d",
       "version_major": 2,
       "version_minor": 0
      },
      "text/plain": [
       "HBox(children=(Image(value=b'GIF89a\\x15\\x01q\\x01\\xf6\\x00\\x00\\x02\\x02\\x02\\x0c\\x0c\\x0c\\x14\\x14\\x14\\x1c\\x1c\\x1c6\\…"
      ]
     },
     "metadata": {},
     "output_type": "display_data"
    },
    {
     "name": "stdout",
     "output_type": "stream",
     "text": [
      "R404_1.2.752.24.7.621449243.4039750_1.3.12.2.1107.5.2.30.26380.2018031411212439113431407.0.0.0\n"
     ]
    },
    {
     "data": {
      "application/vnd.jupyter.widget-view+json": {
       "model_id": "113f8799d56a4f0182f81f6e848f28a9",
       "version_major": 2,
       "version_minor": 0
      },
      "text/plain": [
       "HBox(children=(Image(value=b'GIF89a\\x15\\x01q\\x01\\xf6\\x00\\x00\\x01\\x01\\x01\\x0c\\x0c\\x0c\\x14\\x14\\x14\\x1c\\x1c\\x1c6\\…"
      ]
     },
     "metadata": {},
     "output_type": "display_data"
    },
    {
     "name": "stdout",
     "output_type": "stream",
     "text": [
      "R162_1.2.752.24.7.621449243.2709119_1.3.12.2.1107.5.2.30.26380.2014041811080250773720226.0.0.0\n"
     ]
    },
    {
     "data": {
      "application/vnd.jupyter.widget-view+json": {
       "model_id": "3951033f24554409bfb935b555ef86fd",
       "version_major": 2,
       "version_minor": 0
      },
      "text/plain": [
       "HBox(children=(Image(value=b'GIF89a\\x15\\x01q\\x01\\xf6\\x00\\x00\\x01\\x01\\x01\\x0c\\x0c\\x0c\\x14\\x14\\x14\\x1c\\x1c\\x1c6\\…"
      ]
     },
     "metadata": {},
     "output_type": "display_data"
    },
    {
     "name": "stdout",
     "output_type": "stream",
     "text": [
      "R191_1.2.752.24.7.621449243.2848042_1.3.12.2.1107.5.2.30.26380.2014093011524367737534585.0.0.0\n"
     ]
    },
    {
     "data": {
      "application/vnd.jupyter.widget-view+json": {
       "model_id": "1963473d6d9d403499b161a1ffda17fe",
       "version_major": 2,
       "version_minor": 0
      },
      "text/plain": [
       "HBox(children=(Image(value=b'GIF89a\\x15\\x01q\\x01\\xf6\\x00\\x00\\x01\\x01\\x01\\x0c\\x0c\\x0c\\x14\\x14\\x14\\x1c\\x1c\\x1c5\\…"
      ]
     },
     "metadata": {},
     "output_type": "display_data"
    },
    {
     "name": "stdout",
     "output_type": "stream",
     "text": [
      "R317_1.2.752.24.7.621449242.3642595_1.3.12.2.1107.5.2.30.26380.2017012615242784711951430.0.0.0\n"
     ]
    },
    {
     "data": {
      "application/vnd.jupyter.widget-view+json": {
       "model_id": "16df7a2907d94e35bb2e812f436ca0b2",
       "version_major": 2,
       "version_minor": 0
      },
      "text/plain": [
       "HBox(children=(Image(value=b'GIF89a\\x15\\x01q\\x01\\xf6\\x00\\x00\\x01\\x01\\x01\\x0c\\x0c\\x0c\\x14\\x14\\x14\\x1c\\x1c\\x1c5\\…"
      ]
     },
     "metadata": {},
     "output_type": "display_data"
    },
    {
     "name": "stdout",
     "output_type": "stream",
     "text": [
      "R155_1.2.752.24.7.621449242.2702437_1.3.12.2.1107.5.2.30.26380.2014032814163230557134945.0.0.0\n"
     ]
    },
    {
     "data": {
      "application/vnd.jupyter.widget-view+json": {
       "model_id": "77206e5a5190434c8e4d241e1084b952",
       "version_major": 2,
       "version_minor": 0
      },
      "text/plain": [
       "HBox(children=(Image(value=b'GIF89a\\x15\\x01q\\x01\\xf6\\x00\\x00\\x01\\x01\\x01\\x0c\\x0c\\x0c\\x14\\x14\\x14\\x1b\\x1b\\x1b3\\…"
      ]
     },
     "metadata": {},
     "output_type": "display_data"
    },
    {
     "name": "stdout",
     "output_type": "stream",
     "text": [
      "R273_1.2.752.24.7.621449243.3397201_1.3.12.2.1107.5.2.30.26380.2016051210091142047015555.0.0.0\n"
     ]
    },
    {
     "data": {
      "application/vnd.jupyter.widget-view+json": {
       "model_id": "7ae2a3f7cdbb4b3ebb9ced310e8870f0",
       "version_major": 2,
       "version_minor": 0
      },
      "text/plain": [
       "HBox(children=(Image(value=b'GIF89a\\x15\\x01q\\x01\\xf5\\x00\\x00\\x00\\x00\\x00\\x0c\\x0c\\x0c\\x14\\x14\\x14\\x1c\\x1c\\x1c6\\…"
      ]
     },
     "metadata": {},
     "output_type": "display_data"
    },
    {
     "name": "stdout",
     "output_type": "stream",
     "text": [
      "R408_1.2.752.24.7.621449243.4057309_1.3.12.2.1107.5.2.30.26380.2018040411315326050616344.0.0.0\n"
     ]
    },
    {
     "data": {
      "application/vnd.jupyter.widget-view+json": {
       "model_id": "70efdf08fab7478ba567bba5064cbeaa",
       "version_major": 2,
       "version_minor": 0
      },
      "text/plain": [
       "HBox(children=(Image(value=b'GIF89a\\x15\\x01q\\x01\\xf6\\x00\\x00\\x01\\x01\\x01\\x0b\\x0b\\x0b\\x14\\x14\\x14\\x1c\\x1c\\x1c6\\…"
      ]
     },
     "metadata": {},
     "output_type": "display_data"
    },
    {
     "name": "stdout",
     "output_type": "stream",
     "text": [
      "R360_1.2.752.24.7.621449243.3844571_1.3.12.2.1107.5.2.30.26380.2017080414095184572141411.0.0.0\n"
     ]
    },
    {
     "data": {
      "application/vnd.jupyter.widget-view+json": {
       "model_id": "b78aa507f4244688afab7c00cc688f62",
       "version_major": 2,
       "version_minor": 0
      },
      "text/plain": [
       "HBox(children=(Image(value=b'GIF89a\\x15\\x01q\\x01\\xf6\\x00\\x00\\x01\\x01\\x01\\x0c\\x0c\\x0c\\x14\\x14\\x14\\x1c\\x1c\\x1c5\\…"
      ]
     },
     "metadata": {},
     "output_type": "display_data"
    },
    {
     "name": "stdout",
     "output_type": "stream",
     "text": [
      "R266_1.2.752.24.7.621449243.3369114_1.3.12.2.1107.5.2.30.26380.2016041314203129005646443.0.0.0\n"
     ]
    },
    {
     "data": {
      "application/vnd.jupyter.widget-view+json": {
       "model_id": "74395b2d55b34049aedfa1343532ef4b",
       "version_major": 2,
       "version_minor": 0
      },
      "text/plain": [
       "HBox(children=(Image(value=b'GIF89a\\x15\\x01q\\x01\\xf6\\x00\\x00\\x01\\x01\\x01\\x0b\\x0b\\x0b\\x14\\x14\\x14\\x1c\\x1c\\x1c5\\…"
      ]
     },
     "metadata": {},
     "output_type": "display_data"
    },
    {
     "name": "stdout",
     "output_type": "stream",
     "text": [
      "R388_1.2.752.24.7.621449243.3960461_1.3.12.2.1107.5.2.30.26380.2017121915111761019043668.0.0.0\n"
     ]
    },
    {
     "data": {
      "application/vnd.jupyter.widget-view+json": {
       "model_id": "6b47c28c35334d37800f82fc3e5ec981",
       "version_major": 2,
       "version_minor": 0
      },
      "text/plain": [
       "HBox(children=(Image(value=b'GIF89a\\x15\\x01q\\x01\\xf6\\x00\\x00\\x01\\x01\\x01\\x0c\\x0c\\x0c\\x14\\x14\\x14\\x1c\\x1c\\x1c7\\…"
      ]
     },
     "metadata": {},
     "output_type": "display_data"
    },
    {
     "name": "stdout",
     "output_type": "stream",
     "text": [
      "R262_1.2.752.24.7.621449243.3357347_1.3.12.2.1107.5.2.30.26380.201604011356491221143531.0.0.0\n"
     ]
    },
    {
     "data": {
      "application/vnd.jupyter.widget-view+json": {
       "model_id": "7724230aa2e84e3e9403556788322223",
       "version_major": 2,
       "version_minor": 0
      },
      "text/plain": [
       "HBox(children=(Image(value=b'GIF89a\\x15\\x01q\\x01\\xf6\\x00\\x00\\x01\\x01\\x01\\x0c\\x0c\\x0c\\x14\\x14\\x14\\x1c\\x1c\\x1c5\\…"
      ]
     },
     "metadata": {},
     "output_type": "display_data"
    },
    {
     "name": "stdout",
     "output_type": "stream",
     "text": [
      "R177_1.2.752.24.7.621449243.2752561_1.3.12.2.1107.5.2.30.26380.2014060414141180731237008.0.0.0\n"
     ]
    },
    {
     "data": {
      "application/vnd.jupyter.widget-view+json": {
       "model_id": "ae8d71003b1f4126a10b0f3e409711e1",
       "version_major": 2,
       "version_minor": 0
      },
      "text/plain": [
       "HBox(children=(Image(value=b'GIF89a\\x15\\x01q\\x01\\xf6\\x00\\x00\\x01\\x01\\x01\\x0c\\x0c\\x0c\\x14\\x14\\x14\\x1c\\x1c\\x1c5\\…"
      ]
     },
     "metadata": {},
     "output_type": "display_data"
    },
    {
     "name": "stdout",
     "output_type": "stream",
     "text": [
      "R169_1.2.752.24.7.621449243.2743029_1.3.12.2.1107.5.2.30.26380.2014052114164093723544044.0.0.0\n"
     ]
    },
    {
     "data": {
      "application/vnd.jupyter.widget-view+json": {
       "model_id": "eb38a5173adc4b79a2ae175e91c09aa2",
       "version_major": 2,
       "version_minor": 0
      },
      "text/plain": [
       "HBox(children=(Image(value=b'GIF89a\\x15\\x01q\\x01\\xf6\\x00\\x00\\x01\\x01\\x01\\x0c\\x0c\\x0c\\x14\\x14\\x14\\x1c\\x1c\\x1c5\\…"
      ]
     },
     "metadata": {},
     "output_type": "display_data"
    },
    {
     "name": "stdout",
     "output_type": "stream",
     "text": [
      "R084_1.2.752.24.7.621449242.2326161_1.3.12.2.1107.5.2.30.26380.2013010213035073468622248.0.0.0\n"
     ]
    },
    {
     "data": {
      "application/vnd.jupyter.widget-view+json": {
       "model_id": "6965a0fddc0f45eb9015be7f8a95eff1",
       "version_major": 2,
       "version_minor": 0
      },
      "text/plain": [
       "HBox(children=(Image(value=b'GIF89a\\x15\\x01q\\x01\\xf6\\x00\\x00\\x01\\x01\\x01\\x0b\\x0b\\x0b\\x14\\x14\\x14\\x1c\\x1c\\x1c5\\…"
      ]
     },
     "metadata": {},
     "output_type": "display_data"
    },
    {
     "name": "stdout",
     "output_type": "stream",
     "text": [
      "R144_1.2.752.24.7.621449242.2647569_1.3.12.2.1107.5.2.30.26380.2014020711001226700823312.0.0.0\n"
     ]
    },
    {
     "data": {
      "application/vnd.jupyter.widget-view+json": {
       "model_id": "48dd795a64b6493fa30cd71d35842884",
       "version_major": 2,
       "version_minor": 0
      },
      "text/plain": [
       "HBox(children=(Image(value=b'GIF89a\\x15\\x01q\\x01\\xf6\\x00\\x00\\x01\\x01\\x01\\x0b\\x0b\\x0b\\x14\\x14\\x14\\x1c\\x1c\\x1c6\\…"
      ]
     },
     "metadata": {},
     "output_type": "display_data"
    },
    {
     "name": "stdout",
     "output_type": "stream",
     "text": [
      "R091_1.2.752.24.7.621449242.2393855_1.3.12.2.1107.5.2.30.26380.2013031912453161758623791.0.0.0\n"
     ]
    },
    {
     "data": {
      "application/vnd.jupyter.widget-view+json": {
       "model_id": "360a255350674c65ac615eeb8e9456ea",
       "version_major": 2,
       "version_minor": 0
      },
      "text/plain": [
       "HBox(children=(Image(value=b'GIF89a\\x15\\x01q\\x01\\xf6\\x00\\x00\\x01\\x01\\x01\\x0c\\x0c\\x0c\\x13\\x13\\x13\\x1b\\x1b\\x1b6\\…"
      ]
     },
     "metadata": {},
     "output_type": "display_data"
    },
    {
     "name": "stdout",
     "output_type": "stream",
     "text": [
      "R190_1.2.752.24.7.621449243.2843373_1.3.12.2.1107.5.2.30.26380.201409231608037840956521.0.0.0\n"
     ]
    },
    {
     "data": {
      "application/vnd.jupyter.widget-view+json": {
       "model_id": "225bf13c06324dbc932057f16ad687df",
       "version_major": 2,
       "version_minor": 0
      },
      "text/plain": [
       "HBox(children=(Image(value=b'GIF89a\\x15\\x01q\\x01\\xf6\\x00\\x00\\x01\\x01\\x01\\x0c\\x0c\\x0c\\x14\\x14\\x14\\x1c\\x1c\\x1c5\\…"
      ]
     },
     "metadata": {},
     "output_type": "display_data"
    },
    {
     "name": "stdout",
     "output_type": "stream",
     "text": [
      "R314_1.2.752.24.7.621449243.3617390_1.3.12.2.1107.5.2.30.26380.2017011814161510843352080.0.0.0\n"
     ]
    },
    {
     "data": {
      "application/vnd.jupyter.widget-view+json": {
       "model_id": "b1ae94cce0d64d468de4ab02a29a91bb",
       "version_major": 2,
       "version_minor": 0
      },
      "text/plain": [
       "HBox(children=(Image(value=b'GIF89a\\x15\\x01q\\x01\\xf6\\x00\\x00\\x01\\x01\\x01\\x0c\\x0c\\x0c\\x14\\x14\\x14\\x1b\\x1b\\x1b6\\…"
      ]
     },
     "metadata": {},
     "output_type": "display_data"
    },
    {
     "name": "stdout",
     "output_type": "stream",
     "text": [
      "R295_1.2.752.24.7.621449243.3534942_1.3.12.2.1107.5.2.30.26380.2016100112095123977422639.0.0.0\n"
     ]
    },
    {
     "data": {
      "application/vnd.jupyter.widget-view+json": {
       "model_id": "3c0cf450eff9439482e028634ab4aaae",
       "version_major": 2,
       "version_minor": 0
      },
      "text/plain": [
       "HBox(children=(Image(value=b'GIF89a\\x15\\x01q\\x01\\xf6\\x00\\x00\\x01\\x01\\x01\\x0c\\x0c\\x0c\\x14\\x14\\x14\\x1b\\x1b\\x1b2\\…"
      ]
     },
     "metadata": {},
     "output_type": "display_data"
    }
   ],
   "source": [
    "negative_glob = vs_path.glob(\"R*\")\n",
    "negative_ids = [file.stem for file in negative_glob]\n",
    "\n",
    "for negative_id in negative_ids:\n",
    "    print(negative_id)\n",
    "    vs_img_path = vs_path / (negative_id + \".png\")\n",
    "    vs_gif_path = gifs_path / (negative_id + \".gif\")\n",
    "    \n",
    "    vs_img_file = open(vs_img_path, \"rb\")\n",
    "    vs_gif_file = open(vs_gif_path, \"rb\")\n",
    "    \n",
    "    wi1 = widgets.Image(value=vs_gif_file.read(), format='png')\n",
    "    wi2 = widgets.Image(value=vs_img_file.read(), format='png')\n",
    "    \n",
    "    sidebyside = widgets.HBox([wi1, wi2])\n",
    "    ## Finally, show.\n",
    "    display.display(sidebyside)\n",
    "    \n",
    "    vs_img_file.close()\n",
    "    vs_gif_file.close()"
   ]
  },
  {
   "cell_type": "code",
   "execution_count": null,
   "id": "prospective-snowboard",
   "metadata": {},
   "outputs": [],
   "source": []
  }
 ],
 "metadata": {
  "kernelspec": {
   "display_name": "Python 3",
   "language": "python",
   "name": "python3"
  },
  "language_info": {
   "codemirror_mode": {
    "name": "ipython",
    "version": 3
   },
   "file_extension": ".py",
   "mimetype": "text/x-python",
   "name": "python",
   "nbconvert_exporter": "python",
   "pygments_lexer": "ipython3",
   "version": "3.7.7"
  }
 },
 "nbformat": 4,
 "nbformat_minor": 5
}
