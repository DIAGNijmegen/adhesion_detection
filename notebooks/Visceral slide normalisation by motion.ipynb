{
 "cells": [
  {
   "cell_type": "code",
   "execution_count": 8,
   "id": "pediatric-mediterranean",
   "metadata": {},
   "outputs": [],
   "source": [
    "from pathlib import Path\n",
    "import random\n",
    "import numpy as np\n",
    "import matplotlib.pyplot as plt\n",
    "import SimpleITK as sitk\n",
    "from skimage import io\n",
    "import IPython.display as display\n",
    "from IPython.display import Image\n",
    "import ipywidgets as widgets\n",
    "%matplotlib inline"
   ]
  },
  {
   "cell_type": "code",
   "execution_count": 9,
   "id": "robust-timber",
   "metadata": {},
   "outputs": [],
   "source": [
    "results_path = Path(\"../../../Project/abdomenmrus-cinemri-registration/test\")"
   ]
  },
  {
   "cell_type": "code",
   "execution_count": 13,
   "id": "royal-appearance",
   "metadata": {},
   "outputs": [
    {
     "data": {
      "application/vnd.jupyter.widget-view+json": {
       "model_id": "c81d16f427934e389d40cffa79c7161b",
       "version_major": 2,
       "version_minor": 0
      },
      "text/plain": [
       "HBox(children=(Image(value=b'GIF89a\\x15\\x01q\\x01\\xf6\\x00\\x00\\x01\\x01\\x01\\x0c\\x0c\\x0c\\x14\\x14\\x14\\x1c\\x1c\\x1c9\\…"
      ]
     },
     "metadata": {},
     "output_type": "display_data"
    },
    {
     "data": {
      "application/vnd.jupyter.widget-view+json": {
       "model_id": "152bec839cc2446daf18b37920fec8ea",
       "version_major": 2,
       "version_minor": 0
      },
      "text/plain": [
       "HBox(children=(Image(value=b'\\x89PNG\\r\\n\\x1a\\n\\x00\\x00\\x00\\rIHDR\\x00\\x00\\x01w\\x00\\x00\\x01\\x8e\\x08\\x06\\x00\\x00\\…"
      ]
     },
     "metadata": {},
     "output_type": "display_data"
    },
    {
     "data": {
      "application/vnd.jupyter.widget-view+json": {
       "model_id": "a3a5acb5769b448a84ddf4ae87bab617",
       "version_major": 2,
       "version_minor": 0
      },
      "text/plain": [
       "HBox(children=(Image(value=b'GIF89a\\x15\\x01q\\x01\\xf6\\x00\\x00\\x01\\x01\\x01\\x0c\\x0c\\x0c\\x14\\x14\\x14\\x1c\\x1c\\x1c?\\…"
      ]
     },
     "metadata": {},
     "output_type": "display_data"
    },
    {
     "data": {
      "application/vnd.jupyter.widget-view+json": {
       "model_id": "f6ad98791c264fc2aa5a4480ed0397e0",
       "version_major": 2,
       "version_minor": 0
      },
      "text/plain": [
       "HBox(children=(Image(value=b'\\x89PNG\\r\\n\\x1a\\n\\x00\\x00\\x00\\rIHDR\\x00\\x00\\x01\\x88\\x00\\x00\\x01\\x8e\\x08\\x06\\x00\\x…"
      ]
     },
     "metadata": {},
     "output_type": "display_data"
    },
    {
     "data": {
      "application/vnd.jupyter.widget-view+json": {
       "model_id": "81227cee83cf48488b4e7924efc8abe6",
       "version_major": 2,
       "version_minor": 0
      },
      "text/plain": [
       "HBox(children=(Image(value=b'GIF89a\\x15\\x01q\\x01\\xf6\\x00\\x00\\x01\\x01\\x01\\x0c\\x0c\\x0c\\x14\\x14\\x14\\x1b\\x1b\\x1b2\\…"
      ]
     },
     "metadata": {},
     "output_type": "display_data"
    },
    {
     "data": {
      "application/vnd.jupyter.widget-view+json": {
       "model_id": "222739af0e164121a0999b3013285726",
       "version_major": 2,
       "version_minor": 0
      },
      "text/plain": [
       "HBox(children=(Image(value=b'\\x89PNG\\r\\n\\x1a\\n\\x00\\x00\\x00\\rIHDR\\x00\\x00\\x01\\x88\\x00\\x00\\x01\\x8e\\x08\\x06\\x00\\x…"
      ]
     },
     "metadata": {},
     "output_type": "display_data"
    },
    {
     "data": {
      "application/vnd.jupyter.widget-view+json": {
       "model_id": "8c82609892254823a705509f8c973883",
       "version_major": 2,
       "version_minor": 0
      },
      "text/plain": [
       "HBox(children=(Image(value=b'GIF89a\\x15\\x01q\\x01\\xf6\\x00\\x00\\x01\\x01\\x01\\x0b\\x0b\\x0b\\x14\\x14\\x14\\x1c\\x1c\\x1c##…"
      ]
     },
     "metadata": {},
     "output_type": "display_data"
    },
    {
     "data": {
      "application/vnd.jupyter.widget-view+json": {
       "model_id": "006e0aaa55b44afe8d69b2e1c9a28c39",
       "version_major": 2,
       "version_minor": 0
      },
      "text/plain": [
       "HBox(children=(Image(value=b'\\x89PNG\\r\\n\\x1a\\n\\x00\\x00\\x00\\rIHDR\\x00\\x00\\x01\\x88\\x00\\x00\\x01\\x8e\\x08\\x06\\x00\\x…"
      ]
     },
     "metadata": {},
     "output_type": "display_data"
    },
    {
     "data": {
      "application/vnd.jupyter.widget-view+json": {
       "model_id": "3be5ee0eb59f4663be8ccf268bf4942c",
       "version_major": 2,
       "version_minor": 0
      },
      "text/plain": [
       "HBox(children=(Image(value=b'GIF89a\\x15\\x01q\\x01\\xf6\\x00\\x00\\x01\\x01\\x01\\x0c\\x0c\\x0c\\x14\\x14\\x14\\x1c\\x1c\\x1c##…"
      ]
     },
     "metadata": {},
     "output_type": "display_data"
    },
    {
     "data": {
      "application/vnd.jupyter.widget-view+json": {
       "model_id": "4cf4d9e635ac4514a2c4c49ee2158533",
       "version_major": 2,
       "version_minor": 0
      },
      "text/plain": [
       "HBox(children=(Image(value=b'\\x89PNG\\r\\n\\x1a\\n\\x00\\x00\\x00\\rIHDR\\x00\\x00\\x01\\x88\\x00\\x00\\x01\\x8e\\x08\\x06\\x00\\x…"
      ]
     },
     "metadata": {},
     "output_type": "display_data"
    }
   ],
   "source": [
    "for i in range(5):\n",
    "    gif_path = results_path / (\"annotated{}.gif\".format(i))\n",
    "    vs_path = results_path / (\"vs{}_1_df.png\".format(i))\n",
    "    vs_mean_path = results_path / (\"vs{}_1_df_norm_mean.png\".format(i))\n",
    "    vs_cm15_path = results_path / (\"vs{}_1_df_norm_new15.png\".format(i))\n",
    "    vs_top_excl_path = results_path / (\"vs{}_1_df_norm_new15_top_excl.png\".format(i))\n",
    "    vs_prior_left_path = results_path / (\"vs{}_1_df_norm_new15_prior.png\".format(i))\n",
    "    \n",
    "    gif_file = open(gif_path, \"rb\")\n",
    "    vs_file = open(vs_path, \"rb\")\n",
    "    vs_mean_file = open(vs_mean_path, \"rb\")\n",
    "    vs_cm15_file = open(vs_cm15_path, \"rb\")\n",
    "    vs_top_excl_file = open(vs_top_excl_path, \"rb\")\n",
    "    vs_prior_left_file = open(vs_prior_left_path, \"rb\")\n",
    "    \n",
    "    wi1 = widgets.Image(value=gif_file.read(), format='png')\n",
    "    wi2 = widgets.Image(value=vs_file.read(), format='png')\n",
    "    wi3 = widgets.Image(value=vs_mean_file.read(), format='png')\n",
    "    \n",
    "    sidebyside = widgets.HBox([wi1, wi2, wi3])\n",
    "    display.display(sidebyside)\n",
    "    \n",
    "    wi4 = widgets.Image(value=vs_cm15_file.read(), format='png')\n",
    "    wi5 = widgets.Image(value=vs_top_excl_file.read(), format='png')\n",
    "    wi6 = widgets.Image(value=vs_prior_left_file.read(), format='png')\n",
    "    \n",
    "    sidebyside = widgets.HBox([wi4, wi5, wi6])\n",
    "    display.display(sidebyside)\n",
    "    \n",
    "    gif_file.close()\n",
    "    vs_file.close()\n",
    "    vs_mean_file.close()\n",
    "    vs_cm15_file.close()\n",
    "    vs_top_excl_file.close()\n",
    "    vs_prior_left_file.close()"
   ]
  },
  {
   "cell_type": "code",
   "execution_count": null,
   "id": "subjective-empty",
   "metadata": {},
   "outputs": [],
   "source": []
  }
 ],
 "metadata": {
  "kernelspec": {
   "display_name": "Python 3",
   "language": "python",
   "name": "python3"
  },
  "language_info": {
   "codemirror_mode": {
    "name": "ipython",
    "version": 3
   },
   "file_extension": ".py",
   "mimetype": "text/x-python",
   "name": "python",
   "nbconvert_exporter": "python",
   "pygments_lexer": "ipython3",
   "version": "3.7.7"
  }
 },
 "nbformat": 4,
 "nbformat_minor": 5
}
