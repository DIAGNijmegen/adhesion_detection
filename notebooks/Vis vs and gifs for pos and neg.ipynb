{
 "cells": [
  {
   "cell_type": "code",
   "execution_count": 1,
   "id": "warming-rotation",
   "metadata": {},
   "outputs": [],
   "source": [
    "from pathlib import Path\n",
    "from skimage import io\n",
    "import numpy as np\n",
    "import matplotlib.pyplot as plt\n",
    "import IPython.display as display\n",
    "from IPython.display import Image\n",
    "import ipywidgets as widgets\n",
    "%matplotlib inline"
   ]
  },
  {
   "cell_type": "code",
   "execution_count": 2,
   "id": "arctic-services",
   "metadata": {},
   "outputs": [],
   "source": [
    "vs_path = Path(\"../../data/visualization/visceral_slide/cumulative_vs_contour_reg_full\")\n",
    "gifs_path = Path(\"../../experiments/detection_gifs\")"
   ]
  },
  {
   "cell_type": "markdown",
   "id": "former-morning",
   "metadata": {},
   "source": [
    "# Positive"
   ]
  },
  {
   "cell_type": "code",
   "execution_count": 3,
   "id": "strategic-criterion",
   "metadata": {},
   "outputs": [
    {
     "name": "stdout",
     "output_type": "stream",
     "text": [
      "ANON4U03RE1DB_1.2.752.24.7.621449243.4490940_1.3.12.2.1107.5.2.30.26380.2019051309524052613408667.0.0.0\n"
     ]
    },
    {
     "data": {
      "application/vnd.jupyter.widget-view+json": {
       "model_id": "53bc21fea68f4ab7aaf9ce64bfe838f4",
       "version_major": 2,
       "version_minor": 0
      },
      "text/plain": [
       "HBox(children=(Image(value=b'GIF89a\\x15\\x01q\\x01\\xf7\\x00\\x00\\x00\\x00\\x00\\x01\\x01\\x01\\x02\\x02\\x02\\x03\\x03\\x03\\x…"
      ]
     },
     "metadata": {},
     "output_type": "display_data"
    },
    {
     "name": "stdout",
     "output_type": "stream",
     "text": [
      "ANONN723RE1UR_1.2.752.24.7.621449243.4492314_1.3.12.2.1107.5.2.30.26380.2019050914292137466747347.0.0.0\n"
     ]
    },
    {
     "data": {
      "application/vnd.jupyter.widget-view+json": {
       "model_id": "4e813a09c1d440d3a236df059bef5508",
       "version_major": 2,
       "version_minor": 0
      },
      "text/plain": [
       "HBox(children=(Image(value=b'GIF89a\\x15\\x01q\\x01\\xf6\\x00\\x00\\x01\\x01\\x01\\x0b\\x0b\\x0b\\x14\\x14\\x14\\x1c\\x1c\\x1c6\\…"
      ]
     },
     "metadata": {},
     "output_type": "display_data"
    },
    {
     "name": "stdout",
     "output_type": "stream",
     "text": [
      "ANON30V2RE10K_1.2.752.24.7.621449243.4463171_1.3.12.2.1107.5.2.30.26380.2019040611294615361516074.0.0.0\n"
     ]
    },
    {
     "data": {
      "application/vnd.jupyter.widget-view+json": {
       "model_id": "f0d2aa2c5b8c48dcb620396bb935c8c0",
       "version_major": 2,
       "version_minor": 0
      },
      "text/plain": [
       "HBox(children=(Image(value=b'GIF89a\\x15\\x01q\\x01\\xf6\\x00\\x00\\x00\\x00\\x00\\r\\r\\r\\x14\\x14\\x14\\x1b\\x1b\\x1b5\\x03\\x0…"
      ]
     },
     "metadata": {},
     "output_type": "display_data"
    },
    {
     "name": "stdout",
     "output_type": "stream",
     "text": [
      "ANONBQV2RE1TL_1.2.752.24.7.621449243.4447116_1.3.12.2.1107.5.2.30.26380.2019042413222771394051286.0.0.0\n"
     ]
    },
    {
     "data": {
      "application/vnd.jupyter.widget-view+json": {
       "model_id": "3a8fec457b574d8d8c21a5b4fbd1d22e",
       "version_major": 2,
       "version_minor": 0
      },
      "text/plain": [
       "HBox(children=(Image(value=b'GIF89a\\x15\\x01q\\x01\\xf6\\x00\\x00\\x01\\x01\\x01\\x0c\\x0c\\x0c\\x14\\x14\\x14\\x1b\\x1b\\x1b6\\…"
      ]
     },
     "metadata": {},
     "output_type": "display_data"
    },
    {
     "name": "stdout",
     "output_type": "stream",
     "text": [
      "ANONVLTEPE1DL_1.2.752.24.7.621449243.4325333_1.3.12.2.1107.5.2.30.26380.201812031644485580669653.0.0.0\n"
     ]
    },
    {
     "data": {
      "application/vnd.jupyter.widget-view+json": {
       "model_id": "cd218c4875a54851b44d2319807bc37e",
       "version_major": 2,
       "version_minor": 0
      },
      "text/plain": [
       "HBox(children=(Image(value=b'GIF89a\\x15\\x01q\\x01\\xf5\\x00\\x00\\x02\\x02\\x02\\x0c\\x0c\\x0c\\x13\\x13\\x13\\x1b\\x1b\\x1b6\\…"
      ]
     },
     "metadata": {},
     "output_type": "display_data"
    },
    {
     "name": "stdout",
     "output_type": "stream",
     "text": [
      "ANON4SV2RE1ET_1.2.752.24.7.621449243.4474616_1.3.12.2.1107.5.2.30.26380.2019060311155223544425245.0.0.0\n"
     ]
    },
    {
     "data": {
      "application/vnd.jupyter.widget-view+json": {
       "model_id": "2d6d4684ccac4cab982e639fa7b5743f",
       "version_major": 2,
       "version_minor": 0
      },
      "text/plain": [
       "HBox(children=(Image(value=b'GIF89a\\x15\\x01q\\x01\\xf6\\x00\\x00\\x01\\x01\\x01\\x0c\\x0c\\x0c\\x14\\x14\\x14\\x1c\\x1c\\x1c6\\…"
      ]
     },
     "metadata": {},
     "output_type": "display_data"
    },
    {
     "name": "stdout",
     "output_type": "stream",
     "text": [
      "ANONTN13RE127_1.2.752.24.7.621449243.4463282_1.3.12.2.1107.5.2.30.26380.201905061109578189022688.0.0.0\n"
     ]
    },
    {
     "data": {
      "application/vnd.jupyter.widget-view+json": {
       "model_id": "b17262a3a3ba4775840e0ae094e813d1",
       "version_major": 2,
       "version_minor": 0
      },
      "text/plain": [
       "HBox(children=(Image(value=b'GIF89a\\x15\\x01q\\x01\\xf6\\x00\\x00\\x02\\x02\\x02\\x0c\\x0c\\x0c\\x14\\x14\\x14\\x1c\\x1c\\x1c4\\…"
      ]
     },
     "metadata": {},
     "output_type": "display_data"
    },
    {
     "name": "stdout",
     "output_type": "stream",
     "text": [
      "ANON7613RE1S5_1.2.752.24.7.621449243.4432439_1.3.12.2.1107.5.2.30.26380.2019041714480823565264581.0.0.0\n"
     ]
    },
    {
     "data": {
      "application/vnd.jupyter.widget-view+json": {
       "model_id": "516b9f76120c4232a94cebb91c093724",
       "version_major": 2,
       "version_minor": 0
      },
      "text/plain": [
       "HBox(children=(Image(value=b'GIF89a\\x15\\x01q\\x01\\xf6\\x00\\x00\\x01\\x01\\x01\\x0c\\x0c\\x0c\\x14\\x14\\x14\\x1c\\x1c\\x1c6\\…"
      ]
     },
     "metadata": {},
     "output_type": "display_data"
    },
    {
     "name": "stdout",
     "output_type": "stream",
     "text": [
      "ANONA523RE1VM_1.2.752.24.7.621449243.4465961_1.3.12.2.1107.5.2.30.26380.2019042412475820646639835.0.0.0\n"
     ]
    },
    {
     "data": {
      "application/vnd.jupyter.widget-view+json": {
       "model_id": "782a6fef59f44fefa30166e116dfd47c",
       "version_major": 2,
       "version_minor": 0
      },
      "text/plain": [
       "HBox(children=(Image(value=b'GIF89a\\x15\\x01q\\x01\\xf6\\x00\\x00\\x01\\x01\\x01\\x0b\\x0b\\x0b\\x14\\x14\\x14\\x1c\\x1c\\x1c6\\…"
      ]
     },
     "metadata": {},
     "output_type": "display_data"
    },
    {
     "name": "stdout",
     "output_type": "stream",
     "text": [
      "ANONVLTEPE1DL_1.2.752.24.7.621449243.4325333_1.3.12.2.1107.5.2.30.26380.2018120316464514960570273.0.0.0\n"
     ]
    },
    {
     "data": {
      "application/vnd.jupyter.widget-view+json": {
       "model_id": "ad43aea604144fda906ed15c7df070d5",
       "version_major": 2,
       "version_minor": 0
      },
      "text/plain": [
       "HBox(children=(Image(value=b'GIF89a\\x15\\x01q\\x01\\xf7\\x00\\x00\\x00\\x00\\x00\\x01\\x01\\x01\\x02\\x02\\x02\\x03\\x03\\x03\\x…"
      ]
     },
     "metadata": {},
     "output_type": "display_data"
    },
    {
     "name": "stdout",
     "output_type": "stream",
     "text": [
      "ANONVLTEPE1DL_1.2.752.24.7.621449243.4325333_1.3.12.2.1107.5.2.30.26380.201812031646035179970025.0.0.0\n"
     ]
    },
    {
     "data": {
      "application/vnd.jupyter.widget-view+json": {
       "model_id": "2063d252b14c4968846160de9012f436",
       "version_major": 2,
       "version_minor": 0
      },
      "text/plain": [
       "HBox(children=(Image(value=b'GIF89a\\x15\\x01q\\x01\\xf5\\x00\\x00\\x03\\x03\\x03\\x0c\\x0c\\x0c\\x13\\x13\\x13\\x1b\\x1b\\x1b6\\…"
      ]
     },
     "metadata": {},
     "output_type": "display_data"
    },
    {
     "name": "stdout",
     "output_type": "stream",
     "text": [
      "ANON4SV2RE1ET_1.2.752.24.7.621449243.4474616_1.3.12.2.1107.5.2.30.26380.2019060311131653190024186.0.0.0\n"
     ]
    },
    {
     "data": {
      "application/vnd.jupyter.widget-view+json": {
       "model_id": "007ff4ee949f4452a4886ac7ea080a7e",
       "version_major": 2,
       "version_minor": 0
      },
      "text/plain": [
       "HBox(children=(Image(value=b'GIF89a\\x15\\x01q\\x01\\xf5\\x00\\x00\\x01\\x01\\x01\\x0c\\x0c\\x0c\\x14\\x14\\x14\\x1b\\x1b\\x1b6\\…"
      ]
     },
     "metadata": {},
     "output_type": "display_data"
    },
    {
     "name": "stdout",
     "output_type": "stream",
     "text": [
      "ANON4I13RE1BS_1.2.752.24.7.621449243.4233643_1.3.12.2.1107.5.2.30.26380.2018091908505948323707410.0.0.0\n"
     ]
    },
    {
     "data": {
      "application/vnd.jupyter.widget-view+json": {
       "model_id": "159d8f91148646c5b4715b24a1ecfad1",
       "version_major": 2,
       "version_minor": 0
      },
      "text/plain": [
       "HBox(children=(Image(value=b'GIF89a\\x15\\x01q\\x01\\xf6\\x00\\x00\\x01\\x01\\x01\\x0b\\x0b\\x0b\\x14\\x14\\x14\\x1c\\x1c\\x1c7\\…"
      ]
     },
     "metadata": {},
     "output_type": "display_data"
    },
    {
     "name": "stdout",
     "output_type": "stream",
     "text": [
      "ANONP203RE1JR_1.2.752.24.7.621449243.4374998_1.3.12.2.1107.5.2.30.26380.2019022013503522225648680.0.0.0\n"
     ]
    },
    {
     "data": {
      "application/vnd.jupyter.widget-view+json": {
       "model_id": "dcb36d538f6c44ddb8bf12415b47c85d",
       "version_major": 2,
       "version_minor": 0
      },
      "text/plain": [
       "HBox(children=(Image(value=b'GIF89a\\x15\\x01q\\x01\\xf6\\x00\\x00\\x01\\x01\\x01\\x0c\\x0c\\x0c\\x14\\x14\\x14\\x1c\\x1c\\x1c3\\…"
      ]
     },
     "metadata": {},
     "output_type": "display_data"
    },
    {
     "name": "stdout",
     "output_type": "stream",
     "text": [
      "ANON0P03RE1MR_1.2.752.24.7.621449243.4375030_1.3.12.2.1107.5.2.30.26380.201901301010594525512025.0.0.0\n"
     ]
    },
    {
     "data": {
      "application/vnd.jupyter.widget-view+json": {
       "model_id": "14563090df4840deb0e1b8cd94fa64c7",
       "version_major": 2,
       "version_minor": 0
      },
      "text/plain": [
       "HBox(children=(Image(value=b'GIF89a\\x15\\x01q\\x01\\xf6\\x00\\x00\\x01\\x01\\x01\\x0c\\x0c\\x0c\\x14\\x14\\x14\\x1c\\x1c\\x1c5\\…"
      ]
     },
     "metadata": {},
     "output_type": "display_data"
    },
    {
     "name": "stdout",
     "output_type": "stream",
     "text": [
      "ANONBL13RE1F4_1.2.752.24.7.621449243.4262665_1.3.12.2.1107.5.2.30.26380.2018103111434028932912008.0.0.0\n"
     ]
    },
    {
     "data": {
      "application/vnd.jupyter.widget-view+json": {
       "model_id": "09ae57299715495da61f1cc10fb5bc5a",
       "version_major": 2,
       "version_minor": 0
      },
      "text/plain": [
       "HBox(children=(Image(value=b'GIF89a\\x15\\x01q\\x01\\xf6\\x00\\x00\\x01\\x01\\x01\\x0c\\x0c\\x0c\\x13\\x13\\x13\\x1b\\x1b\\x1b5\\…"
      ]
     },
     "metadata": {},
     "output_type": "display_data"
    },
    {
     "name": "stdout",
     "output_type": "stream",
     "text": [
      "ANONN223RE11A_1.2.752.24.7.621449243.4176782_1.3.12.2.1107.5.2.30.26380.2018091712543947045626016.0.0.0\n"
     ]
    },
    {
     "data": {
      "application/vnd.jupyter.widget-view+json": {
       "model_id": "4bb67e61968648b29a995e45fa521b40",
       "version_major": 2,
       "version_minor": 0
      },
      "text/plain": [
       "HBox(children=(Image(value=b'GIF89a\\x15\\x01q\\x01\\xf6\\x00\\x00\\x01\\x01\\x01\\x0c\\x0c\\x0c\\x14\\x14\\x14\\x1b\\x1b\\x1b5\\…"
      ]
     },
     "metadata": {},
     "output_type": "display_data"
    },
    {
     "name": "stdout",
     "output_type": "stream",
     "text": [
      "ANONVLTEPE1DL_1.2.752.24.7.621449243.4325333_1.3.12.2.1107.5.2.30.26380.2018120316435753343169405.0.0.0\n"
     ]
    },
    {
     "data": {
      "application/vnd.jupyter.widget-view+json": {
       "model_id": "206f0c9bd84a444f8273d48bc9fb628b",
       "version_major": 2,
       "version_minor": 0
      },
      "text/plain": [
       "HBox(children=(Image(value=b'GIF89a\\x15\\x01q\\x01\\xf6\\x00\\x00\\x03\\x03\\x03\\x0b\\x0b\\x0b\\x13\\x13\\x13\\x1b\\x1b\\x1b6\\…"
      ]
     },
     "metadata": {},
     "output_type": "display_data"
    },
    {
     "name": "stdout",
     "output_type": "stream",
     "text": [
      "ANONQ923RE1U7_1.2.752.24.7.621449243.4391055_1.3.12.2.1107.5.2.30.26380.2019030414455171682472657.0.0.0\n"
     ]
    },
    {
     "data": {
      "application/vnd.jupyter.widget-view+json": {
       "model_id": "643b346fae434220951ef1f997cb50a5",
       "version_major": 2,
       "version_minor": 0
      },
      "text/plain": [
       "HBox(children=(Image(value=b'GIF89a\\x15\\x01q\\x01\\xf6\\x00\\x00\\x01\\x01\\x01\\x0c\\x0c\\x0c\\x13\\x13\\x13\\x1b\\x1b\\x1b5\\…"
      ]
     },
     "metadata": {},
     "output_type": "display_data"
    },
    {
     "name": "stdout",
     "output_type": "stream",
     "text": [
      "ANON0603RE1RU_1.2.752.24.7.621449243.4464827_1.3.12.2.1107.5.2.30.26380.201905061347538473353674.0.0.0\n"
     ]
    },
    {
     "data": {
      "application/vnd.jupyter.widget-view+json": {
       "model_id": "7539e22d609e4975abd63069c31dc0fc",
       "version_major": 2,
       "version_minor": 0
      },
      "text/plain": [
       "HBox(children=(Image(value=b'GIF89a\\x15\\x01q\\x01\\xf6\\x00\\x00\\x01\\x01\\x01\\x0c\\x0c\\x0c\\x14\\x14\\x14\\x1b\\x1b\\x1b6\\…"
      ]
     },
     "metadata": {},
     "output_type": "display_data"
    },
    {
     "name": "stdout",
     "output_type": "stream",
     "text": [
      "ANONUS03RE1U2_1.2.752.24.7.621449243.4522159_1.3.12.2.1107.5.2.30.26380.2019053114152672050739235.0.0.0\n"
     ]
    },
    {
     "data": {
      "application/vnd.jupyter.widget-view+json": {
       "model_id": "ae7b80eebf5d41e7b45b200d295350e3",
       "version_major": 2,
       "version_minor": 0
      },
      "text/plain": [
       "HBox(children=(Image(value=b'GIF89a\\x15\\x01q\\x01\\xf6\\x00\\x00\\x01\\x01\\x01\\x0c\\x0c\\x0c\\x14\\x14\\x14\\x1c\\x1c\\x1c6\\…"
      ]
     },
     "metadata": {},
     "output_type": "display_data"
    },
    {
     "name": "stdout",
     "output_type": "stream",
     "text": [
      "ANONSR03RE19I_1.2.752.24.7.621449243.4468029_1.3.12.2.1107.5.2.30.26380.2019041712533170514844117.0.0.0\n"
     ]
    },
    {
     "data": {
      "application/vnd.jupyter.widget-view+json": {
       "model_id": "d6a4fe0902794fe79a0ff045f7c3dd6e",
       "version_major": 2,
       "version_minor": 0
      },
      "text/plain": [
       "HBox(children=(Image(value=b'GIF89a\\x15\\x01q\\x01\\xf6\\x00\\x00\\x01\\x01\\x01\\x0c\\x0c\\x0c\\x14\\x14\\x14\\x1b\\x1b\\x1b6\\…"
      ]
     },
     "metadata": {},
     "output_type": "display_data"
    },
    {
     "name": "stdout",
     "output_type": "stream",
     "text": [
      "ANONVLTEPE1DL_1.2.752.24.7.621449243.4325333_1.3.12.2.1107.5.2.30.26380.2018120316451094926769777.0.0.0\n"
     ]
    },
    {
     "data": {
      "application/vnd.jupyter.widget-view+json": {
       "model_id": "9427872d64bd40ab83b497ffc113324a",
       "version_major": 2,
       "version_minor": 0
      },
      "text/plain": [
       "HBox(children=(Image(value=b'GIF89a\\x15\\x01q\\x01\\xf5\\x00\\x00\\x01\\x01\\x01\\x0c\\x0c\\x0c\\x14\\x14\\x14\\x1b\\x1b\\x1b6\\…"
      ]
     },
     "metadata": {},
     "output_type": "display_data"
    },
    {
     "name": "stdout",
     "output_type": "stream",
     "text": [
      "ANON4I13RE1BS_1.2.752.24.7.621449243.4233643_1.3.12.2.1107.5.2.30.26380.2018091908530237991407906.0.0.0\n"
     ]
    },
    {
     "data": {
      "application/vnd.jupyter.widget-view+json": {
       "model_id": "a39579d1bcd84d9fb2c340eb042c74ee",
       "version_major": 2,
       "version_minor": 0
      },
      "text/plain": [
       "HBox(children=(Image(value=b'GIF89a\\x15\\x01q\\x01\\xf5\\x00\\x00\\x01\\x01\\x01\\x0c\\x0c\\x0c\\x14\\x14\\x14\\x1c\\x1c\\x1c6\\…"
      ]
     },
     "metadata": {},
     "output_type": "display_data"
    },
    {
     "name": "stdout",
     "output_type": "stream",
     "text": [
      "ANONKBV2RE1R5_1.2.752.24.7.621449243.4522172_1.3.12.2.1107.5.2.30.26380.2019060513042790125932407.0.0.0\n"
     ]
    },
    {
     "data": {
      "application/vnd.jupyter.widget-view+json": {
       "model_id": "5631900269a14e288b691e4cf2b29fec",
       "version_major": 2,
       "version_minor": 0
      },
      "text/plain": [
       "HBox(children=(Image(value=b'GIF89a\\x15\\x01q\\x01\\xf6\\x00\\x00\\x01\\x01\\x01\\x0c\\x0c\\x0c\\x14\\x14\\x14\\x1c\\x1c\\x1c5\\…"
      ]
     },
     "metadata": {},
     "output_type": "display_data"
    },
    {
     "name": "stdout",
     "output_type": "stream",
     "text": [
      "ANON4U03RE1DB_1.2.752.24.7.621449243.4490940_1.3.12.2.1107.5.2.30.26380.2019051309531677649208791.0.0.0\n"
     ]
    },
    {
     "data": {
      "application/vnd.jupyter.widget-view+json": {
       "model_id": "e9cd8de78b76415084e27bca84199bcb",
       "version_major": 2,
       "version_minor": 0
      },
      "text/plain": [
       "HBox(children=(Image(value=b'GIF89a\\x15\\x01q\\x01\\xf6\\x00\\x00\\x01\\x01\\x01\\x0c\\x0c\\x0c\\x14\\x14\\x14\\x1c\\x1c\\x1c5\\…"
      ]
     },
     "metadata": {},
     "output_type": "display_data"
    },
    {
     "name": "stdout",
     "output_type": "stream",
     "text": [
      "ANONO023RE1E2_1.2.752.24.7.621449243.4508417_1.3.12.2.1107.5.2.30.26380.2019052015273296974151068.0.0.0\n"
     ]
    },
    {
     "data": {
      "application/vnd.jupyter.widget-view+json": {
       "model_id": "36c31f28a15e4be9b92b7f75cd5182bb",
       "version_major": 2,
       "version_minor": 0
      },
      "text/plain": [
       "HBox(children=(Image(value=b'GIF89a\\x15\\x01q\\x01\\xf6\\x00\\x00\\x01\\x01\\x01\\x0b\\x0b\\x0b\\x14\\x14\\x14\\x1c\\x1c\\x1c5\\…"
      ]
     },
     "metadata": {},
     "output_type": "display_data"
    },
    {
     "name": "stdout",
     "output_type": "stream",
     "text": [
      "ANONKC13RE1LE_1.2.752.24.7.621449243.4301480_1.3.12.2.1107.5.2.30.26380.2018121013192060715648191.0.0.0\n"
     ]
    },
    {
     "data": {
      "application/vnd.jupyter.widget-view+json": {
       "model_id": "2b44e4a6133e443ca5102cd1a8c51e10",
       "version_major": 2,
       "version_minor": 0
      },
      "text/plain": [
       "HBox(children=(Image(value=b'GIF89a\\x15\\x01q\\x01\\xf6\\x00\\x00\\x01\\x01\\x01\\x0c\\x0c\\x0c\\x14\\x14\\x14\\x1c\\x1c\\x1c6\\…"
      ]
     },
     "metadata": {},
     "output_type": "display_data"
    },
    {
     "name": "stdout",
     "output_type": "stream",
     "text": [
      "ANON1VU2RE1NJ_1.2.752.24.7.621449243.4402848_1.3.12.2.1107.5.2.30.26380.2019031314253781003469789.0.0.0\n"
     ]
    },
    {
     "data": {
      "application/vnd.jupyter.widget-view+json": {
       "model_id": "3fb4482474664c5f9aac391dfa4b4d8f",
       "version_major": 2,
       "version_minor": 0
      },
      "text/plain": [
       "HBox(children=(Image(value=b'GIF89a\\x15\\x01q\\x01\\xf5\\x00\\x00\\x01\\x01\\x01\\x0c\\x0c\\x0c\\x14\\x14\\x14\\x1b\\x1b\\x1b6\\…"
      ]
     },
     "metadata": {},
     "output_type": "display_data"
    },
    {
     "name": "stdout",
     "output_type": "stream",
     "text": [
      "ANON3503RE18I_1.2.752.24.7.621449243.4452082_1.3.12.2.1107.5.2.30.26380.2019050311524394006651021.0.0.0\n"
     ]
    },
    {
     "data": {
      "application/vnd.jupyter.widget-view+json": {
       "model_id": "fbe02fb1d2b0475bacf2b4fe8cae4329",
       "version_major": 2,
       "version_minor": 0
      },
      "text/plain": [
       "HBox(children=(Image(value=b'GIF89a\\x15\\x01q\\x01\\xf6\\x00\\x00\\x01\\x01\\x01\\x0c\\x0c\\x0c\\x14\\x14\\x14\\x1c\\x1c\\x1c5\\…"
      ]
     },
     "metadata": {},
     "output_type": "display_data"
    },
    {
     "name": "stdout",
     "output_type": "stream",
     "text": [
      "ANON4I13RE1BS_1.2.752.24.7.621449243.4233643_1.3.12.2.1107.5.2.30.26380.201809190850201295507286.0.0.0\n"
     ]
    },
    {
     "data": {
      "application/vnd.jupyter.widget-view+json": {
       "model_id": "a93e713932cd4a7cb1f567d94e0fd8e2",
       "version_major": 2,
       "version_minor": 0
      },
      "text/plain": [
       "HBox(children=(Image(value=b'GIF89a\\x15\\x01q\\x01\\xf6\\x00\\x00\\x01\\x01\\x01\\x0c\\x0c\\x0c\\x14\\x14\\x14\\x1b\\x1b\\x1b5\\…"
      ]
     },
     "metadata": {},
     "output_type": "display_data"
    },
    {
     "name": "stdout",
     "output_type": "stream",
     "text": [
      "ANON7V03RE1ON_1.2.752.24.7.621449243.4517138_1.3.12.2.1107.5.2.30.26380.2019052715234389973262136.0.0.0\n"
     ]
    },
    {
     "data": {
      "application/vnd.jupyter.widget-view+json": {
       "model_id": "6ac4cc969c804caaa8d007029cbe90e9",
       "version_major": 2,
       "version_minor": 0
      },
      "text/plain": [
       "HBox(children=(Image(value=b'GIF89a\\x15\\x01q\\x01\\xf5\\x00\\x00\\x01\\x01\\x01\\x0c\\x0c\\x0c\\x13\\x13\\x13\\x1c\\x1c\\x1c5\\…"
      ]
     },
     "metadata": {},
     "output_type": "display_data"
    },
    {
     "name": "stdout",
     "output_type": "stream",
     "text": [
      "ANONP113RE113_1.2.752.24.7.621449243.4246810_1.3.12.2.1107.5.2.30.26380.2018102212581486660536504.0.0.0\n"
     ]
    },
    {
     "data": {
      "application/vnd.jupyter.widget-view+json": {
       "model_id": "27c3b2cd965c4e21a1cb17723a214500",
       "version_major": 2,
       "version_minor": 0
      },
      "text/plain": [
       "HBox(children=(Image(value=b'GIF89a\\x15\\x01q\\x01\\xf6\\x00\\x00\\x01\\x01\\x01\\x0c\\x0c\\x0c\\x13\\x13\\x13\\x1c\\x1c\\x1c4\\…"
      ]
     },
     "metadata": {},
     "output_type": "display_data"
    },
    {
     "name": "stdout",
     "output_type": "stream",
     "text": [
      "ANON4I13RE1BS_1.2.752.24.7.621449243.4233643_1.3.12.2.1107.5.2.30.26380.2018091908523152477207782.0.0.0\n"
     ]
    },
    {
     "data": {
      "application/vnd.jupyter.widget-view+json": {
       "model_id": "5aebff5eb3a84d369098fcb725eb33a4",
       "version_major": 2,
       "version_minor": 0
      },
      "text/plain": [
       "HBox(children=(Image(value=b'GIF89a\\x15\\x01q\\x01\\xf6\\x00\\x00\\x01\\x01\\x01\\x0c\\x0c\\x0c\\x14\\x14\\x14\\x1b\\x1b\\x1b6\\…"
      ]
     },
     "metadata": {},
     "output_type": "display_data"
    },
    {
     "name": "stdout",
     "output_type": "stream",
     "text": [
      "ANONE103RE1S5_1.2.752.24.7.621449243.4400773_1.3.12.2.1107.5.2.30.26380.2019021309334531614907520.0.0.0\n"
     ]
    },
    {
     "data": {
      "application/vnd.jupyter.widget-view+json": {
       "model_id": "1144b6fad4ef43cd903e53a035da3cd3",
       "version_major": 2,
       "version_minor": 0
      },
      "text/plain": [
       "HBox(children=(Image(value=b'GIF89a\\x15\\x01q\\x01\\xf6\\x00\\x00\\x02\\x02\\x02\\x0c\\x0c\\x0c\\x14\\x14\\x14\\x1b\\x1b\\x1b6\\…"
      ]
     },
     "metadata": {},
     "output_type": "display_data"
    },
    {
     "name": "stdout",
     "output_type": "stream",
     "text": [
      "ANON4U03RE1DB_1.2.752.24.7.621449243.4490940_1.3.12.2.1107.5.2.30.26380.2019051309543862796209039.0.0.0\n"
     ]
    },
    {
     "data": {
      "application/vnd.jupyter.widget-view+json": {
       "model_id": "d9f2a41cb5bd4a9b9ddad0491c7a9253",
       "version_major": 2,
       "version_minor": 0
      },
      "text/plain": [
       "HBox(children=(Image(value=b'GIF89a\\x15\\x01q\\x01\\xf6\\x00\\x00\\x01\\x01\\x01\\x0c\\x0c\\x0c\\x14\\x14\\x14\\x1b\\x1b\\x1b6\\…"
      ]
     },
     "metadata": {},
     "output_type": "display_data"
    },
    {
     "name": "stdout",
     "output_type": "stream",
     "text": [
      "ANONHQ03RE1LU_1.2.752.24.7.621449243.4359058_1.3.12.2.1107.5.2.30.26380.201902111408553555662403.0.0.0\n"
     ]
    },
    {
     "data": {
      "application/vnd.jupyter.widget-view+json": {
       "model_id": "1d4e1e4de7d84b87a10e24632ac58532",
       "version_major": 2,
       "version_minor": 0
      },
      "text/plain": [
       "HBox(children=(Image(value=b'GIF89a\\x15\\x01q\\x01\\xf6\\x00\\x00\\x00\\x00\\x00\\x0c\\x0c\\x0c\\x14\\x14\\x14\\x1b\\x1b\\x1b6\\…"
      ]
     },
     "metadata": {},
     "output_type": "display_data"
    },
    {
     "name": "stdout",
     "output_type": "stream",
     "text": [
      "ANONC423RE1AB_1.2.752.24.7.621449243.4290058_1.3.12.2.1107.5.2.30.26380.2018112713410524086741904.0.0.0\n"
     ]
    },
    {
     "data": {
      "application/vnd.jupyter.widget-view+json": {
       "model_id": "6da2c5a496244f7ba599c837811b9f93",
       "version_major": 2,
       "version_minor": 0
      },
      "text/plain": [
       "HBox(children=(Image(value=b'GIF89a\\x15\\x01q\\x01\\xf6\\x00\\x00\\x01\\x01\\x01\\x0c\\x0c\\x0c\\x14\\x14\\x14\\x1c\\x1c\\x1c6\\…"
      ]
     },
     "metadata": {},
     "output_type": "display_data"
    },
    {
     "name": "stdout",
     "output_type": "stream",
     "text": [
      "ANON4U03RE1DB_1.2.752.24.7.621449243.4490940_1.3.12.2.1107.5.2.30.26380.2019051309513389561108543.0.0.0\n"
     ]
    },
    {
     "data": {
      "application/vnd.jupyter.widget-view+json": {
       "model_id": "89c25be50cfe4161a432cefb41262bbc",
       "version_major": 2,
       "version_minor": 0
      },
      "text/plain": [
       "HBox(children=(Image(value=b'GIF89a\\x15\\x01q\\x01\\xf5\\x00\\x00\\x01\\x01\\x01\\r\\r\\r\\x14\\x14\\x14\\x1b\\x1b\\x1b6\\x03\\x0…"
      ]
     },
     "metadata": {},
     "output_type": "display_data"
    },
    {
     "name": "stdout",
     "output_type": "stream",
     "text": [
      "ANONHOV2RE1PO_1.2.752.24.7.621449243.4436266_1.3.12.2.1107.5.2.30.26380.2019041511444954183937084.0.0.0\n"
     ]
    },
    {
     "data": {
      "application/vnd.jupyter.widget-view+json": {
       "model_id": "de3be66bc387477fb783d714613987ba",
       "version_major": 2,
       "version_minor": 0
      },
      "text/plain": [
       "HBox(children=(Image(value=b'GIF89a\\x15\\x01q\\x01\\xf6\\x00\\x00\\x02\\x02\\x02\\x0c\\x0c\\x0c\\x14\\x14\\x14\\x1c\\x1c\\x1c4\\…"
      ]
     },
     "metadata": {},
     "output_type": "display_data"
    },
    {
     "name": "stdout",
     "output_type": "stream",
     "text": [
      "ANONJRTEPE1NJ_1.2.752.24.7.621449243.4198923_1.3.12.2.1107.5.2.30.26380.2018081313465712558828407.0.0.0\n"
     ]
    },
    {
     "data": {
      "application/vnd.jupyter.widget-view+json": {
       "model_id": "a28db793b2c24d9f83e97c7d33900b43",
       "version_major": 2,
       "version_minor": 0
      },
      "text/plain": [
       "HBox(children=(Image(value=b'GIF89a\\x15\\x01q\\x01\\xf6\\x00\\x00\\x01\\x01\\x01\\x0c\\x0c\\x0c\\x14\\x14\\x14\\x1c\\x1c\\x1c7\\…"
      ]
     },
     "metadata": {},
     "output_type": "display_data"
    },
    {
     "name": "stdout",
     "output_type": "stream",
     "text": [
      "ANON7T13RE1KK_1.2.752.24.7.621449243.4345197_1.3.12.2.1107.5.2.30.26380.2019011409495994654808754.0.0.0\n"
     ]
    },
    {
     "data": {
      "application/vnd.jupyter.widget-view+json": {
       "model_id": "69411ce217a243c5b7a3186c59bfc6e6",
       "version_major": 2,
       "version_minor": 0
      },
      "text/plain": [
       "HBox(children=(Image(value=b'GIF89a\\x15\\x01q\\x01\\xf6\\x00\\x00\\x01\\x01\\x01\\x0c\\x0c\\x0c\\x14\\x14\\x14\\x1c\\x1c\\x1c6\\…"
      ]
     },
     "metadata": {},
     "output_type": "display_data"
    },
    {
     "name": "stdout",
     "output_type": "stream",
     "text": [
      "ANON78V2RE1J5_1.2.752.24.7.621449243.4456574_1.3.12.2.1107.5.2.30.26380.2019050311064766194338890.0.0.0\n"
     ]
    },
    {
     "data": {
      "application/vnd.jupyter.widget-view+json": {
       "model_id": "74aa76cc999d4cd5a43044f734e13a59",
       "version_major": 2,
       "version_minor": 0
      },
      "text/plain": [
       "HBox(children=(Image(value=b'GIF89a\\x15\\x01q\\x01\\xf6\\x00\\x00\\x02\\x02\\x02\\x0c\\x0c\\x0c\\x14\\x14\\x14\\x1c\\x1c\\x1c5\\…"
      ]
     },
     "metadata": {},
     "output_type": "display_data"
    },
    {
     "name": "stdout",
     "output_type": "stream",
     "text": [
      "ANONTD03RE1GD_1.2.752.24.7.621449243.4375018_1.3.12.2.1107.5.2.30.26380.2019022014443034400472033.0.0.0\n"
     ]
    },
    {
     "data": {
      "application/vnd.jupyter.widget-view+json": {
       "model_id": "82938bacc3b0404ea437997bfff52d05",
       "version_major": 2,
       "version_minor": 0
      },
      "text/plain": [
       "HBox(children=(Image(value=b'GIF89a\\x15\\x01q\\x01\\xf6\\x00\\x00\\x01\\x01\\x01\\x0b\\x0b\\x0b\\x14\\x14\\x14\\x1c\\x1c\\x1c:\\…"
      ]
     },
     "metadata": {},
     "output_type": "display_data"
    },
    {
     "name": "stdout",
     "output_type": "stream",
     "text": [
      "ANONP703RE127_1.2.752.24.7.621449243.4502773_1.3.12.2.1107.5.2.30.26380.2019060415234321436755800.0.0.0\n"
     ]
    },
    {
     "data": {
      "application/vnd.jupyter.widget-view+json": {
       "model_id": "212587499ec3491ba67f1df4d50ae6f5",
       "version_major": 2,
       "version_minor": 0
      },
      "text/plain": [
       "HBox(children=(Image(value=b'GIF89a\\x15\\x01q\\x01\\xf6\\x00\\x00\\x00\\x00\\x00\\x0c\\x0c\\x0c\\x13\\x13\\x13\\x1b\\x1b\\x1b5\\…"
      ]
     },
     "metadata": {},
     "output_type": "display_data"
    },
    {
     "name": "stdout",
     "output_type": "stream",
     "text": [
      "ANONSL03RE121_1.2.752.24.7.621449243.4447124_1.3.12.2.1107.5.2.30.26380.2019042413490990588260588.0.0.0\n"
     ]
    },
    {
     "data": {
      "application/vnd.jupyter.widget-view+json": {
       "model_id": "d01195e5b14c437c8c98e071050d55b2",
       "version_major": 2,
       "version_minor": 0
      },
      "text/plain": [
       "HBox(children=(Image(value=b'GIF89a\\x15\\x01q\\x01\\xf6\\x00\\x00\\x01\\x01\\x01\\x0c\\x0c\\x0c\\x14\\x14\\x14\\x1c\\x1c\\x1c6\\…"
      ]
     },
     "metadata": {},
     "output_type": "display_data"
    },
    {
     "name": "stdout",
     "output_type": "stream",
     "text": [
      "ANONP5AEPE1G8_1.2.752.24.7.621449243.4207770_1.3.12.2.1107.5.2.30.26380.2018090412174045423733657.0.0.0\n"
     ]
    },
    {
     "data": {
      "application/vnd.jupyter.widget-view+json": {
       "model_id": "59f73846ad3746b9874bb0a236da0544",
       "version_major": 2,
       "version_minor": 0
      },
      "text/plain": [
       "HBox(children=(Image(value=b'GIF89a\\x15\\x01q\\x01\\xf6\\x00\\x00\\x00\\x00\\x00\\x0c\\x0c\\x0c\\x14\\x14\\x14\\x1b\\x1b\\x1b6\\…"
      ]
     },
     "metadata": {},
     "output_type": "display_data"
    },
    {
     "name": "stdout",
     "output_type": "stream",
     "text": [
      "ANONFDV2RE1BC_1.2.752.24.7.621449243.4464826_1.3.12.2.1107.5.2.30.26380.2019061211285036872529085.0.0.0\n"
     ]
    },
    {
     "data": {
      "application/vnd.jupyter.widget-view+json": {
       "model_id": "a273f63e98294db8bb2e36282e8c4e4f",
       "version_major": 2,
       "version_minor": 0
      },
      "text/plain": [
       "HBox(children=(Image(value=b'GIF89a\\x15\\x01q\\x01\\xf6\\x00\\x00\\x01\\x01\\x01\\x0b\\x0b\\x0b\\x14\\x14\\x14\\x1c\\x1c\\x1c6\\…"
      ]
     },
     "metadata": {},
     "output_type": "display_data"
    },
    {
     "name": "stdout",
     "output_type": "stream",
     "text": [
      "ANON7713RE17I_1.2.752.24.7.621449243.4464828_1.3.12.2.1107.5.2.30.26380.2019050614155217764471031.0.0.0\n"
     ]
    },
    {
     "data": {
      "application/vnd.jupyter.widget-view+json": {
       "model_id": "98d83280110e40a6b46d91c69da1ee28",
       "version_major": 2,
       "version_minor": 0
      },
      "text/plain": [
       "HBox(children=(Image(value=b'GIF89a\\x15\\x01q\\x01\\xf6\\x00\\x00\\x02\\x02\\x02\\x0b\\x0b\\x0b\\x14\\x14\\x14\\x1c\\x1c\\x1c6\\…"
      ]
     },
     "metadata": {},
     "output_type": "display_data"
    },
    {
     "name": "stdout",
     "output_type": "stream",
     "text": [
      "ANONRJTEPE1KA_1.2.752.24.7.621449243.4296025_1.3.12.2.1107.5.2.30.26380.2018112110480993848529788.0.0.0\n"
     ]
    },
    {
     "data": {
      "application/vnd.jupyter.widget-view+json": {
       "model_id": "b8a14a2c58ff476a9b5d34ddec50614b",
       "version_major": 2,
       "version_minor": 0
      },
      "text/plain": [
       "HBox(children=(Image(value=b'GIF89a\\x15\\x01q\\x01\\xf5\\x00\\x00\\x01\\x01\\x01\\x0c\\x0c\\x0c\\x13\\x13\\x13\\x1b\\x1b\\x1b6\\…"
      ]
     },
     "metadata": {},
     "output_type": "display_data"
    },
    {
     "name": "stdout",
     "output_type": "stream",
     "text": [
      "ANON4SV2RE1ET_1.2.752.24.7.621449243.4474616_1.3.12.2.1107.5.2.30.26380.2019060311143039607024310.0.0.0\n"
     ]
    },
    {
     "data": {
      "application/vnd.jupyter.widget-view+json": {
       "model_id": "1ae60b33d38c436aa8f2440c0a05d2a5",
       "version_major": 2,
       "version_minor": 0
      },
      "text/plain": [
       "HBox(children=(Image(value=b'GIF89a\\x15\\x01q\\x01\\xf6\\x00\\x00\\x01\\x01\\x01\\x0c\\x0c\\x0c\\x14\\x14\\x14\\x1c\\x1c\\x1c7\\…"
      ]
     },
     "metadata": {},
     "output_type": "display_data"
    },
    {
     "name": "stdout",
     "output_type": "stream",
     "text": [
      "ANONC623RE1MF_1.2.752.24.7.621449243.4457506_1.3.12.2.1107.5.2.30.26380.2019060414385335929144572.0.0.0\n"
     ]
    },
    {
     "data": {
      "application/vnd.jupyter.widget-view+json": {
       "model_id": "03f23edde3f54ac7a18f120eb00b0ac8",
       "version_major": 2,
       "version_minor": 0
      },
      "text/plain": [
       "HBox(children=(Image(value=b'GIF89a\\x15\\x01q\\x01\\xf6\\x00\\x00\\x01\\x01\\x01\\x0c\\x0c\\x0c\\x14\\x14\\x14\\x1c\\x1c\\x1c6\\…"
      ]
     },
     "metadata": {},
     "output_type": "display_data"
    },
    {
     "name": "stdout",
     "output_type": "stream",
     "text": [
      "ANONU903RE1HQ_1.2.752.24.7.621449243.4176780_1.3.12.2.1107.5.2.30.26380.201808221121242018121767.0.0.0\n"
     ]
    },
    {
     "data": {
      "application/vnd.jupyter.widget-view+json": {
       "model_id": "ccdb7354b81e46b28949eefefd360b9f",
       "version_major": 2,
       "version_minor": 0
      },
      "text/plain": [
       "HBox(children=(Image(value=b'GIF89a\\x15\\x01q\\x01\\xf6\\x00\\x00\\x01\\x01\\x01\\x0c\\x0c\\x0c\\x13\\x13\\x13\\x1b\\x1b\\x1b6\\…"
      ]
     },
     "metadata": {},
     "output_type": "display_data"
    },
    {
     "name": "stdout",
     "output_type": "stream",
     "text": [
      "ANONGB03RE1P3_1.2.752.24.7.621449243.4225340_1.3.12.2.1107.5.2.30.26380.2018092111512390438729676.0.0.0\n"
     ]
    },
    {
     "data": {
      "application/vnd.jupyter.widget-view+json": {
       "model_id": "4546160ba43343e69ad43765b3f82be7",
       "version_major": 2,
       "version_minor": 0
      },
      "text/plain": [
       "HBox(children=(Image(value=b'GIF89a\\x15\\x01q\\x01\\xf6\\x00\\x00\\x01\\x01\\x01\\x0c\\x0c\\x0c\\x14\\x14\\x14\\x1c\\x1c\\x1c5\\…"
      ]
     },
     "metadata": {},
     "output_type": "display_data"
    },
    {
     "name": "stdout",
     "output_type": "stream",
     "text": [
      "ANON0V13RE11U_1.2.752.24.7.621449243.4493196_1.3.12.2.1107.5.2.30.26380.2019060513544978562547480.0.0.0\n"
     ]
    },
    {
     "data": {
      "application/vnd.jupyter.widget-view+json": {
       "model_id": "40ee3ccafa264043abc95aa7f1aadd21",
       "version_major": 2,
       "version_minor": 0
      },
      "text/plain": [
       "HBox(children=(Image(value=b'GIF89a\\x15\\x01q\\x01\\xf6\\x00\\x00\\x01\\x01\\x01\\x0c\\x0c\\x0c\\x14\\x14\\x14\\x1b\\x1b\\x1b5\\…"
      ]
     },
     "metadata": {},
     "output_type": "display_data"
    },
    {
     "name": "stdout",
     "output_type": "stream",
     "text": [
      "ANON1SU2RE1C9_1.2.752.24.7.621449243.4423531_1.3.12.2.1107.5.2.30.26380.2019022811285695114728351.0.0.0\n"
     ]
    },
    {
     "data": {
      "application/vnd.jupyter.widget-view+json": {
       "model_id": "c95597e3d0934560966342977087a492",
       "version_major": 2,
       "version_minor": 0
      },
      "text/plain": [
       "HBox(children=(Image(value=b'GIF89a\\x15\\x01q\\x01\\xf6\\x00\\x00\\x01\\x01\\x01\\x0b\\x0b\\x0b\\x14\\x14\\x14\\x1c\\x1c\\x1c5\\…"
      ]
     },
     "metadata": {},
     "output_type": "display_data"
    },
    {
     "name": "stdout",
     "output_type": "stream",
     "text": [
      "ANON85TEPE13J_1.2.752.24.7.621449243.4258567_1.3.12.2.1107.5.2.30.26380.2018102912125012802837411.0.0.0\n"
     ]
    },
    {
     "data": {
      "application/vnd.jupyter.widget-view+json": {
       "model_id": "2649cb7a0893475caf2059765a6ba8eb",
       "version_major": 2,
       "version_minor": 0
      },
      "text/plain": [
       "HBox(children=(Image(value=b'GIF89a\\x15\\x01q\\x01\\xf6\\x00\\x00\\x01\\x01\\x01\\x0c\\x0c\\x0c\\x14\\x14\\x14\\x1b\\x1b\\x1b4\\…"
      ]
     },
     "metadata": {},
     "output_type": "display_data"
    },
    {
     "name": "stdout",
     "output_type": "stream",
     "text": [
      "ANON1B13RE1B9_1.2.752.24.7.621449243.4455644_1.3.12.2.1107.5.2.30.26380.2019050109224494832618638.0.0.0\n"
     ]
    },
    {
     "data": {
      "application/vnd.jupyter.widget-view+json": {
       "model_id": "24d6ac79dd744a249004c843a4504356",
       "version_major": 2,
       "version_minor": 0
      },
      "text/plain": [
       "HBox(children=(Image(value=b'GIF89a\\x15\\x01q\\x01\\xf5\\x00\\x00\\x01\\x01\\x01\\x0c\\x0c\\x0c\\x14\\x14\\x14\\x1b\\x1b\\x1b5\\…"
      ]
     },
     "metadata": {},
     "output_type": "display_data"
    },
    {
     "name": "stdout",
     "output_type": "stream",
     "text": [
      "ANONF013RE1H6_1.2.752.24.7.621449243.4369479_1.3.12.2.1107.5.2.30.26380.2019021214213167521351637.0.0.0\n"
     ]
    },
    {
     "data": {
      "application/vnd.jupyter.widget-view+json": {
       "model_id": "ad042dc5eaed4e27a31170b5c7d5dd23",
       "version_major": 2,
       "version_minor": 0
      },
      "text/plain": [
       "HBox(children=(Image(value=b'GIF89a\\x15\\x01q\\x01\\xf6\\x00\\x00\\x01\\x01\\x01\\x0c\\x0c\\x0c\\x14\\x14\\x14\\x1c\\x1c\\x1c6\\…"
      ]
     },
     "metadata": {},
     "output_type": "display_data"
    },
    {
     "name": "stdout",
     "output_type": "stream",
     "text": [
      "ANONK823RE1I8_1.2.752.24.7.621449243.4522275_1.3.12.2.1107.5.2.30.26380.2019053112513250386226347.0.0.0\n"
     ]
    },
    {
     "data": {
      "application/vnd.jupyter.widget-view+json": {
       "model_id": "05ec4e22989844a6a00b6e17915ef539",
       "version_major": 2,
       "version_minor": 0
      },
      "text/plain": [
       "HBox(children=(Image(value=b'GIF89a\\x15\\x01q\\x01\\xf6\\x00\\x00\\x01\\x01\\x01\\x0c\\x0c\\x0c\\x14\\x14\\x14\\x1c\\x1c\\x1c6\\…"
      ]
     },
     "metadata": {},
     "output_type": "display_data"
    },
    {
     "name": "stdout",
     "output_type": "stream",
     "text": [
      "ANONBC03RE1U1_1.2.752.24.7.621449243.4243665_1.3.12.2.1107.5.2.30.26380.2018102611082691423619104.0.0.0\n"
     ]
    },
    {
     "data": {
      "application/vnd.jupyter.widget-view+json": {
       "model_id": "2a372e1e36724c8ebf7419d1e0c305d7",
       "version_major": 2,
       "version_minor": 0
      },
      "text/plain": [
       "HBox(children=(Image(value=b'GIF89a\\x15\\x01q\\x01\\xf6\\x00\\x00\\x01\\x01\\x01\\x0c\\x0c\\x0c\\x14\\x14\\x14\\x1b\\x1b\\x1b6\\…"
      ]
     },
     "metadata": {},
     "output_type": "display_data"
    },
    {
     "name": "stdout",
     "output_type": "stream",
     "text": [
      "ANONOUV2RE1GP_1.2.752.24.7.621449243.4492731_1.3.12.2.1107.5.2.30.26380.2019050811145048485626403.0.0.0\n"
     ]
    },
    {
     "data": {
      "application/vnd.jupyter.widget-view+json": {
       "model_id": "56fdd68be391455b98d2a68a4874d98f",
       "version_major": 2,
       "version_minor": 0
      },
      "text/plain": [
       "HBox(children=(Image(value=b'GIF89a\\x15\\x01q\\x01\\xf6\\x00\\x00\\x01\\x01\\x01\\x0b\\x0b\\x0b\\x14\\x14\\x14\\x1c\\x1c\\x1c6\\…"
      ]
     },
     "metadata": {},
     "output_type": "display_data"
    },
    {
     "name": "stdout",
     "output_type": "stream",
     "text": [
      "ANON5413RE145_1.2.752.24.7.621449243.4369429_1.3.12.2.1107.5.2.30.26380.2019022014242813429660537.0.0.0\n"
     ]
    },
    {
     "data": {
      "application/vnd.jupyter.widget-view+json": {
       "model_id": "48239c932b6c4d39afe49ef344710693",
       "version_major": 2,
       "version_minor": 0
      },
      "text/plain": [
       "HBox(children=(Image(value=b'GIF89a\\x15\\x01q\\x01\\xf6\\x00\\x00\\x01\\x01\\x01\\x0c\\x0c\\x0c\\x14\\x14\\x14\\x1b\\x1b\\x1b6\\…"
      ]
     },
     "metadata": {},
     "output_type": "display_data"
    }
   ],
   "source": [
    "positive_glob = vs_path.glob(\"ANON*\")\n",
    "positive_ids = [file.stem for file in positive_glob]\n",
    "\n",
    "for positive_id in positive_ids:\n",
    "    print(positive_id)\n",
    "    vs_img_path = vs_path / (positive_id + \".png\")\n",
    "    vs_gif_path = gifs_path / (positive_id + \".gif\")\n",
    "    \n",
    "    vs_img_file = open(vs_img_path, \"rb\")\n",
    "    vs_gif_file = open(vs_gif_path, \"rb\")\n",
    "    \n",
    "    wi1 = widgets.Image(value=vs_gif_file.read(), format='png')\n",
    "    wi2 = widgets.Image(value=vs_img_file.read(), format='png')\n",
    "    \n",
    "    sidebyside = widgets.HBox([wi1, wi2])\n",
    "    ## Finally, show.\n",
    "    display.display(sidebyside)\n",
    "    \n",
    "    vs_img_file.close()\n",
    "    vs_gif_file.close()"
   ]
  },
  {
   "cell_type": "markdown",
   "id": "first-works",
   "metadata": {},
   "source": [
    "# Negative"
   ]
  },
  {
   "cell_type": "code",
   "execution_count": 4,
   "id": "honey-ideal",
   "metadata": {},
   "outputs": [
    {
     "name": "stdout",
     "output_type": "stream",
     "text": [
      "R127_1.2.752.24.7.621449242.2550529_1.3.12.2.1107.5.2.30.26380.2013100212055054292524360.0.0.0\n"
     ]
    },
    {
     "data": {
      "application/vnd.jupyter.widget-view+json": {
       "model_id": "3bd05eccd8a84d3599c67994d53f2a1c",
       "version_major": 2,
       "version_minor": 0
      },
      "text/plain": [
       "HBox(children=(Image(value=b'GIF89a\\x15\\x01q\\x01\\xf6\\x00\\x00\\x01\\x01\\x01\\x0c\\x0c\\x0c\\x14\\x14\\x14\\x1b\\x1b\\x1b5\\…"
      ]
     },
     "metadata": {},
     "output_type": "display_data"
    },
    {
     "name": "stdout",
     "output_type": "stream",
     "text": [
      "R218_1.2.752.24.7.621449243.3011895_1.3.12.2.1107.5.2.30.26380.2015032715400720672749047.0.0.0\n"
     ]
    },
    {
     "data": {
      "application/vnd.jupyter.widget-view+json": {
       "model_id": "a6f6066740ba4eaa9995f0d0b629ac33",
       "version_major": 2,
       "version_minor": 0
      },
      "text/plain": [
       "HBox(children=(Image(value=b'GIF89a\\x15\\x01q\\x01\\xf6\\x00\\x00\\x01\\x01\\x01\\x0c\\x0c\\x0c\\x14\\x14\\x14\\x1c\\x1c\\x1c5\\…"
      ]
     },
     "metadata": {},
     "output_type": "display_data"
    },
    {
     "name": "stdout",
     "output_type": "stream",
     "text": [
      "R336_1.2.752.24.7.621449242.3707468_1.3.12.2.1107.5.2.30.26380.2017040312542375399830252.0.0.0\n"
     ]
    },
    {
     "data": {
      "application/vnd.jupyter.widget-view+json": {
       "model_id": "c21866039eab47a4b04f0d569c1ef662",
       "version_major": 2,
       "version_minor": 0
      },
      "text/plain": [
       "HBox(children=(Image(value=b'GIF89a\\x15\\x01q\\x01\\xf5\\x00\\x00\\x01\\x01\\x01\\x0c\\x0c\\x0c\\x14\\x14\\x14\\x1b\\x1b\\x1b6\\…"
      ]
     },
     "metadata": {},
     "output_type": "display_data"
    },
    {
     "name": "stdout",
     "output_type": "stream",
     "text": [
      "R537_1.2.752.24.7.3857403153.5091413_1.3.12.2.1107.5.2.41.169723.2020092110561559918531304.5.0.0\n"
     ]
    },
    {
     "data": {
      "application/vnd.jupyter.widget-view+json": {
       "model_id": "46e97f4e38c749da94dc76724774ec11",
       "version_major": 2,
       "version_minor": 0
      },
      "text/plain": [
       "HBox(children=(Image(value=b'GIF89aq\\x01q\\x01\\xf6\\x00\\x00\\x03\\x03\\x03\\x0c\\x0c\\x0c\\x14\\x14\\x14\\x1b\\x1b\\x1b7\\x04…"
      ]
     },
     "metadata": {},
     "output_type": "display_data"
    },
    {
     "name": "stdout",
     "output_type": "stream",
     "text": [
      "R241_1.2.752.24.7.621449242.3214251_1.3.12.2.1107.5.2.30.26380.2015111012052298033423304.0.0.0\n"
     ]
    },
    {
     "data": {
      "application/vnd.jupyter.widget-view+json": {
       "model_id": "74b99a40e8b34225aa3120647e973daa",
       "version_major": 2,
       "version_minor": 0
      },
      "text/plain": [
       "HBox(children=(Image(value=b'GIF89a\\x15\\x01q\\x01\\xf5\\x00\\x00\\x00\\x00\\x00\\x0c\\x0c\\x0c\\x13\\x13\\x13\\x1b\\x1b\\x1b5\\…"
      ]
     },
     "metadata": {},
     "output_type": "display_data"
    },
    {
     "name": "stdout",
     "output_type": "stream",
     "text": [
      "R358_1.2.752.24.7.621449243.3812996_1.3.12.2.1107.5.2.30.26380.2017072512124326223328679.0.0.0\n"
     ]
    },
    {
     "data": {
      "application/vnd.jupyter.widget-view+json": {
       "model_id": "7b5cc63805074d1baceb85089fa68fe7",
       "version_major": 2,
       "version_minor": 0
      },
      "text/plain": [
       "HBox(children=(Image(value=b'GIF89a\\x15\\x01q\\x01\\xf5\\x00\\x00\\x01\\x01\\x01\\x0c\\x0c\\x0c\\x13\\x13\\x13\\x1c\\x1c\\x1c6\\…"
      ]
     },
     "metadata": {},
     "output_type": "display_data"
    },
    {
     "name": "stdout",
     "output_type": "stream",
     "text": [
      "R226_1.2.752.24.7.621449242.3092810_1.3.12.2.1107.5.2.30.26380.20150701135618758048109.0.0.0\n"
     ]
    },
    {
     "data": {
      "application/vnd.jupyter.widget-view+json": {
       "model_id": "e9d2d1c9aa864cf9ab7b587081e06971",
       "version_major": 2,
       "version_minor": 0
      },
      "text/plain": [
       "HBox(children=(Image(value=b'GIF89a\\x15\\x01q\\x01\\xf6\\x00\\x00\\x01\\x01\\x01\\x0c\\x0c\\x0c\\x14\\x14\\x14\\x1b\\x1b\\x1b5\\…"
      ]
     },
     "metadata": {},
     "output_type": "display_data"
    },
    {
     "name": "stdout",
     "output_type": "stream",
     "text": [
      "R388_1.2.752.24.7.621449243.3960461_1.3.12.2.1107.5.2.30.26380.2017121915131369344944288.0.0.0\n"
     ]
    },
    {
     "data": {
      "application/vnd.jupyter.widget-view+json": {
       "model_id": "c32e883d7ba4440bb51fa9d0d9601663",
       "version_major": 2,
       "version_minor": 0
      },
      "text/plain": [
       "HBox(children=(Image(value=b'GIF89a\\x15\\x01q\\x01\\xf6\\x00\\x00\\x01\\x01\\x01\\x0b\\x0b\\x0b\\x14\\x14\\x14\\x1c\\x1c\\x1c6\\…"
      ]
     },
     "metadata": {},
     "output_type": "display_data"
    },
    {
     "name": "stdout",
     "output_type": "stream",
     "text": [
      "R408_1.2.752.24.7.621449243.4057309_1.3.12.2.1107.5.2.30.26380.2018040411340181551716716.0.0.0\n"
     ]
    },
    {
     "data": {
      "application/vnd.jupyter.widget-view+json": {
       "model_id": "af51983ee00c426dbe6953cca2d5c40e",
       "version_major": 2,
       "version_minor": 0
      },
      "text/plain": [
       "HBox(children=(Image(value=b'GIF89a\\x15\\x01q\\x01\\xf5\\x00\\x00\\x01\\x01\\x01\\x0c\\x0c\\x0c\\x14\\x14\\x14\\x1b\\x1b\\x1b6\\…"
      ]
     },
     "metadata": {},
     "output_type": "display_data"
    },
    {
     "name": "stdout",
     "output_type": "stream",
     "text": [
      "R110_1.2.752.24.7.621449242.2496567_1.3.12.2.1107.5.2.30.26380.2013071614361188837536432.0.0.0\n"
     ]
    },
    {
     "data": {
      "application/vnd.jupyter.widget-view+json": {
       "model_id": "0226e77de77a4d1eb78a69b71b1a7fb0",
       "version_major": 2,
       "version_minor": 0
      },
      "text/plain": [
       "HBox(children=(Image(value=b'GIF89a\\x15\\x01q\\x01\\xf6\\x00\\x00\\x01\\x01\\x01\\x0c\\x0c\\x0c\\x14\\x14\\x14\\x1b\\x1b\\x1b5\\…"
      ]
     },
     "metadata": {},
     "output_type": "display_data"
    },
    {
     "name": "stdout",
     "output_type": "stream",
     "text": [
      "R432_1.2.752.24.7.621449243.4174324_1.3.12.2.1107.5.2.30.26380.2018072711524330513832807.0.0.0\n"
     ]
    },
    {
     "data": {
      "application/vnd.jupyter.widget-view+json": {
       "model_id": "4a9d58633aa64b49a1e2b5660a9bcb4f",
       "version_major": 2,
       "version_minor": 0
      },
      "text/plain": [
       "HBox(children=(Image(value=b'GIF89a\\x15\\x01q\\x01\\xf6\\x00\\x00\\x01\\x01\\x01\\x0b\\x0b\\x0b\\x14\\x14\\x14\\x1c\\x1c\\x1c6\\…"
      ]
     },
     "metadata": {},
     "output_type": "display_data"
    },
    {
     "name": "stdout",
     "output_type": "stream",
     "text": [
      "R346_1.2.752.24.7.621449243.3762491_1.3.12.2.1107.5.2.30.26380.2017052318073346244269173.0.0.0\n"
     ]
    },
    {
     "data": {
      "application/vnd.jupyter.widget-view+json": {
       "model_id": "f3b075e64cd448759d02848a0f67d252",
       "version_major": 2,
       "version_minor": 0
      },
      "text/plain": [
       "HBox(children=(Image(value=b'GIF89a\\x15\\x01q\\x01\\xf6\\x00\\x00\\x01\\x01\\x01\\x0b\\x0b\\x0b\\x14\\x14\\x14\\x1c\\x1c\\x1c6\\…"
      ]
     },
     "metadata": {},
     "output_type": "display_data"
    },
    {
     "name": "stdout",
     "output_type": "stream",
     "text": [
      "R191_1.2.752.24.7.621449243.2848042_1.3.12.2.1107.5.2.30.26380.2014093011542874608034833.0.0.0\n"
     ]
    },
    {
     "data": {
      "application/vnd.jupyter.widget-view+json": {
       "model_id": "d1b703aee62b4e40b80ae362bb1d1946",
       "version_major": 2,
       "version_minor": 0
      },
      "text/plain": [
       "HBox(children=(Image(value=b'GIF89a\\x15\\x01q\\x01\\xf6\\x00\\x00\\x01\\x01\\x01\\x0c\\x0c\\x0c\\x14\\x14\\x14\\x1b\\x1b\\x1b4\\…"
      ]
     },
     "metadata": {},
     "output_type": "display_data"
    },
    {
     "name": "stdout",
     "output_type": "stream",
     "text": [
      "R113_1.2.752.24.7.621449242.2502782_1.3.12.2.1107.5.2.30.26380.2013080509531454587717311.0.0.0\n"
     ]
    },
    {
     "data": {
      "application/vnd.jupyter.widget-view+json": {
       "model_id": "9ecb9cb72a1444f9815e407e5bc2074a",
       "version_major": 2,
       "version_minor": 0
      },
      "text/plain": [
       "HBox(children=(Image(value=b'GIF89a\\x15\\x01q\\x01\\xf6\\x00\\x00\\x01\\x01\\x01\\x0c\\x0c\\x0c\\x14\\x14\\x14\\x1c\\x1c\\x1c3\\…"
      ]
     },
     "metadata": {},
     "output_type": "display_data"
    },
    {
     "name": "stdout",
     "output_type": "stream",
     "text": [
      "R488_1.2.752.24.7.3857403154.4823539_1.3.12.2.1107.5.2.41.169723.2020041411290542828144436.0.0.0\n"
     ]
    },
    {
     "data": {
      "application/vnd.jupyter.widget-view+json": {
       "model_id": "3d599b99ae7748e8ab41e6b226965dc1",
       "version_major": 2,
       "version_minor": 0
      },
      "text/plain": [
       "HBox(children=(Image(value=b'GIF89aq\\x01q\\x01\\xf6\\x00\\x00\\x04\\x04\\x04\\x0b\\x0b\\x0b\\x13\\x13\\x13\\x1b\\x1b\\x1b7\\x04…"
      ]
     },
     "metadata": {},
     "output_type": "display_data"
    },
    {
     "name": "stdout",
     "output_type": "stream",
     "text": [
      "R169_1.2.752.24.7.621449243.2743029_1.3.12.2.1107.5.2.30.26380.2014052114191327426844540.0.0.0\n"
     ]
    },
    {
     "data": {
      "application/vnd.jupyter.widget-view+json": {
       "model_id": "feeac32665fc4939b5470b634704b089",
       "version_major": 2,
       "version_minor": 0
      },
      "text/plain": [
       "HBox(children=(Image(value=b'GIF89a\\x15\\x01q\\x01\\xf5\\x00\\x00\\x01\\x01\\x01\\x0c\\x0c\\x0c\\x14\\x14\\x14\\x1b\\x1b\\x1b7\\…"
      ]
     },
     "metadata": {},
     "output_type": "display_data"
    },
    {
     "name": "stdout",
     "output_type": "stream",
     "text": [
      "R120_1.2.752.24.7.621449242.2520380_1.3.12.2.1107.5.2.30.26380.2013082612035531457425112.0.0.0\n"
     ]
    },
    {
     "data": {
      "application/vnd.jupyter.widget-view+json": {
       "model_id": "decb003cad3f4792b20125e0fdb156ca",
       "version_major": 2,
       "version_minor": 0
      },
      "text/plain": [
       "HBox(children=(Image(value=b'GIF89a\\x15\\x01q\\x01\\xf6\\x00\\x00\\x01\\x01\\x01\\x0c\\x0c\\x0c\\x14\\x14\\x14\\x1c\\x1c\\x1c6\\…"
      ]
     },
     "metadata": {},
     "output_type": "display_data"
    },
    {
     "name": "stdout",
     "output_type": "stream",
     "text": [
      "R268_1.2.752.24.7.621449243.3348362_1.3.12.2.1107.5.2.30.26380.2016042011035587365023980.0.0.0\n"
     ]
    },
    {
     "data": {
      "application/vnd.jupyter.widget-view+json": {
       "model_id": "62dc5fdd03724a7389733e4df7f12910",
       "version_major": 2,
       "version_minor": 0
      },
      "text/plain": [
       "HBox(children=(Image(value=b'GIF89a\\x15\\x01q\\x01\\xf6\\x00\\x00\\x01\\x01\\x01\\x0b\\x0b\\x0b\\x14\\x14\\x14\\x1c\\x1c\\x1c6\\…"
      ]
     },
     "metadata": {},
     "output_type": "display_data"
    },
    {
     "name": "stdout",
     "output_type": "stream",
     "text": [
      "R444_1.2.752.24.7.621449242.4597928_1.3.12.2.1107.5.2.41.169723.2019091813423277459299362.5.0.0\n"
     ]
    },
    {
     "data": {
      "application/vnd.jupyter.widget-view+json": {
       "model_id": "cb76c6338d5c46ed92273c7a7799648a",
       "version_major": 2,
       "version_minor": 0
      },
      "text/plain": [
       "HBox(children=(Image(value=b'GIF89aq\\x01q\\x01\\xf6\\x00\\x00\\x02\\x02\\x02\\x0b\\x0b\\x0b\\x14\\x14\\x14\\x1c\\x1c\\x1c6\\x04…"
      ]
     },
     "metadata": {},
     "output_type": "display_data"
    },
    {
     "name": "stdout",
     "output_type": "stream",
     "text": [
      "R151_1.2.752.24.7.621449242.2681576_1.3.12.2.1107.5.2.30.26380.2014031714055919768038851.0.0.0\n"
     ]
    },
    {
     "data": {
      "application/vnd.jupyter.widget-view+json": {
       "model_id": "554966cb12e8460d8b84fc8e037978bb",
       "version_major": 2,
       "version_minor": 0
      },
      "text/plain": [
       "HBox(children=(Image(value=b'GIF89a\\x15\\x01q\\x01\\xf5\\x00\\x00\\x01\\x01\\x01\\x0c\\x0c\\x0c\\x14\\x14\\x14\\x1c\\x1c\\x1c6\\…"
      ]
     },
     "metadata": {},
     "output_type": "display_data"
    },
    {
     "name": "stdout",
     "output_type": "stream",
     "text": [
      "R179_1.2.752.24.7.621449243.2758537_1.3.12.2.1107.5.2.30.26380.201406131126457398119359.0.0.0\n"
     ]
    },
    {
     "data": {
      "application/vnd.jupyter.widget-view+json": {
       "model_id": "370cb8ec38d34c9988e65d23d4c8955d",
       "version_major": 2,
       "version_minor": 0
      },
      "text/plain": [
       "HBox(children=(Image(value=b'GIF89a\\x15\\x01q\\x01\\xf6\\x00\\x00\\x01\\x01\\x01\\x0c\\x0c\\x0c\\x14\\x14\\x14\\x1b\\x1b\\x1b5\\…"
      ]
     },
     "metadata": {},
     "output_type": "display_data"
    },
    {
     "name": "stdout",
     "output_type": "stream",
     "text": [
      "R449_1.2.752.24.7.621449242.4619824_1.3.12.2.1107.5.2.41.169723.2019100711263311201652994.0.0.0\n"
     ]
    },
    {
     "data": {
      "application/vnd.jupyter.widget-view+json": {
       "model_id": "43b4cff4505c42ae8a20aaa0222641eb",
       "version_major": 2,
       "version_minor": 0
      },
      "text/plain": [
       "HBox(children=(Image(value=b'GIF89aq\\x01q\\x01\\xf6\\x00\\x00\\x03\\x03\\x03\\n\\n\\n\\x13\\x13\\x13\\x1c\\x1c\\x1c6\\x03\\x03:\\…"
      ]
     },
     "metadata": {},
     "output_type": "display_data"
    },
    {
     "name": "stdout",
     "output_type": "stream",
     "text": [
      "R213_1.2.752.24.7.621449243.2998981_1.3.12.2.1107.5.2.30.26380.2015030416005548311769371.0.0.0\n"
     ]
    },
    {
     "data": {
      "application/vnd.jupyter.widget-view+json": {
       "model_id": "e7b78ed35580477faaa22b737fa9b84a",
       "version_major": 2,
       "version_minor": 0
      },
      "text/plain": [
       "HBox(children=(Image(value=b'GIF89a\\x15\\x01q\\x01\\xf6\\x00\\x00\\x01\\x01\\x01\\x0c\\x0c\\x0c\\x14\\x14\\x14\\x1c\\x1c\\x1c6\\…"
      ]
     },
     "metadata": {},
     "output_type": "display_data"
    },
    {
     "name": "stdout",
     "output_type": "stream",
     "text": [
      "R556_1.2.752.24.7.3857403153.5178564_1.3.12.2.1107.5.2.41.169723.2020112311273792311833122.3.0.0\n"
     ]
    },
    {
     "data": {
      "application/vnd.jupyter.widget-view+json": {
       "model_id": "da13354ab0624cc198ad21f91a68f41b",
       "version_major": 2,
       "version_minor": 0
      },
      "text/plain": [
       "HBox(children=(Image(value=b'GIF89aq\\x01q\\x01\\xf6\\x00\\x00\\x02\\x02\\x02\\x0b\\x0b\\x0b\\x14\\x14\\x14\\x1c\\x1c\\x1c7\\x04…"
      ]
     },
     "metadata": {},
     "output_type": "display_data"
    },
    {
     "name": "stdout",
     "output_type": "stream",
     "text": [
      "R133_1.2.752.24.7.621449242.2599830_1.3.12.2.1107.5.2.30.26380.2013120312343114169530358.0.0.0\n"
     ]
    },
    {
     "data": {
      "application/vnd.jupyter.widget-view+json": {
       "model_id": "f8f4e2cf3c124ead9bd0afd1fce4fe44",
       "version_major": 2,
       "version_minor": 0
      },
      "text/plain": [
       "HBox(children=(Image(value=b'GIF89a\\x15\\x01q\\x01\\xf6\\x00\\x00\\x01\\x01\\x01\\x0c\\x0c\\x0c\\x14\\x14\\x14\\x1c\\x1c\\x1c6\\…"
      ]
     },
     "metadata": {},
     "output_type": "display_data"
    },
    {
     "name": "stdout",
     "output_type": "stream",
     "text": [
      "R083_1.2.752.24.7.621449243.2305632_1.3.12.2.1107.5.2.30.26380.2012112813321419276036919.0.0.0\n"
     ]
    },
    {
     "data": {
      "application/vnd.jupyter.widget-view+json": {
       "model_id": "cad4d45688a14818ab8b90e4e6add1b5",
       "version_major": 2,
       "version_minor": 0
      },
      "text/plain": [
       "HBox(children=(Image(value=b'GIF89a\\x15\\x01q\\x01\\xf6\\x00\\x00\\x01\\x01\\x01\\x0c\\x0c\\x0c\\x14\\x14\\x14\\x1b\\x1b\\x1b9\\…"
      ]
     },
     "metadata": {},
     "output_type": "display_data"
    },
    {
     "name": "stdout",
     "output_type": "stream",
     "text": [
      "R108_1.2.752.24.7.621449242.2481264_1.3.12.2.1107.5.2.30.26380.2013062812372370404518604.0.0.0\n"
     ]
    },
    {
     "data": {
      "application/vnd.jupyter.widget-view+json": {
       "model_id": "c349dd9f6ded473cb6103f59fd4f1ed4",
       "version_major": 2,
       "version_minor": 0
      },
      "text/plain": [
       "HBox(children=(Image(value=b'GIF89a\\x15\\x01q\\x01\\xf6\\x00\\x00\\x01\\x01\\x01\\x0c\\x0c\\x0c\\x14\\x14\\x14\\x1c\\x1c\\x1c6\\…"
      ]
     },
     "metadata": {},
     "output_type": "display_data"
    },
    {
     "name": "stdout",
     "output_type": "stream",
     "text": [
      "R405_1.2.752.24.7.621449243.4042013_1.3.12.2.1107.5.2.30.26380.2018031608235426082703344.0.0.0\n"
     ]
    },
    {
     "data": {
      "application/vnd.jupyter.widget-view+json": {
       "model_id": "b1ca28ee4bf3461a85049d6970da2db3",
       "version_major": 2,
       "version_minor": 0
      },
      "text/plain": [
       "HBox(children=(Image(value=b'GIF89a,\\x01q\\x01\\xf6\\x00\\x00\\x01\\x01\\x01\\x0c\\x0c\\x0c\\x14\\x14\\x14\\x1c\\x1c\\x1c4\\x01…"
      ]
     },
     "metadata": {},
     "output_type": "display_data"
    },
    {
     "name": "stdout",
     "output_type": "stream",
     "text": [
      "R216_1.2.752.24.7.621449243.3011026_1.3.12.2.1107.5.2.30.26380.2015032513535830211233884.0.0.0\n"
     ]
    },
    {
     "data": {
      "application/vnd.jupyter.widget-view+json": {
       "model_id": "95e8f7fab24444938416fee0176f0612",
       "version_major": 2,
       "version_minor": 0
      },
      "text/plain": [
       "HBox(children=(Image(value=b'GIF89a\\x15\\x01q\\x01\\xf5\\x00\\x00\\x02\\x02\\x02\\x0c\\x0c\\x0c\\x14\\x14\\x14\\x1b\\x1b\\x1b4\\…"
      ]
     },
     "metadata": {},
     "output_type": "display_data"
    },
    {
     "name": "stdout",
     "output_type": "stream",
     "text": [
      "R262_1.2.752.24.7.621449243.3357347_1.3.12.2.1107.5.2.30.26380.2016040113415017407636536.0.0.0\n"
     ]
    },
    {
     "data": {
      "application/vnd.jupyter.widget-view+json": {
       "model_id": "6b6143566c2f45699b118bc6e296b962",
       "version_major": 2,
       "version_minor": 0
      },
      "text/plain": [
       "HBox(children=(Image(value=b'GIF89a\\x15\\x01q\\x01\\xf6\\x00\\x00\\x01\\x01\\x01\\x0c\\x0c\\x0c\\x14\\x14\\x14\\x1c\\x1c\\x1c6\\…"
      ]
     },
     "metadata": {},
     "output_type": "display_data"
    },
    {
     "name": "stdout",
     "output_type": "stream",
     "text": [
      "R538_1.2.752.24.7.3857403153.5086200_1.3.12.2.1107.5.2.41.169723.2020092811543695164632443.3.0.0\n"
     ]
    },
    {
     "data": {
      "application/vnd.jupyter.widget-view+json": {
       "model_id": "788dae47596d4d3e9a58fc30faafe396",
       "version_major": 2,
       "version_minor": 0
      },
      "text/plain": [
       "HBox(children=(Image(value=b'GIF89aq\\x01q\\x01\\xf6\\x00\\x00\\x02\\x02\\x02\\x0c\\x0c\\x0c\\x14\\x14\\x14\\x1b\\x1b\\x1b6\\x03…"
      ]
     },
     "metadata": {},
     "output_type": "display_data"
    },
    {
     "name": "stdout",
     "output_type": "stream",
     "text": [
      "R103_1.2.752.24.7.621449242.2459234_1.3.12.2.1107.5.2.30.26380.2013060713031521862929237.0.0.0\n"
     ]
    },
    {
     "data": {
      "application/vnd.jupyter.widget-view+json": {
       "model_id": "e1997ba50b9545e4ac71e3b1bb86cc8d",
       "version_major": 2,
       "version_minor": 0
      },
      "text/plain": [
       "HBox(children=(Image(value=b'GIF89a\\x15\\x01q\\x01\\xf6\\x00\\x00\\x01\\x01\\x01\\x0c\\x0c\\x0c\\x14\\x14\\x14\\x1b\\x1b\\x1b6\\…"
      ]
     },
     "metadata": {},
     "output_type": "display_data"
    },
    {
     "name": "stdout",
     "output_type": "stream",
     "text": [
      "R534_1.2.752.24.7.3857403153.5063314_1.3.12.2.1107.5.2.41.169723.2020091609340032458215238.5.0.0\n"
     ]
    },
    {
     "data": {
      "application/vnd.jupyter.widget-view+json": {
       "model_id": "65e93149a6414706b3dd00028eaf47ab",
       "version_major": 2,
       "version_minor": 0
      },
      "text/plain": [
       "HBox(children=(Image(value=b'GIF89aq\\x01q\\x01\\xf6\\x00\\x00\\x04\\x04\\x04\\x0b\\x0b\\x0b\\x13\\x13\\x13\\x1b\\x1b\\x1b:\\x07…"
      ]
     },
     "metadata": {},
     "output_type": "display_data"
    },
    {
     "name": "stdout",
     "output_type": "stream",
     "text": [
      "R341_1.2.752.24.7.621449242.3738849_1.3.12.2.1107.5.2.30.26380.2017051112245364152824253.0.0.0\n"
     ]
    },
    {
     "data": {
      "application/vnd.jupyter.widget-view+json": {
       "model_id": "217bb78dfebc4a818a117b06b38cff8a",
       "version_major": 2,
       "version_minor": 0
      },
      "text/plain": [
       "HBox(children=(Image(value=b'GIF89a\\x15\\x01q\\x01\\xf6\\x00\\x00\\x01\\x01\\x01\\x0c\\x0c\\x0c\\x14\\x14\\x14\\x1c\\x1c\\x1c5\\…"
      ]
     },
     "metadata": {},
     "output_type": "display_data"
    },
    {
     "name": "stdout",
     "output_type": "stream",
     "text": [
      "R469_1.2.752.24.7.3857403154.4714332_1.3.12.2.1107.5.2.41.169723.2020012211063114173547266.0.0.0\n"
     ]
    },
    {
     "data": {
      "application/vnd.jupyter.widget-view+json": {
       "model_id": "23cb97e645b34467b1c2af9a0351338a",
       "version_major": 2,
       "version_minor": 0
      },
      "text/plain": [
       "HBox(children=(Image(value=b'GIF89aq\\x01q\\x01\\xf5\\x00\\x00\\x02\\x02\\x02\\x0c\\x0c\\x0c\\x14\\x14\\x14\\x1b\\x1b\\x1b6\\x04…"
      ]
     },
     "metadata": {},
     "output_type": "display_data"
    },
    {
     "name": "stdout",
     "output_type": "stream",
     "text": [
      "R392_1.2.752.24.7.621449243.3980596_1.3.12.2.1107.5.2.30.26380.201801151242148638727880.0.0.0\n"
     ]
    },
    {
     "data": {
      "application/vnd.jupyter.widget-view+json": {
       "model_id": "f7b902c634944da7a461ff4badea99b5",
       "version_major": 2,
       "version_minor": 0
      },
      "text/plain": [
       "HBox(children=(Image(value=b'GIF89a\\x15\\x01q\\x01\\xf6\\x00\\x00\\x01\\x01\\x01\\x0c\\x0c\\x0c\\x14\\x14\\x14\\x1b\\x1b\\x1b5\\…"
      ]
     },
     "metadata": {},
     "output_type": "display_data"
    },
    {
     "name": "stdout",
     "output_type": "stream",
     "text": [
      "R125_1.2.752.24.7.621449242.2535742_1.3.12.2.1107.5.2.30.26380.2013091813212357494532283.0.0.0\n"
     ]
    },
    {
     "data": {
      "application/vnd.jupyter.widget-view+json": {
       "model_id": "0a194abb04e94c61a63e1751cbc3b1b5",
       "version_major": 2,
       "version_minor": 0
      },
      "text/plain": [
       "HBox(children=(Image(value=b'GIF89a\\x15\\x01q\\x01\\xf6\\x00\\x00\\x01\\x01\\x01\\x0c\\x0c\\x0c\\x14\\x14\\x14\\x1b\\x1b\\x1b5\\…"
      ]
     },
     "metadata": {},
     "output_type": "display_data"
    },
    {
     "name": "stdout",
     "output_type": "stream",
     "text": [
      "R473_1.2.752.24.7.3857403153.4748571_1.3.12.2.1107.5.2.41.169723.2020021213550382541814515.3.0.0\n"
     ]
    },
    {
     "data": {
      "application/vnd.jupyter.widget-view+json": {
       "model_id": "082383b97a784fdfb5f0526dadc75688",
       "version_major": 2,
       "version_minor": 0
      },
      "text/plain": [
       "HBox(children=(Image(value=b'GIF89aq\\x01q\\x01\\xf6\\x00\\x00\\x02\\x02\\x02\\x0b\\x0b\\x0b\\x14\\x14\\x14\\x1b\\x1b\\x1b6\\x04…"
      ]
     },
     "metadata": {},
     "output_type": "display_data"
    },
    {
     "name": "stdout",
     "output_type": "stream",
     "text": [
      "R084_1.2.752.24.7.621449242.2326161_1.3.12.2.1107.5.2.30.26380.2013010213055959580822752.0.0.0\n"
     ]
    },
    {
     "data": {
      "application/vnd.jupyter.widget-view+json": {
       "model_id": "7c7c73ce99ca49229495c06d8a9605b7",
       "version_major": 2,
       "version_minor": 0
      },
      "text/plain": [
       "HBox(children=(Image(value=b'GIF89a\\x15\\x01q\\x01\\xf6\\x00\\x00\\x01\\x01\\x01\\x0b\\x0b\\x0b\\x14\\x14\\x14\\x1b\\x1b\\x1b6\\…"
      ]
     },
     "metadata": {},
     "output_type": "display_data"
    },
    {
     "name": "stdout",
     "output_type": "stream",
     "text": [
      "R249_1.2.752.24.7.621449242.3256751_1.3.12.2.1107.5.2.30.26380.2015121613443553326921822.0.0.0\n"
     ]
    },
    {
     "data": {
      "application/vnd.jupyter.widget-view+json": {
       "model_id": "6060b8fe1cf348da823c2599c4383203",
       "version_major": 2,
       "version_minor": 0
      },
      "text/plain": [
       "HBox(children=(Image(value=b'GIF89a\\x15\\x01q\\x01\\xf6\\x00\\x00\\x00\\x00\\x00\\x0c\\x0c\\x0c\\x13\\x13\\x13\\x1c\\x1c\\x1c5\\…"
      ]
     },
     "metadata": {},
     "output_type": "display_data"
    },
    {
     "name": "stdout",
     "output_type": "stream",
     "text": [
      "R185_1.2.752.24.7.621449243.2824466_1.3.12.2.1107.5.2.30.26380.2014090211194171647421734.0.0.0\n"
     ]
    },
    {
     "data": {
      "application/vnd.jupyter.widget-view+json": {
       "model_id": "ae8e162809cb4a2ebee9c8b00eeb3d66",
       "version_major": 2,
       "version_minor": 0
      },
      "text/plain": [
       "HBox(children=(Image(value=b'GIF89a\\x15\\x01q\\x01\\xf6\\x00\\x00\\x00\\x00\\x00\\x0b\\x0b\\x0b\\x14\\x14\\x14\\x1b\\x1b\\x1b5\\…"
      ]
     },
     "metadata": {},
     "output_type": "display_data"
    },
    {
     "name": "stdout",
     "output_type": "stream",
     "text": [
      "R314_1.2.752.24.7.621449243.3617390_1.3.12.2.1107.5.2.30.26380.2017011814180497181953115.0.0.0\n"
     ]
    },
    {
     "data": {
      "application/vnd.jupyter.widget-view+json": {
       "model_id": "7b3c201d8379413993277a2d171baaa4",
       "version_major": 2,
       "version_minor": 0
      },
      "text/plain": [
       "HBox(children=(Image(value=b'GIF89a\\x15\\x01q\\x01\\xf6\\x00\\x00\\x01\\x01\\x01\\x0b\\x0b\\x0b\\x13\\x13\\x13\\x1c\\x1c\\x1c6\\…"
      ]
     },
     "metadata": {},
     "output_type": "display_data"
    },
    {
     "name": "stdout",
     "output_type": "stream",
     "text": [
      "R435_1.2.752.24.7.621449243.4563432_1.3.12.2.1107.5.2.41.169723.2019081414581982243596831.2.0.0\n"
     ]
    },
    {
     "data": {
      "application/vnd.jupyter.widget-view+json": {
       "model_id": "ab614b66e4a545ea86572c6a55ee6f2e",
       "version_major": 2,
       "version_minor": 0
      },
      "text/plain": [
       "HBox(children=(Image(value=b'GIF89aq\\x01q\\x01\\xf6\\x00\\x00\\x03\\x03\\x03\\x0b\\x0b\\x0b\\x14\\x14\\x14\\x1b\\x1b\\x1b7\\x04…"
      ]
     },
     "metadata": {},
     "output_type": "display_data"
    },
    {
     "name": "stdout",
     "output_type": "stream",
     "text": [
      "R311_1.2.752.24.7.621449242.3628546_1.3.12.2.1107.5.2.30.26380.201612201418047408338243.0.0.0\n"
     ]
    },
    {
     "data": {
      "application/vnd.jupyter.widget-view+json": {
       "model_id": "a1a7d467ac4f46b7b108a2fb3398cc6e",
       "version_major": 2,
       "version_minor": 0
      },
      "text/plain": [
       "HBox(children=(Image(value=b'GIF89a\\x15\\x01q\\x01\\xf6\\x00\\x00\\x01\\x01\\x01\\x0c\\x0c\\x0c\\x14\\x14\\x14\\x1c\\x1c\\x1c9\\…"
      ]
     },
     "metadata": {},
     "output_type": "display_data"
    },
    {
     "name": "stdout",
     "output_type": "stream",
     "text": [
      "R266_1.2.752.24.7.621449243.3369114_1.3.12.2.1107.5.2.30.26380.2016041314192391450446320.0.0.0\n"
     ]
    },
    {
     "data": {
      "application/vnd.jupyter.widget-view+json": {
       "model_id": "c8ef3ed89aa84007a0363404aabdc472",
       "version_major": 2,
       "version_minor": 0
      },
      "text/plain": [
       "HBox(children=(Image(value=b'GIF89a\\x15\\x01q\\x01\\xf6\\x00\\x00\\x01\\x01\\x01\\x0b\\x0b\\x0b\\x14\\x14\\x14\\x1c\\x1c\\x1c5\\…"
      ]
     },
     "metadata": {},
     "output_type": "display_data"
    },
    {
     "name": "stdout",
     "output_type": "stream",
     "text": [
      "R104_1.2.752.24.7.621449242.2459231_1.3.12.2.1107.5.2.30.26380.2013060715334882484067080.0.0.0\n"
     ]
    },
    {
     "data": {
      "application/vnd.jupyter.widget-view+json": {
       "model_id": "7895ac539e2947929f0bcd5acc9eecdd",
       "version_major": 2,
       "version_minor": 0
      },
      "text/plain": [
       "HBox(children=(Image(value=b'GIF89a\\x15\\x01q\\x01\\xf6\\x00\\x00\\x01\\x01\\x01\\x0b\\x0b\\x0b\\x14\\x14\\x14\\x1c\\x1c\\x1c6\\…"
      ]
     },
     "metadata": {},
     "output_type": "display_data"
    },
    {
     "name": "stdout",
     "output_type": "stream",
     "text": [
      "R220_1.2.752.24.7.621449243.3030114_1.3.12.2.1107.5.2.30.26380.2015041614395923197034968.0.0.0\n"
     ]
    },
    {
     "data": {
      "application/vnd.jupyter.widget-view+json": {
       "model_id": "599fd041b1b6403e95cb8c98bbec02c2",
       "version_major": 2,
       "version_minor": 0
      },
      "text/plain": [
       "HBox(children=(Image(value=b'GIF89a\\x15\\x01q\\x01\\xf6\\x00\\x00\\x01\\x01\\x01\\x0c\\x0c\\x0c\\x14\\x14\\x14\\x1c\\x1c\\x1c6\\…"
      ]
     },
     "metadata": {},
     "output_type": "display_data"
    },
    {
     "name": "stdout",
     "output_type": "stream",
     "text": [
      "R148_1.2.752.24.7.621449242.2681079_1.3.12.2.1107.5.2.30.26380.2014031013291164584429528.0.0.0\n"
     ]
    },
    {
     "data": {
      "application/vnd.jupyter.widget-view+json": {
       "model_id": "7b942a0a81004452807d1549c032b774",
       "version_major": 2,
       "version_minor": 0
      },
      "text/plain": [
       "HBox(children=(Image(value=b'GIF89aN\\x01q\\x01\\xf5\\x00\\x00\\x01\\x01\\x01\\x0c\\x0c\\x0c\\x13\\x13\\x13\\x1b\\x1b\\x1b6\\x03…"
      ]
     },
     "metadata": {},
     "output_type": "display_data"
    },
    {
     "name": "stdout",
     "output_type": "stream",
     "text": [
      "R317_1.2.752.24.7.621449242.3642595_1.3.12.2.1107.5.2.30.26380.2017012615242784711951430.0.0.0\n"
     ]
    },
    {
     "data": {
      "application/vnd.jupyter.widget-view+json": {
       "model_id": "023d7fdbfcf643af9456dbeccd2b9f27",
       "version_major": 2,
       "version_minor": 0
      },
      "text/plain": [
       "HBox(children=(Image(value=b'GIF89a\\x15\\x01q\\x01\\xf6\\x00\\x00\\x01\\x01\\x01\\x0c\\x0c\\x0c\\x14\\x14\\x14\\x1c\\x1c\\x1c5\\…"
      ]
     },
     "metadata": {},
     "output_type": "display_data"
    },
    {
     "name": "stdout",
     "output_type": "stream",
     "text": [
      "R128_1.2.752.24.7.621449242.2578483_1.3.12.2.1107.5.2.30.26380.2013110613234839696434569.0.0.0\n"
     ]
    },
    {
     "data": {
      "application/vnd.jupyter.widget-view+json": {
       "model_id": "1ed239b37776404bbf73b0b560e714d6",
       "version_major": 2,
       "version_minor": 0
      },
      "text/plain": [
       "HBox(children=(Image(value=b'GIF89a\\x15\\x01q\\x01\\xf6\\x00\\x00\\x01\\x01\\x01\\x0b\\x0b\\x0b\\x14\\x14\\x14\\x1c\\x1c\\x1c5\\…"
      ]
     },
     "metadata": {},
     "output_type": "display_data"
    },
    {
     "name": "stdout",
     "output_type": "stream",
     "text": [
      "R439_1.2.752.24.7.621449242.4575689_1.3.12.2.1107.5.2.41.169723.2019082811223689597539863.4.0.0\n"
     ]
    },
    {
     "data": {
      "application/vnd.jupyter.widget-view+json": {
       "model_id": "695897607e31414bb1372a07197b872a",
       "version_major": 2,
       "version_minor": 0
      },
      "text/plain": [
       "HBox(children=(Image(value=b'GIF89aq\\x01q\\x01\\xf6\\x00\\x00\\x03\\x03\\x03\\x0b\\x0b\\x0b\\x13\\x13\\x13\\x1c\\x1c\\x1c7\\x04…"
      ]
     },
     "metadata": {},
     "output_type": "display_data"
    },
    {
     "name": "stdout",
     "output_type": "stream",
     "text": [
      "R448_1.2.752.24.7.621449242.4597937_1.3.12.2.1107.5.2.41.169723.2019092312091399934450940.3.0.0\n"
     ]
    },
    {
     "data": {
      "application/vnd.jupyter.widget-view+json": {
       "model_id": "5a6b7e7133f14e599da46f96f36eb63f",
       "version_major": 2,
       "version_minor": 0
      },
      "text/plain": [
       "HBox(children=(Image(value=b'GIF89aq\\x01q\\x01\\xf6\\x00\\x00\\x03\\x03\\x03\\x0c\\x0c\\x0c\\x13\\x13\\x13\\x1c\\x1c\\x1c7\\x04…"
      ]
     },
     "metadata": {},
     "output_type": "display_data"
    },
    {
     "name": "stdout",
     "output_type": "stream",
     "text": [
      "R339_1.2.752.24.7.621449242.3725354_1.3.12.2.1107.5.2.30.26380.2017042614472292153064029.0.0.0\n"
     ]
    },
    {
     "data": {
      "application/vnd.jupyter.widget-view+json": {
       "model_id": "66a52225541d4593bfd59f537b02dcd9",
       "version_major": 2,
       "version_minor": 0
      },
      "text/plain": [
       "HBox(children=(Image(value=b'GIF89a\\x15\\x01q\\x01\\xf6\\x00\\x00\\x01\\x01\\x01\\x0c\\x0c\\x0c\\x14\\x14\\x14\\x1c\\x1c\\x1c6\\…"
      ]
     },
     "metadata": {},
     "output_type": "display_data"
    },
    {
     "name": "stdout",
     "output_type": "stream",
     "text": [
      "R166_1.2.752.24.7.621449243.2724402_1.3.12.2.1107.5.2.30.26380.2014042915281569274956975.0.0.0\n"
     ]
    },
    {
     "data": {
      "application/vnd.jupyter.widget-view+json": {
       "model_id": "f5b231eebcfc4d349090913b5dbc07f2",
       "version_major": 2,
       "version_minor": 0
      },
      "text/plain": [
       "HBox(children=(Image(value=b'GIF89a\\x15\\x01q\\x01\\xf5\\x00\\x00\\x01\\x01\\x01\\x0c\\x0c\\x0c\\x14\\x14\\x14\\x1c\\x1c\\x1c5\\…"
      ]
     },
     "metadata": {},
     "output_type": "display_data"
    },
    {
     "name": "stdout",
     "output_type": "stream",
     "text": [
      "R177_1.2.752.24.7.621449243.2752561_1.3.12.2.1107.5.2.30.26380.2014060414122089795136885.0.0.0\n"
     ]
    },
    {
     "data": {
      "application/vnd.jupyter.widget-view+json": {
       "model_id": "84d0c311dcb54d4688446773b5e667e9",
       "version_major": 2,
       "version_minor": 0
      },
      "text/plain": [
       "HBox(children=(Image(value=b'GIF89a\\x15\\x01q\\x01\\xf6\\x00\\x00\\x01\\x01\\x01\\x0c\\x0c\\x0c\\x14\\x14\\x14\\x1c\\x1c\\x1c5\\…"
      ]
     },
     "metadata": {},
     "output_type": "display_data"
    },
    {
     "name": "stdout",
     "output_type": "stream",
     "text": [
      "R457_1.2.752.24.7.621449242.4653098_1.3.12.2.1107.5.2.41.169723.201911131109068325437503.5.0.0\n"
     ]
    },
    {
     "data": {
      "application/vnd.jupyter.widget-view+json": {
       "model_id": "f8fe53c7cb2140ba8a3cf237bf26e5b9",
       "version_major": 2,
       "version_minor": 0
      },
      "text/plain": [
       "HBox(children=(Image(value=b'GIF89aq\\x01q\\x01\\xf6\\x00\\x00\\x03\\x03\\x03\\x0b\\x0b\\x0b\\x14\\x14\\x14\\x1c\\x1c\\x1c3\\x01…"
      ]
     },
     "metadata": {},
     "output_type": "display_data"
    },
    {
     "name": "stdout",
     "output_type": "stream",
     "text": [
      "R301_1.2.752.24.7.621449243.3550720_1.3.12.2.1107.5.2.30.26380.2016110713143514652345483.0.0.0\n"
     ]
    },
    {
     "data": {
      "application/vnd.jupyter.widget-view+json": {
       "model_id": "1395fb8a4a7f4421931f4df6f3aab9eb",
       "version_major": 2,
       "version_minor": 0
      },
      "text/plain": [
       "HBox(children=(Image(value=b'GIF89a\\x15\\x01q\\x01\\xf6\\x00\\x00\\x01\\x01\\x01\\x0b\\x0b\\x0b\\x13\\x13\\x13\\x1c\\x1c\\x1c7\\…"
      ]
     },
     "metadata": {},
     "output_type": "display_data"
    },
    {
     "name": "stdout",
     "output_type": "stream",
     "text": [
      "R285_1.2.752.24.7.621449243.3456935_1.3.12.2.1107.5.2.30.26380.2016070612515174118947735.0.0.0\n"
     ]
    },
    {
     "data": {
      "application/vnd.jupyter.widget-view+json": {
       "model_id": "01be7f3d158146ea949e5d5ba45c1033",
       "version_major": 2,
       "version_minor": 0
      },
      "text/plain": [
       "HBox(children=(Image(value=b'GIF89a\\x15\\x01q\\x01\\xf6\\x00\\x00\\x01\\x01\\x01\\x0b\\x0b\\x0b\\x14\\x14\\x14\\x1b\\x1b\\x1b5\\…"
      ]
     },
     "metadata": {},
     "output_type": "display_data"
    },
    {
     "name": "stdout",
     "output_type": "stream",
     "text": [
      "R190_1.2.752.24.7.621449243.2843373_1.3.12.2.1107.5.2.30.26380.201409231608037840956521.0.0.0\n"
     ]
    },
    {
     "data": {
      "application/vnd.jupyter.widget-view+json": {
       "model_id": "dc4c893c3fe44db2bd2275b03499adff",
       "version_major": 2,
       "version_minor": 0
      },
      "text/plain": [
       "HBox(children=(Image(value=b'GIF89a\\x15\\x01q\\x01\\xf6\\x00\\x00\\x01\\x01\\x01\\x0c\\x0c\\x0c\\x14\\x14\\x14\\x1c\\x1c\\x1c5\\…"
      ]
     },
     "metadata": {},
     "output_type": "display_data"
    },
    {
     "name": "stdout",
     "output_type": "stream",
     "text": [
      "R516_1.2.752.24.7.3857403154.4999183_1.3.12.2.1107.5.2.41.169723.2020070812200771500153169.0.0.0\n"
     ]
    },
    {
     "data": {
      "application/vnd.jupyter.widget-view+json": {
       "model_id": "970f6d96ab774f298c792ec7a08483df",
       "version_major": 2,
       "version_minor": 0
      },
      "text/plain": [
       "HBox(children=(Image(value=b'GIF89aq\\x01q\\x01\\xf6\\x00\\x00\\x03\\x03\\x03\\x0b\\x0b\\x0b\\x13\\x13\\x13\\x1b\\x1b\\x1b7\\x04…"
      ]
     },
     "metadata": {},
     "output_type": "display_data"
    },
    {
     "name": "stdout",
     "output_type": "stream",
     "text": [
      "R229_1.2.752.24.7.621449242.3108489_1.3.12.2.1107.5.2.30.26380.2015071014495873111844073.0.0.0\n"
     ]
    },
    {
     "data": {
      "application/vnd.jupyter.widget-view+json": {
       "model_id": "399f338705c94b81abb8aa2b7ced1b6e",
       "version_major": 2,
       "version_minor": 0
      },
      "text/plain": [
       "HBox(children=(Image(value=b'GIF89a\\x15\\x01q\\x01\\xf6\\x00\\x00\\x01\\x01\\x01\\x0c\\x0c\\x0c\\x14\\x14\\x14\\x1c\\x1c\\x1c6\\…"
      ]
     },
     "metadata": {},
     "output_type": "display_data"
    },
    {
     "name": "stdout",
     "output_type": "stream",
     "text": [
      "R371_1.2.752.24.7.621449242.3881451_1.3.12.2.1107.5.2.30.26380.2017092709275263704910842.0.0.0\n"
     ]
    },
    {
     "data": {
      "application/vnd.jupyter.widget-view+json": {
       "model_id": "91109a6c85fa46049a1783bc723e59ae",
       "version_major": 2,
       "version_minor": 0
      },
      "text/plain": [
       "HBox(children=(Image(value=b'GIF89a\\x15\\x01q\\x01\\xf6\\x00\\x00\\x01\\x01\\x01\\x0c\\x0c\\x0c\\x14\\x14\\x14\\x1c\\x1c\\x1c6\\…"
      ]
     },
     "metadata": {},
     "output_type": "display_data"
    },
    {
     "name": "stdout",
     "output_type": "stream",
     "text": [
      "R197_1.2.752.24.7.621449243.2863600_1.3.12.2.1107.5.2.30.26380.2014101710194723711418346.0.0.0\n"
     ]
    },
    {
     "data": {
      "application/vnd.jupyter.widget-view+json": {
       "model_id": "cdf0a0b113164dbaae7a154b522b15c5",
       "version_major": 2,
       "version_minor": 0
      },
      "text/plain": [
       "HBox(children=(Image(value=b'GIF89a\\x15\\x01q\\x01\\xf6\\x00\\x00\\x01\\x01\\x01\\x0b\\x0b\\x0b\\x14\\x14\\x14\\x1c\\x1c\\x1c6\\…"
      ]
     },
     "metadata": {},
     "output_type": "display_data"
    }
   ],
   "source": [
    "negative_glob = vs_path.glob(\"R*\")\n",
    "negative_ids = [file.stem for file in negative_glob]\n",
    "\n",
    "for negative_id in negative_ids:\n",
    "    print(negative_id)\n",
    "    vs_img_path = vs_path / (negative_id + \".png\")\n",
    "    vs_gif_path = gifs_path / (negative_id + \".gif\")\n",
    "    \n",
    "    vs_img_file = open(vs_img_path, \"rb\")\n",
    "    vs_gif_file = open(vs_gif_path, \"rb\")\n",
    "    \n",
    "    wi1 = widgets.Image(value=vs_gif_file.read(), format='png')\n",
    "    wi2 = widgets.Image(value=vs_img_file.read(), format='png')\n",
    "    \n",
    "    sidebyside = widgets.HBox([wi1, wi2])\n",
    "    ## Finally, show.\n",
    "    display.display(sidebyside)\n",
    "    \n",
    "    vs_img_file.close()\n",
    "    vs_gif_file.close()"
   ]
  },
  {
   "cell_type": "code",
   "execution_count": null,
   "id": "prospective-snowboard",
   "metadata": {},
   "outputs": [],
   "source": []
  }
 ],
 "metadata": {
  "kernelspec": {
   "display_name": "Python 3",
   "language": "python",
   "name": "python3"
  },
  "language_info": {
   "codemirror_mode": {
    "name": "ipython",
    "version": 3
   },
   "file_extension": ".py",
   "mimetype": "text/x-python",
   "name": "python",
   "nbconvert_exporter": "python",
   "pygments_lexer": "ipython3",
   "version": "3.7.7"
  }
 },
 "nbformat": 4,
 "nbformat_minor": 5
}
